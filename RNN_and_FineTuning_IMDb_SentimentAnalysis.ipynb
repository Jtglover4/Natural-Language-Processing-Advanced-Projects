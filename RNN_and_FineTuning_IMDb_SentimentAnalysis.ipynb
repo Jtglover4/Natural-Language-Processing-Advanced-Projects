{
  "cells": [
    {
      "cell_type": "markdown",
      "metadata": {
        "id": "kVCKsKZRQUqD"
      },
      "source": [
        "# Question 1 - RNNs\n",
        "\n",
        "In this section, you will implement a simple Recurrent Neural Network (RNN) from scratch to perform sequence prediction using the IMDb movie reviews dataset.\n",
        "\n",
        "![RNN.png](data:image/png;base64,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)"
      ]
    },
    {
      "cell_type": "markdown",
      "metadata": {
        "id": "j71WWCtN0Mci"
      },
      "source": [
        "#### Importing Libraries\n",
        "\n",
        "First we import the necessary libraries for data manipulation, model building, and training. No other libraries are allowed to be imported."
      ]
    },
    {
      "cell_type": "code",
      "execution_count": null,
      "metadata": {
        "id": "ChCCwjXNZL_m"
      },
      "outputs": [],
      "source": [
        "import numpy as np\n",
        "import gensim.downloader as api\n",
        "from gensim.models import FastText, KeyedVectors\n",
        "from tqdm import tqdm\n",
        "\n",
        "from tensorflow.keras.datasets import imdb\n",
        "from tensorflow.keras.preprocessing.sequence import pad_sequences\n",
        "from sklearn.model_selection import train_test_split\n",
        "import re"
      ]
    },
    {
      "cell_type": "markdown",
      "metadata": {
        "id": "EXz0kJe_0WEO"
      },
      "source": [
        "#### Load and Prepare Data\n",
        "\n",
        "Next, we load the IMDb dataset and prepare it for training."
      ]
    },
    {
      "cell_type": "code",
      "execution_count": null,
      "metadata": {
        "id": "3gSq5PBFaOXN"
      },
      "outputs": [],
      "source": [
        "vocab_size = 1000\n",
        "maxlen = 100"
      ]
    },
    {
      "cell_type": "code",
      "execution_count": null,
      "metadata": {
        "id": "RLL67eJtaPMK"
      },
      "outputs": [],
      "source": [
        "(x_train, _), (x_test, _) = imdb.load_data(num_words=vocab_size + 3, maxlen=maxlen)"
      ]
    },
    {
      "cell_type": "code",
      "execution_count": null,
      "metadata": {
        "id": "mycpHxZP0RW2"
      },
      "outputs": [],
      "source": [
        "# Create a one-hot encoded representation of the training data\n",
        "x_train_one_hot_encoded = np.zeros((x_train.shape[0], maxlen, vocab_size))\n",
        "\n",
        "# Iterate over each sample and each word index to set the one-hot value to 1\n",
        "for i in range(x_train.shape[0]):\n",
        "    for j in range(len(x_train[i])):\n",
        "        idx = x_train[i][j] - 3\n",
        "        if idx < 0:\n",
        "          idx = 0\n",
        "        x_train_one_hot_encoded[i, j, idx] = 1"
      ]
    },
    {
      "cell_type": "code",
      "execution_count": null,
      "metadata": {
        "id": "lwxWAb9TaQI5"
      },
      "outputs": [],
      "source": [
        "# Decode the dataset back into words to train Word2Vec\n",
        "word_index = imdb.get_word_index()\n",
        "index_word = {v: k for k, v in word_index.items() if v < vocab_size}\n",
        "\n",
        "x_train_words = [[index_word.get(idx-3, \"unk\") for idx in sequence] for sequence in x_train]\n",
        "x_test_words = [[index_word.get(idx-3, \"unk\") for idx in sequence] for sequence in x_test]"
      ]
    },
    {
      "cell_type": "code",
      "execution_count": null,
      "metadata": {
        "id": "HtlBNYZqPVKq"
      },
      "outputs": [],
      "source": [
        "embedding_model = api.load(\"glove-twitter-50\")\n",
        "embedding_size = embedding_model.vector_size"
      ]
    },
    {
      "cell_type": "code",
      "execution_count": null,
      "metadata": {
        "id": "LhTZB87gaRML"
      },
      "outputs": [],
      "source": [
        "def embed_sequences(sequences, embedding_model, maxlen, embedding_size):\n",
        "    embeddings = []\n",
        "    for sequence in sequences:\n",
        "        seq_embedding = [\n",
        "            embedding_model[word] if word in embedding_model else np.zeros(embedding_size)\n",
        "            for word in sequence\n",
        "        ]\n",
        "        if len(seq_embedding) < maxlen:\n",
        "            # Padding with zero vectors if sequence is shorter\n",
        "            seq_embedding += [np.zeros(embedding_size)] * (maxlen - len(seq_embedding))\n",
        "        if len(seq_embedding) > maxlen:\n",
        "            seq_embedding = seq_embedding[:maxlen]\n",
        "\n",
        "        embeddings.append(seq_embedding)\n",
        "    return np.array(embeddings)"
      ]
    },
    {
      "cell_type": "code",
      "execution_count": null,
      "metadata": {
        "id": "UyCuVKguaTMG"
      },
      "outputs": [],
      "source": [
        "x_train_embeddings = embed_sequences(x_train_words, embedding_model, maxlen, embedding_size)\n",
        "y_train_outputs = x_train_one_hot_encoded\n",
        "\n",
        "# Get correct values for next word prediction\n",
        "x_train_embeddings = x_train_embeddings[:, :maxlen - 1, :]\n",
        "y_train_outputs = y_train_outputs[:, -(maxlen - 1):, :]"
      ]
    },
    {
      "cell_type": "markdown",
      "metadata": {
        "id": "EBXa5NZ60uuf"
      },
      "source": [
        "#### Softmax Function (2 Points)\n",
        "\n",
        "Implement the softmax function to be used in the output layer. The fucntion should take in a one dimensional numpy array and compute softmax."
      ]
    },
    {
      "cell_type": "code",
      "execution_count": null,
      "metadata": {
        "id": "FnRfxzrNkR2m"
      },
      "outputs": [],
      "source": [
        "def softmax(x: np.ndarray) -> np.ndarray:\n",
        "\n",
        "    ex = np.exp(x)\n",
        "    return ex / np.sum(ex)\n",
        "\n",
        "    pass"
      ]
    },
    {
      "cell_type": "markdown",
      "metadata": {
        "id": "9-5iuTIu4ucG"
      },
      "source": [
        "#### Input Layer Class (8 points)\n",
        "\n",
        "Define the InputLayer class. The input player includes the following variables:   This variable represents the weight matrix connecting the input layer to the hidden layer. The dimensions are defined by the hidden size and the size of the input at each time step. It is initialized with small random values to facilitate learning during training.\n",
        "\n",
        "Variables:\n",
        "- `inputs`: The input sequences for the RNN, which are encoded using word2vec. It has a shape of (max_sequence_length, word2vec_size).\n",
        "- `weights`: This weight matrix connecting the input layer to the hidden layer.\n",
        "- `delta_weights`: The accumulation of the weight matrix gradients calculated across timesteps during backpropogation.\n",
        "\n",
        "You must implement the following functions:\n",
        "- `forward`: Multiply the input by the weight matrix. The output is a weighted sum that will be passed to the hidden layer for further processing. (4 points)\n",
        "\n",
        "- `backward`: Calculate the gradient of the forward operation and add that value to `self.delta_weights`, to be updated in `update_parameters`. (4 points)\n",
        "\n"
      ]
    },
    {
      "cell_type": "code",
      "execution_count": null,
      "metadata": {
        "id": "zRgpALOwaUm_"
      },
      "outputs": [],
      "source": [
        "class InputLayer:\n",
        "    inputs: np.ndarray\n",
        "    weights: np.ndarray = None\n",
        "    delta_weights: np.ndarray = None\n",
        "\n",
        "    def __init__(self, inputs: np.ndarray, hidden_size: int) -> None:\n",
        "        self.inputs = inputs\n",
        "\n",
        "        limit = np.sqrt(6 / (len(inputs[0]) + hidden_size))\n",
        "        self.weights = np.random.uniform(low=-limit, high=limit, size=(hidden_size, len(inputs[0])))\n",
        "\n",
        "        self.delta_weights = np.zeros_like(self.weights)\n",
        "\n",
        "    def __reset_deltas__(self):\n",
        "        self.delta_weights = np.zeros_like(self.weights)\n",
        "\n",
        "    def get_input(self, time_step: int) -> np.ndarray:\n",
        "        return self.inputs[time_step][:, np.newaxis]\n",
        "\n",
        "    def forward(self, time_step: int) -> np.ndarray:\n",
        "        ### BEGIN IMPLEMENTATION ###\n",
        "        inp = self.get_input(time_step)\n",
        "        weighted = np.dot(self.weights, inp)\n",
        "        return weighted\n",
        "\n",
        "    def backward(\n",
        "        self, time_step: int, delta_weights: np.ndarray\n",
        "    ) -> None:\n",
        "        ### BEGIN IMPLEMENTATION ###\n",
        "        inp = self.get_input(time_step)\n",
        "        self.delta_weights += np.dot(delta_weights, inp.T)\n",
        "\n",
        "    def update_parameters(self, learning_rate: float) -> None:\n",
        "        self.weights -= learning_rate * self.delta_weights\n",
        "\n",
        "        self.__reset_deltas__()"
      ]
    },
    {
      "cell_type": "markdown",
      "metadata": {
        "id": "UQFvMItcKi_5"
      },
      "source": [
        "#### Hidden Layer Class (8 points)\n",
        "\n",
        "Define the HiddenLayer class. The hidden layer maintains the hidden states across time steps and computes the activations based on the weighted sum of the inputs, computed in the input layer, and the previous hidden state.\n",
        "\n",
        "variables:\n",
        "- `states`: The hidden states for all time steps during the sequence processing. It has a shape of (max_num_time_steps, hidden_size, 1).\n",
        "\n",
        "- `weights`: The weight matrix connecting the previous hidden layer.\n",
        "\n",
        "- `bias`: The bias vector added to the weighted sum of inputs and hidden states.\n",
        "\n",
        "- `delta_weights`: The accumulation of gradients of the weight matrix computed during backpropogation.\n",
        "\n",
        "- `delta_bias`: The accumulation of gradients of the bias vector computed during backpropogation.\n",
        "\n",
        "- `next_delta_hidden_state_activation`: The gradient of the previously calculated hidden state activation.\n",
        "\n",
        "\n",
        "You must implement the following functions:\n",
        "\n",
        "- `forward`: This function computes the forward pass through the hidden layer. It combines the weighted input, the previous hidden state, and the bias, followed by applying the hyperbolic tangent activation function (tanh). The resulting activation is stored and returned for further processing. Be sure to update the hidden state using `set_hidden_state`. (4 points)\n",
        "\n",
        "- `backward`: This function computes the gradients for backpropagation. It calculates the delta for the activation using the incoming delta_output, propagates the gradients back to the previous hidden state, and updates delta_weights and delta_bias based on the computed gradients. (4 points)"
      ]
    },
    {
      "cell_type": "code",
      "execution_count": null,
      "metadata": {
        "id": "mwTWFPu0au0u"
      },
      "outputs": [],
      "source": [
        "class HiddenLayer:\n",
        "    states: np.ndarray = None\n",
        "    weights: np.ndarray = None\n",
        "    delta_weights: np.ndarray = None\n",
        "    bias: np.ndarray = None\n",
        "    delta_bias: np.ndarray = None\n",
        "    next_delta_hidden_state_activation: np.ndarray = None\n",
        "\n",
        "    def __init__(self, max_num_time_steps: int, size: int) -> None:\n",
        "        limit = np.sqrt(6 / (size + size))\n",
        "        self.weights = np.random.uniform(low=-limit, high=limit, size=(size, size))\n",
        "\n",
        "        self.bias = np.random.uniform(low=-0.1, high=0.1, size=(size, 1))\n",
        "        self.states = np.zeros(shape=(max_num_time_steps, size, 1))\n",
        "        self.next_delta_hidden_state_activation = np.zeros(shape=(size, 1))\n",
        "        self.delta_bias = np.zeros_like(self.bias)\n",
        "        self.delta_weights = np.zeros_like(self.weights)\n",
        "\n",
        "    def __reset_deltas__(self):\n",
        "        self.delta_bias = np.zeros_like(self.bias)\n",
        "        self.delta_weights = np.zeros_like(self.weights)\n",
        "        self.next_delta_hidden_state_activation = np.zeros_like(self.next_delta_hidden_state_activation)\n",
        "\n",
        "    def __reset_states__(self):\n",
        "        self.states = np.zeros_like(self.states)\n",
        "\n",
        "    def get_hidden_state(self, time_step: int) -> np.ndarray:\n",
        "            if time_step < 0:\n",
        "                return np.zeros_like(self.states[0])\n",
        "            return self.states[time_step]\n",
        "\n",
        "    def set_state(self, time_step: int, prediction: np.ndarray) -> None:\n",
        "        self.states[time_step] = prediction\n",
        "\n",
        "    def forward(self, weighted_input: np.ndarray, time_step: int) -> np.ndarray:\n",
        "        ### BEGIN IMPLEMENTATION ###\n",
        "        prev = self.get_hidden_state(time_step - 1)\n",
        "        weighted = np.dot(self.weights, prev) + weighted_input + self.bias\n",
        "        hidden = np.tanh(weighted)\n",
        "        self.set_state(time_step, hidden)\n",
        "        return hidden\n",
        "\n",
        "    def backward(\n",
        "        self, time_step: int, delta_output: np.ndarray\n",
        "    ) -> np.ndarray:\n",
        "        ### BEGIN IMPLEMENTATION ###\n",
        "        curr = self.get_hidden_state(time_step)\n",
        "        prev = self.get_hidden_state(time_step - 1)\n",
        "\n",
        "        tanh = 1 - np.square(curr)\n",
        "        delta_hidden = delta_output * tanh + self.next_delta_hidden_state_activation\n",
        "        self.delta_weights += np.dot(delta_hidden, prev.T)\n",
        "        self.delta_bias += delta_hidden\n",
        "\n",
        "        self.next_delta_hidden_state_activation = np.dot(self.weights.T, delta_hidden)\n",
        "\n",
        "        return self.next_delta_hidden_state_activation\n",
        "\n",
        "    def update_parameters(self, learning_rate: float) -> None:\n",
        "        self.weights -= learning_rate * self.delta_weights\n",
        "        self.bias -= learning_rate * self.delta_bias\n",
        "\n",
        "        self.__reset_deltas__()\n"
      ]
    },
    {
      "cell_type": "markdown",
      "metadata": {
        "id": "PzZ0uRP5O-S9"
      },
      "source": [
        "#### Output Layer Class (8 points)\n",
        "\n",
        "Define the OutputLayer class. The output layer will generate a probability distribution from the hidden state.\n",
        "\n",
        "Variables:\n",
        "- `states`: The computed probability distributions across all timesteps.\n",
        "\n",
        "- `weights`: The weight matrix connecting the hidden layer.\n",
        "\n",
        "- `bias`: The bias vector added to the output of the weighted sum.\n",
        "\n",
        "- `delta_weights`: The accumulation of gradients of the weight matrix computed during backpropogation.\n",
        "\n",
        "- `delta_bias`: The accumulation of gradients of the bias vector computed during backpropogation.\n",
        "\n",
        "You must implement the following functions:\n",
        "- `forward`: This function computes the forward pass through the output layer. It multiplies the hidden state by the weight matrix, adds the bias, and applies the softmax function to produce a probability distribution over the vocabulary. The resulting predictions MUST be stored using `set_prediction`. (4 points)\n",
        "\n",
        "- `backward`: This function computes the gradients for backpropagation based on the expected outputs, updates delta_V and delta_bias with the computed gradients, and returns the propagated error to the previous layer. (4 points)\n"
      ]
    },
    {
      "cell_type": "code",
      "execution_count": null,
      "metadata": {
        "id": "0SfYV3ircDlq"
      },
      "outputs": [],
      "source": [
        "class OutputLayer:\n",
        "    predictions: np.ndarray = None\n",
        "    weights: np.ndarray = None\n",
        "    bias: np.ndarray = None\n",
        "    delta_bias: np.ndarray = None\n",
        "    delta_weights: np.ndarray = None\n",
        "\n",
        "    def __init__(self, max_num_time_steps: int, size: int, hidden_size: int) -> None:\n",
        "        limit = np.sqrt(6 / (size + hidden_size))\n",
        "        self.weights = np.random.uniform(low=-limit, high=limit, size=(size, hidden_size))\n",
        "        self.bias = np.random.uniform(low=-0.1, high=0.1, size=(size, 1))\n",
        "        self.predictions = np.zeros(shape=(max_num_time_steps, size, 1))\n",
        "        self.delta_bias = np.zeros_like(self.bias)\n",
        "        self.delta_weights = np.zeros_like(self.weights)\n",
        "\n",
        "    def __reset_predictions__(self):\n",
        "        self.predictions = np.zeros_like(self.predictions)\n",
        "\n",
        "    def __reset_deltas__(self):\n",
        "        self.delta_bias = np.zeros_like(self.bias)\n",
        "        self.delta_weights = np.zeros_like(self.weights)\n",
        "\n",
        "    def forward(self, hidden_state: np.ndarray, time_step: int) -> np.ndarray:\n",
        "        ### BEGIN IMPLEMENTATION ###\n",
        "        weighted_sum = np.dot(self.weights, hidden_state) + self.bias\n",
        "        prediction = softmax(weighted_sum.flatten())[:, np.newaxis]\n",
        "        self.set_prediction(time_step, prediction)\n",
        "        return prediction\n",
        "\n",
        "    def get_prediction(self, time_step: int) -> np.ndarray:\n",
        "        return self.predictions[time_step]\n",
        "\n",
        "    def set_prediction(self, time_step: int, prediction: np.ndarray) -> None:\n",
        "        self.predictions[time_step] = prediction\n",
        "\n",
        "    def backward(\n",
        "        self,\n",
        "        expected: np.ndarray,\n",
        "        hidden_state: np.ndarray,\n",
        "        time_step: int,\n",
        "    ) -> np.ndarray:\n",
        "        ### BEGIN IMPLEMENTATION ###\n",
        "        prediction = self.get_prediction(time_step)\n",
        "\n",
        "        if expected.ndim == 1:\n",
        "          expected = expected.reshape(-1, 1)\n",
        "\n",
        "        hidden_state = hidden_state.reshape(1, -1)\n",
        "        delta = prediction - expected\n",
        "        self.delta_bias = self.delta_bias + delta\n",
        "        self.delta_weights += np.dot(delta, hidden_state)\n",
        "\n",
        "        hidden = np.dot(self.weights.T, delta)\n",
        "\n",
        "        return hidden\n",
        "\n",
        "    def update_parameters(self, learning_rate: float) -> None:\n",
        "        self.weights -= learning_rate * self.delta_weights\n",
        "        self.bias -= learning_rate * self.delta_bias\n",
        "\n",
        "        self.__reset_deltas__()"
      ]
    },
    {
      "cell_type": "markdown",
      "metadata": {
        "id": "li17DVjCCYUG"
      },
      "source": [
        "#### RNN Class\n",
        "The RNN class is a Recurrent Neural Network that combines the input, hidden, and output layers to process sequences of inputs, learn their representations, and generate predictions."
      ]
    },
    {
      "cell_type": "code",
      "execution_count": null,
      "metadata": {
        "id": "vjwSh87BelhP"
      },
      "outputs": [],
      "source": [
        "from typing import List\n",
        "\n",
        "class RNN:\n",
        "    hidden_layer: HiddenLayer\n",
        "    output_layer: OutputLayer\n",
        "    learning_rate: float\n",
        "    input_layer: InputLayer = None\n",
        "\n",
        "    def __init__(self, vocab_size: int, hidden_size: int, max_num_time_steps: int, learning_rate: float) -> None:\n",
        "        self.hidden_layer = HiddenLayer(max_num_time_steps, hidden_size)\n",
        "        self.output_layer = OutputLayer(max_num_time_steps, vocab_size, hidden_size)\n",
        "        self.hidden_size = hidden_size\n",
        "        self.learning_rate = learning_rate\n",
        "\n",
        "    def feed_forward(self, inputs: np.ndarray) -> OutputLayer:\n",
        "        self.input_layer = InputLayer(inputs, self.hidden_size)\n",
        "\n",
        "        for step in range(len(inputs)):\n",
        "            weighted_input = self.input_layer.forward(step)\n",
        "            activation = self.hidden_layer.forward(weighted_input, step)\n",
        "            self.output_layer.forward(activation, step)\n",
        "\n",
        "        return self.output_layer\n",
        "\n",
        "    def backpropagation(self, expected: np.ndarray) -> None:\n",
        "        for step_number in reversed(range(len(expected) - 1)):\n",
        "            delta_output = self.output_layer.backward(\n",
        "                expected[step_number],\n",
        "                self.hidden_layer.get_hidden_state(step_number),\n",
        "                step_number,\n",
        "            )\n",
        "            delta_weighted_sum = self.hidden_layer.backward(\n",
        "                step_number, delta_output\n",
        "            )\n",
        "            self.input_layer.backward(step_number, delta_weighted_sum)\n",
        "\n",
        "\n",
        "        self.output_layer.update_parameters(self.learning_rate)\n",
        "        self.hidden_layer.update_parameters(self.learning_rate)\n",
        "        self.input_layer.update_parameters(self.learning_rate)\n",
        "\n",
        "    def loss(self, y_hat: List[np.ndarray], y: List[np.ndarray]) -> float:\n",
        "        return -np.mean([np.sum(y[i] * np.log(y_hat[i])) for i in range(len(y))])\n",
        "\n",
        "    def _find_end_of_seq(self, expected: np.ndarray) -> int:\n",
        "        for idx, vector in enumerate(expected):\n",
        "            if np.all(vector == 0):\n",
        "                return idx\n",
        "        return len(expected)\n",
        "\n",
        "    def _reset_states(self):\n",
        "      self.output_layer.__reset_predictions__()\n",
        "      self.hidden_layer.__reset_states__()\n",
        "\n",
        "    def train(self, inputs: np.ndarray, expected: np.ndarray, epochs: int) -> None:\n",
        "        for epoch in range(epochs):\n",
        "            loss_list = []\n",
        "            for idx, input in enumerate(tqdm(inputs)):\n",
        "                end_idx = self._find_end_of_seq(expected[idx])\n",
        "                input = input[:end_idx, :]\n",
        "                y_hats = self.feed_forward(input)\n",
        "                self.backpropagation(expected[idx][:end_idx])\n",
        "\n",
        "                round_loss = self.loss(y_hats.predictions[:end_idx,:,0], expected[idx][:end_idx])\n",
        "                loss_list.append(round_loss)\n",
        "                self._reset_states()\n",
        "\n",
        "                if idx % 100 == 99:\n",
        "                  print(f\"Average Training Loss of Last 100 samples: {np.mean(np.array(loss_list[-100:]))}\")\n",
        "\n",
        "            print(\n",
        "                f\"Epoch Loss: {np.mean(np.array(loss_list))}\"\n",
        "            )\n"
      ]
    },
    {
      "cell_type": "markdown",
      "metadata": {
        "id": "AA5e87hCDDRi"
      },
      "source": [
        "#### Running the RNN\n",
        "\n",
        "Now we put it all together by initializing and training the RNN model. **Do not edit these hyperparameters**. Please do not change the hyperparameters. If done correctly, your loss should be below 5.0 after the second epoch."
      ]
    },
    {
      "cell_type": "code",
      "execution_count": null,
      "metadata": {
        "colab": {
          "base_uri": "https://localhost:8080/"
        },
        "id": "-tp8Grw7erxk",
        "outputId": "4f23aea2-7745-468c-dda8-1823bd09301b"
      },
      "outputs": [
        {
          "output_type": "stream",
          "name": "stderr",
          "text": [
            "  4%|▎         | 103/2773 [00:03<01:55, 23.06it/s]"
          ]
        },
        {
          "output_type": "stream",
          "name": "stdout",
          "text": [
            "Average Training Loss of Last 100 samples: 5.729925015268897\n"
          ]
        },
        {
          "output_type": "stream",
          "name": "stderr",
          "text": [
            "  7%|▋         | 206/2773 [00:07<00:55, 46.59it/s]"
          ]
        },
        {
          "output_type": "stream",
          "name": "stdout",
          "text": [
            "Average Training Loss of Last 100 samples: 5.085696734446683\n"
          ]
        },
        {
          "output_type": "stream",
          "name": "stderr",
          "text": [
            " 11%|█         | 307/2773 [00:08<00:45, 54.74it/s]"
          ]
        },
        {
          "output_type": "stream",
          "name": "stdout",
          "text": [
            "Average Training Loss of Last 100 samples: 4.999929981281585\n"
          ]
        },
        {
          "output_type": "stream",
          "name": "stderr",
          "text": [
            " 15%|█▍        | 409/2773 [00:10<00:45, 51.52it/s]"
          ]
        },
        {
          "output_type": "stream",
          "name": "stdout",
          "text": [
            "Average Training Loss of Last 100 samples: 5.001932212570699\n"
          ]
        },
        {
          "output_type": "stream",
          "name": "stderr",
          "text": [
            " 18%|█▊        | 507/2773 [00:12<00:44, 50.84it/s]"
          ]
        },
        {
          "output_type": "stream",
          "name": "stdout",
          "text": [
            "Average Training Loss of Last 100 samples: 4.914121215839478\n"
          ]
        },
        {
          "output_type": "stream",
          "name": "stderr",
          "text": [
            " 22%|██▏       | 607/2773 [00:15<00:44, 48.28it/s]"
          ]
        },
        {
          "output_type": "stream",
          "name": "stdout",
          "text": [
            "Average Training Loss of Last 100 samples: 4.853357402684159\n"
          ]
        },
        {
          "output_type": "stream",
          "name": "stderr",
          "text": [
            " 25%|██▌       | 704/2773 [00:17<01:31, 22.57it/s]"
          ]
        },
        {
          "output_type": "stream",
          "name": "stdout",
          "text": [
            "Average Training Loss of Last 100 samples: 4.907759586007796\n"
          ]
        },
        {
          "output_type": "stream",
          "name": "stderr",
          "text": [
            " 29%|██▉       | 804/2773 [00:21<00:43, 45.08it/s]"
          ]
        },
        {
          "output_type": "stream",
          "name": "stdout",
          "text": [
            "Average Training Loss of Last 100 samples: 4.908697163246297\n"
          ]
        },
        {
          "output_type": "stream",
          "name": "stderr",
          "text": [
            " 33%|███▎      | 906/2773 [00:23<00:37, 49.75it/s]"
          ]
        },
        {
          "output_type": "stream",
          "name": "stdout",
          "text": [
            "Average Training Loss of Last 100 samples: 4.902632328482609\n"
          ]
        },
        {
          "output_type": "stream",
          "name": "stderr",
          "text": [
            " 36%|███▋      | 1006/2773 [00:25<00:41, 42.87it/s]"
          ]
        },
        {
          "output_type": "stream",
          "name": "stdout",
          "text": [
            "Average Training Loss of Last 100 samples: 4.9556057856472115\n"
          ]
        },
        {
          "output_type": "stream",
          "name": "stderr",
          "text": [
            " 40%|███▉      | 1105/2773 [00:27<00:36, 45.80it/s]"
          ]
        },
        {
          "output_type": "stream",
          "name": "stdout",
          "text": [
            "Average Training Loss of Last 100 samples: 4.938296943633389\n"
          ]
        },
        {
          "output_type": "stream",
          "name": "stderr",
          "text": [
            " 43%|████▎     | 1206/2773 [00:29<00:30, 52.11it/s]"
          ]
        },
        {
          "output_type": "stream",
          "name": "stdout",
          "text": [
            "Average Training Loss of Last 100 samples: 4.909877154125709\n"
          ]
        },
        {
          "output_type": "stream",
          "name": "stderr",
          "text": [
            " 47%|████▋     | 1303/2773 [00:32<00:57, 25.43it/s]"
          ]
        },
        {
          "output_type": "stream",
          "name": "stdout",
          "text": [
            "Average Training Loss of Last 100 samples: 4.885121755725724\n"
          ]
        },
        {
          "output_type": "stream",
          "name": "stderr",
          "text": [
            " 51%|█████     | 1404/2773 [00:36<00:31, 43.40it/s]"
          ]
        },
        {
          "output_type": "stream",
          "name": "stdout",
          "text": [
            "Average Training Loss of Last 100 samples: 4.900442735079658\n"
          ]
        },
        {
          "output_type": "stream",
          "name": "stderr",
          "text": [
            " 54%|█████▍    | 1507/2773 [00:38<00:26, 47.47it/s]"
          ]
        },
        {
          "output_type": "stream",
          "name": "stdout",
          "text": [
            "Average Training Loss of Last 100 samples: 4.8537425272276975\n"
          ]
        },
        {
          "output_type": "stream",
          "name": "stderr",
          "text": [
            " 58%|█████▊    | 1605/2773 [00:40<00:23, 49.29it/s]"
          ]
        },
        {
          "output_type": "stream",
          "name": "stdout",
          "text": [
            "Average Training Loss of Last 100 samples: 4.867507830559273\n"
          ]
        },
        {
          "output_type": "stream",
          "name": "stderr",
          "text": [
            " 61%|██████▏   | 1703/2773 [00:42<00:21, 50.13it/s]"
          ]
        },
        {
          "output_type": "stream",
          "name": "stdout",
          "text": [
            "Average Training Loss of Last 100 samples: 4.937403028470473\n"
          ]
        },
        {
          "output_type": "stream",
          "name": "stderr",
          "text": [
            " 65%|██████▌   | 1806/2773 [00:44<00:20, 47.81it/s]"
          ]
        },
        {
          "output_type": "stream",
          "name": "stdout",
          "text": [
            "Average Training Loss of Last 100 samples: 4.94704680892209\n"
          ]
        },
        {
          "output_type": "stream",
          "name": "stderr",
          "text": [
            " 69%|██████▊   | 1902/2773 [00:47<00:34, 25.59it/s]"
          ]
        },
        {
          "output_type": "stream",
          "name": "stdout",
          "text": [
            "Average Training Loss of Last 100 samples: 4.858651893824225\n"
          ]
        },
        {
          "output_type": "stream",
          "name": "stderr",
          "text": [
            " 72%|███████▏  | 2007/2773 [00:51<00:17, 43.45it/s]"
          ]
        },
        {
          "output_type": "stream",
          "name": "stdout",
          "text": [
            "Average Training Loss of Last 100 samples: 4.91699418597502\n"
          ]
        },
        {
          "output_type": "stream",
          "name": "stderr",
          "text": [
            " 76%|███████▌  | 2106/2773 [00:53<00:13, 49.37it/s]"
          ]
        },
        {
          "output_type": "stream",
          "name": "stdout",
          "text": [
            "Average Training Loss of Last 100 samples: 4.861224736942688\n"
          ]
        },
        {
          "output_type": "stream",
          "name": "stderr",
          "text": [
            " 80%|███████▉  | 2206/2773 [00:55<00:13, 43.08it/s]"
          ]
        },
        {
          "output_type": "stream",
          "name": "stdout",
          "text": [
            "Average Training Loss of Last 100 samples: 4.829568006839445\n"
          ]
        },
        {
          "output_type": "stream",
          "name": "stderr",
          "text": [
            " 83%|████████▎ | 2308/2773 [00:57<00:10, 44.11it/s]"
          ]
        },
        {
          "output_type": "stream",
          "name": "stdout",
          "text": [
            "Average Training Loss of Last 100 samples: 4.937475915754938\n"
          ]
        },
        {
          "output_type": "stream",
          "name": "stderr",
          "text": [
            " 87%|████████▋ | 2407/2773 [00:59<00:07, 47.97it/s]"
          ]
        },
        {
          "output_type": "stream",
          "name": "stdout",
          "text": [
            "Average Training Loss of Last 100 samples: 4.858314796946937\n"
          ]
        },
        {
          "output_type": "stream",
          "name": "stderr",
          "text": [
            " 90%|█████████ | 2500/2773 [01:02<00:11, 23.38it/s]"
          ]
        },
        {
          "output_type": "stream",
          "name": "stdout",
          "text": [
            "Average Training Loss of Last 100 samples: 4.861502741411601\n"
          ]
        },
        {
          "output_type": "stream",
          "name": "stderr",
          "text": [
            " 94%|█████████▍| 2606/2773 [01:06<00:03, 48.11it/s]"
          ]
        },
        {
          "output_type": "stream",
          "name": "stdout",
          "text": [
            "Average Training Loss of Last 100 samples: 4.952594716079437\n"
          ]
        },
        {
          "output_type": "stream",
          "name": "stderr",
          "text": [
            " 98%|█████████▊| 2705/2773 [01:08<00:01, 47.71it/s]"
          ]
        },
        {
          "output_type": "stream",
          "name": "stdout",
          "text": [
            "Average Training Loss of Last 100 samples: 4.956730660413424\n"
          ]
        },
        {
          "output_type": "stream",
          "name": "stderr",
          "text": [
            "100%|██████████| 2773/2773 [01:10<00:00, 39.51it/s]\n"
          ]
        },
        {
          "output_type": "stream",
          "name": "stdout",
          "text": [
            "Epoch Loss: 4.944650359879543\n"
          ]
        },
        {
          "output_type": "stream",
          "name": "stderr",
          "text": [
            "  4%|▍         | 106/2773 [00:02<00:54, 49.21it/s]"
          ]
        },
        {
          "output_type": "stream",
          "name": "stdout",
          "text": [
            "Average Training Loss of Last 100 samples: 4.933781620062765\n"
          ]
        },
        {
          "output_type": "stream",
          "name": "stderr",
          "text": [
            "  8%|▊         | 210/2773 [00:04<00:48, 52.74it/s]"
          ]
        },
        {
          "output_type": "stream",
          "name": "stdout",
          "text": [
            "Average Training Loss of Last 100 samples: 4.862353553050716\n"
          ]
        },
        {
          "output_type": "stream",
          "name": "stderr",
          "text": [
            " 11%|█         | 305/2773 [00:07<01:28, 27.99it/s]"
          ]
        },
        {
          "output_type": "stream",
          "name": "stdout",
          "text": [
            "Average Training Loss of Last 100 samples: 4.8728237576802425\n"
          ]
        },
        {
          "output_type": "stream",
          "name": "stderr",
          "text": [
            " 15%|█▍        | 407/2773 [00:11<00:49, 47.74it/s]"
          ]
        },
        {
          "output_type": "stream",
          "name": "stdout",
          "text": [
            "Average Training Loss of Last 100 samples: 4.917136844835032\n"
          ]
        },
        {
          "output_type": "stream",
          "name": "stderr",
          "text": [
            " 18%|█▊        | 508/2773 [00:13<00:48, 46.51it/s]"
          ]
        },
        {
          "output_type": "stream",
          "name": "stdout",
          "text": [
            "Average Training Loss of Last 100 samples: 4.840998065841137\n"
          ]
        },
        {
          "output_type": "stream",
          "name": "stderr",
          "text": [
            " 22%|██▏       | 609/2773 [00:15<00:43, 49.64it/s]"
          ]
        },
        {
          "output_type": "stream",
          "name": "stdout",
          "text": [
            "Average Training Loss of Last 100 samples: 4.808181156747936\n"
          ]
        },
        {
          "output_type": "stream",
          "name": "stderr",
          "text": [
            " 25%|██▌       | 705/2773 [00:17<00:40, 50.65it/s]"
          ]
        },
        {
          "output_type": "stream",
          "name": "stdout",
          "text": [
            "Average Training Loss of Last 100 samples: 4.869356288333282\n"
          ]
        },
        {
          "output_type": "stream",
          "name": "stderr",
          "text": [
            " 29%|██▉       | 805/2773 [00:19<00:36, 54.18it/s]"
          ]
        },
        {
          "output_type": "stream",
          "name": "stdout",
          "text": [
            "Average Training Loss of Last 100 samples: 4.87178770512265\n"
          ]
        },
        {
          "output_type": "stream",
          "name": "stderr",
          "text": [
            " 32%|███▏      | 901/2773 [00:21<01:23, 22.34it/s]"
          ]
        },
        {
          "output_type": "stream",
          "name": "stdout",
          "text": [
            "Average Training Loss of Last 100 samples: 4.873306424495522\n"
          ]
        },
        {
          "output_type": "stream",
          "name": "stderr",
          "text": [
            " 36%|███▌      | 1003/2773 [00:25<00:42, 41.93it/s]"
          ]
        },
        {
          "output_type": "stream",
          "name": "stdout",
          "text": [
            "Average Training Loss of Last 100 samples: 4.929510095959018\n"
          ]
        },
        {
          "output_type": "stream",
          "name": "stderr",
          "text": [
            " 40%|███▉      | 1106/2773 [00:28<00:32, 51.39it/s]"
          ]
        },
        {
          "output_type": "stream",
          "name": "stdout",
          "text": [
            "Average Training Loss of Last 100 samples: 4.918420730896767\n"
          ]
        },
        {
          "output_type": "stream",
          "name": "stderr",
          "text": [
            " 44%|████▎     | 1208/2773 [00:30<00:28, 54.81it/s]"
          ]
        },
        {
          "output_type": "stream",
          "name": "stdout",
          "text": [
            "Average Training Loss of Last 100 samples: 4.893807639125864\n"
          ]
        },
        {
          "output_type": "stream",
          "name": "stderr",
          "text": [
            " 47%|████▋     | 1307/2773 [00:32<00:27, 53.12it/s]"
          ]
        },
        {
          "output_type": "stream",
          "name": "stdout",
          "text": [
            "Average Training Loss of Last 100 samples: 4.8682890854641485\n"
          ]
        },
        {
          "output_type": "stream",
          "name": "stderr",
          "text": [
            " 51%|█████     | 1407/2773 [00:34<00:32, 42.65it/s]"
          ]
        },
        {
          "output_type": "stream",
          "name": "stdout",
          "text": [
            "Average Training Loss of Last 100 samples: 4.888765454192461\n"
          ]
        },
        {
          "output_type": "stream",
          "name": "stderr",
          "text": [
            " 54%|█████▍    | 1501/2773 [00:38<01:01, 20.67it/s]"
          ]
        },
        {
          "output_type": "stream",
          "name": "stdout",
          "text": [
            "Average Training Loss of Last 100 samples: 4.841980409391379\n"
          ]
        },
        {
          "output_type": "stream",
          "name": "stderr",
          "text": [
            " 58%|█████▊    | 1609/2773 [00:41<00:24, 47.70it/s]"
          ]
        },
        {
          "output_type": "stream",
          "name": "stdout",
          "text": [
            "Average Training Loss of Last 100 samples: 4.857464808708293\n"
          ]
        },
        {
          "output_type": "stream",
          "name": "stderr",
          "text": [
            " 61%|██████▏   | 1702/2773 [00:43<00:21, 49.81it/s]"
          ]
        },
        {
          "output_type": "stream",
          "name": "stdout",
          "text": [
            "Average Training Loss of Last 100 samples: 4.9289944369565\n"
          ]
        },
        {
          "output_type": "stream",
          "name": "stderr",
          "text": [
            " 65%|██████▌   | 1809/2773 [00:45<00:19, 49.60it/s]"
          ]
        },
        {
          "output_type": "stream",
          "name": "stdout",
          "text": [
            "Average Training Loss of Last 100 samples: 4.936611717193291\n"
          ]
        },
        {
          "output_type": "stream",
          "name": "stderr",
          "text": [
            " 69%|██████▉   | 1908/2773 [00:47<00:18, 46.47it/s]"
          ]
        },
        {
          "output_type": "stream",
          "name": "stdout",
          "text": [
            "Average Training Loss of Last 100 samples: 4.853227468238106\n"
          ]
        },
        {
          "output_type": "stream",
          "name": "stderr",
          "text": [
            " 72%|███████▏  | 2004/2773 [00:49<00:15, 49.75it/s]"
          ]
        },
        {
          "output_type": "stream",
          "name": "stdout",
          "text": [
            "Average Training Loss of Last 100 samples: 4.909310781717925\n"
          ]
        },
        {
          "output_type": "stream",
          "name": "stderr",
          "text": [
            " 76%|███████▌  | 2105/2773 [00:53<00:28, 23.04it/s]"
          ]
        },
        {
          "output_type": "stream",
          "name": "stdout",
          "text": [
            "Average Training Loss of Last 100 samples: 4.855286166359476\n"
          ]
        },
        {
          "output_type": "stream",
          "name": "stderr",
          "text": [
            " 80%|███████▉  | 2206/2773 [00:56<00:12, 44.51it/s]"
          ]
        },
        {
          "output_type": "stream",
          "name": "stdout",
          "text": [
            "Average Training Loss of Last 100 samples: 4.825046989971408\n"
          ]
        },
        {
          "output_type": "stream",
          "name": "stderr",
          "text": [
            " 83%|████████▎ | 2304/2773 [00:58<00:10, 45.92it/s]"
          ]
        },
        {
          "output_type": "stream",
          "name": "stdout",
          "text": [
            "Average Training Loss of Last 100 samples: 4.933355133185259\n"
          ]
        },
        {
          "output_type": "stream",
          "name": "stderr",
          "text": [
            " 87%|████████▋ | 2408/2773 [01:00<00:07, 47.48it/s]"
          ]
        },
        {
          "output_type": "stream",
          "name": "stdout",
          "text": [
            "Average Training Loss of Last 100 samples: 4.853908238402883\n"
          ]
        },
        {
          "output_type": "stream",
          "name": "stderr",
          "text": [
            " 90%|█████████ | 2505/2773 [01:02<00:05, 46.13it/s]"
          ]
        },
        {
          "output_type": "stream",
          "name": "stdout",
          "text": [
            "Average Training Loss of Last 100 samples: 4.858041769447614\n"
          ]
        },
        {
          "output_type": "stream",
          "name": "stderr",
          "text": [
            " 94%|█████████▍| 2610/2773 [01:04<00:03, 51.25it/s]"
          ]
        },
        {
          "output_type": "stream",
          "name": "stdout",
          "text": [
            "Average Training Loss of Last 100 samples: 4.949294352457911\n"
          ]
        },
        {
          "output_type": "stream",
          "name": "stderr",
          "text": [
            " 97%|█████████▋| 2701/2773 [01:08<00:03, 20.11it/s]"
          ]
        },
        {
          "output_type": "stream",
          "name": "stdout",
          "text": [
            "Average Training Loss of Last 100 samples: 4.953811233990157\n"
          ]
        },
        {
          "output_type": "stream",
          "name": "stderr",
          "text": [
            "100%|██████████| 2773/2773 [01:10<00:00, 39.11it/s]"
          ]
        },
        {
          "output_type": "stream",
          "name": "stdout",
          "text": [
            "Epoch Loss: 4.885874019958818\n"
          ]
        },
        {
          "output_type": "stream",
          "name": "stderr",
          "text": [
            "\n"
          ]
        }
      ],
      "source": [
        "rnn = RNN(vocab_size=vocab_size, hidden_size=32, max_num_time_steps=maxlen - 1, learning_rate=1e-3)\n",
        "rnn.train(x_train_embeddings, y_train_outputs, epochs=2)"
      ]
    },
    {
      "cell_type": "markdown",
      "metadata": {
        "id": "iYm16QvVQY21"
      },
      "source": [
        "# Question 2 (30 points in total)\n",
        "- In this question, you will count the number of parameters in GPT-2 and trace the source code of different LLM implementations to better understand the Transformer architecture."
      ]
    },
    {
      "cell_type": "markdown",
      "metadata": {
        "id": "BbTqEUJf_M5x"
      },
      "source": [
        "## Q2.1 Understand Transformer with parameter counting exercise (19 points in total)\n",
        "\n",
        "### Let’s count the number of parameters in GPT-2-XL.\n",
        "- You are only allowed to use the variable names defined below to answer the questions, i.e., `n_layers * n_heads` is allowed, while `4 * d_ffn` is not allowed.\n",
        "- For simplicity, please **ignore the bias terms** in all questions."
      ]
    },
    {
      "cell_type": "code",
      "execution_count": null,
      "metadata": {
        "id": "n9AVWuSx_C70"
      },
      "outputs": [],
      "source": [
        "n_layers = 48  # the number of transformer layers (aka. transformer blocks)\n",
        "n_heads = 25   # the number of attention heads in each layer\n",
        "d_model = 1600 # the model dimension\n",
        "d_ffn = 6400   # the FFN (aka. MLP) dimension\n",
        "d_heads = 64   # the attn head dimension\n",
        "n_vocab = 50257 # vocabulary size\n",
        "n_ctx = 1024    # the maximum sequence length the model can process"
      ]
    },
    {
      "cell_type": "markdown",
      "metadata": {
        "id": "Yx_V_P93_Y5n"
      },
      "source": [
        "#### Q2.1.1 The input embeddings consists of token embeddings (2 points) and position embeddings (2 points). Count the number of parameters in the two embeddings."
      ]
    },
    {
      "cell_type": "code",
      "execution_count": null,
      "metadata": {
        "id": "DQeVyMUt_V3n",
        "colab": {
          "base_uri": "https://localhost:8080/"
        },
        "outputId": "a2b81d08-645b-4758-b7bc-13a12fca9bfd"
      },
      "outputs": [
        {
          "output_type": "stream",
          "name": "stdout",
          "text": [
            "80411200\n"
          ]
        }
      ],
      "source": [
        "token_embeddings = n_vocab * d_model\n",
        "print(token_embeddings)"
      ]
    },
    {
      "cell_type": "code",
      "execution_count": null,
      "metadata": {
        "id": "TneTC1eP_jRh",
        "colab": {
          "base_uri": "https://localhost:8080/"
        },
        "outputId": "58aac6d0-121f-4563-8c21-225614965db1"
      },
      "outputs": [
        {
          "output_type": "stream",
          "name": "stdout",
          "text": [
            "1638400\n"
          ]
        }
      ],
      "source": [
        "position_embeddings =  n_ctx * d_model\n",
        "print(position_embeddings)"
      ]
    },
    {
      "cell_type": "markdown",
      "metadata": {
        "id": "E_yaWxaE_fWA"
      },
      "source": [
        "#### Q2.1.2 Multi-Headed Attention consists of W_Q (1.5 point), W_K (1.5 point), W_V (1.5 points), and W_O (3.5 points),\n",
        "- MultiHead(Q, K, V) = Concat(head_1, ..., head_n) W_O\n",
        "- see more details in https://arxiv.org/pdf/1706.03762\n",
        "#### Count the number of parameters in them.\n",
        "- Here we * n_layers to calculate the total number of parameters across layers."
      ]
    },
    {
      "cell_type": "code",
      "execution_count": null,
      "metadata": {
        "id": "IO_JpGDB_ebx",
        "colab": {
          "base_uri": "https://localhost:8080/"
        },
        "outputId": "6375a0f4-384d-49d3-9ca9-0c4d0e5f76a8"
      },
      "outputs": [
        {
          "output_type": "stream",
          "name": "stdout",
          "text": [
            "122880000\n"
          ]
        }
      ],
      "source": [
        "attn_q = n_layers * d_model**2\n",
        "print(attn_q)"
      ]
    },
    {
      "cell_type": "code",
      "execution_count": null,
      "metadata": {
        "id": "VcHxS114__nL",
        "colab": {
          "base_uri": "https://localhost:8080/"
        },
        "outputId": "0d8c4bf7-8304-487c-c813-28356d2307fe"
      },
      "outputs": [
        {
          "output_type": "stream",
          "name": "stdout",
          "text": [
            "122880000\n"
          ]
        }
      ],
      "source": [
        "attn_k = n_layers * d_model**2\n",
        "print(attn_k)"
      ]
    },
    {
      "cell_type": "code",
      "execution_count": null,
      "metadata": {
        "id": "sYXz2_jBADJB",
        "colab": {
          "base_uri": "https://localhost:8080/"
        },
        "outputId": "206f789f-3a57-4a80-9df9-eef922d86cdc"
      },
      "outputs": [
        {
          "output_type": "stream",
          "name": "stdout",
          "text": [
            "122880000\n"
          ]
        }
      ],
      "source": [
        "attn_v = n_layers * d_model**2\n",
        "print(attn_v)"
      ]
    },
    {
      "cell_type": "code",
      "execution_count": null,
      "metadata": {
        "id": "y45J1CNnAIJ8",
        "colab": {
          "base_uri": "https://localhost:8080/"
        },
        "outputId": "ed211d58-5548-439a-9114-4cfdf92927e8"
      },
      "outputs": [
        {
          "output_type": "stream",
          "name": "stdout",
          "text": [
            "122880000\n"
          ]
        }
      ],
      "source": [
        "attn_o = n_layers * d_model**2\n",
        "print(attn_o)"
      ]
    },
    {
      "cell_type": "markdown",
      "metadata": {
        "id": "aUT0PRLgA2qE"
      },
      "source": [
        "#### Q2.1.3 The feed-forward network (FFN) in each transformer block consists of two layers, ffn1 (1.5 point) and ffn2 (1.5 point). Count the number of parameters in them, respectively.\n",
        "- You need to * n_layers to calculate the total number of parameters across layers."
      ]
    },
    {
      "cell_type": "code",
      "execution_count": null,
      "metadata": {
        "id": "ez8NPTMcAzps",
        "colab": {
          "base_uri": "https://localhost:8080/"
        },
        "outputId": "0c8fde51-79fe-4180-e382-98d0b53e9a21"
      },
      "outputs": [
        {
          "output_type": "stream",
          "name": "stdout",
          "text": [
            "491520000\n"
          ]
        }
      ],
      "source": [
        "ffn1 = n_layers * d_model * d_ffn\n",
        "print(ffn1)"
      ]
    },
    {
      "cell_type": "code",
      "execution_count": null,
      "metadata": {
        "id": "e3ISg8S_AwDu",
        "colab": {
          "base_uri": "https://localhost:8080/"
        },
        "outputId": "1e7a0666-f614-4ffd-89b1-e1e607af68a7"
      },
      "outputs": [
        {
          "output_type": "stream",
          "name": "stdout",
          "text": [
            "491520000\n"
          ]
        }
      ],
      "source": [
        "ffn2 = n_layers * d_ffn * d_model\n",
        "print(ffn2)"
      ]
    },
    {
      "cell_type": "markdown",
      "metadata": {
        "id": "3PTf2vMhBNqJ"
      },
      "source": [
        "#### Q2.1.4 Count the number of parameters in the output embeddings (2 points)"
      ]
    },
    {
      "cell_type": "code",
      "execution_count": null,
      "metadata": {
        "id": "auX4xsiwBW-p",
        "colab": {
          "base_uri": "https://localhost:8080/"
        },
        "outputId": "0c226857-8300-451e-8c2c-47418912615c"
      },
      "outputs": [
        {
          "output_type": "stream",
          "name": "stdout",
          "text": [
            "80411200\n"
          ]
        }
      ],
      "source": [
        "output_embeddings = n_vocab * d_model\n",
        "print(output_embeddings)"
      ]
    },
    {
      "cell_type": "markdown",
      "metadata": {
        "id": "HIUo-IIbCTZA"
      },
      "source": [
        "#### Q2.1.5 Print out the total number of parameters (1 point).\n",
        "- We do not double-count output_embeddings because GPT-2 shares the weights of token_embeddings and output_embeddings.\n",
        "- For simplicity, we ignore the bias terms and layernorms."
      ]
    },
    {
      "cell_type": "code",
      "execution_count": null,
      "metadata": {
        "id": "31Tn7OxmCZwV",
        "colab": {
          "base_uri": "https://localhost:8080/"
        },
        "outputId": "358eefac-fc52-40a1-aaea-ac7f96bee2ff"
      },
      "outputs": [
        {
          "output_type": "stream",
          "name": "stdout",
          "text": [
            "1.557B\n"
          ]
        }
      ],
      "source": [
        "n_total = token_embeddings + position_embeddings + attn_q + attn_k + attn_v + attn_o + ffn1 + ffn2\n",
        "print(f'{n_total/10**9:.3f}B')"
      ]
    },
    {
      "cell_type": "markdown",
      "metadata": {
        "id": "tmDac9HhBWDH"
      },
      "source": [
        "#### Q2.1.6 The majority of parameters are in the FFN layers! Print the percentage (1 point)."
      ]
    },
    {
      "cell_type": "code",
      "execution_count": null,
      "metadata": {
        "id": "Z7xNJNoLCajv",
        "colab": {
          "base_uri": "https://localhost:8080/"
        },
        "outputId": "6a067ec9-387a-4313-f068-065715ce7058"
      },
      "outputs": [
        {
          "output_type": "stream",
          "name": "stdout",
          "text": [
            "63.2%\n"
          ]
        }
      ],
      "source": [
        "print(f'{(ffn1+ffn2)/n_total:.1%}')"
      ]
    },
    {
      "cell_type": "markdown",
      "metadata": {
        "id": "g_cCCCpdDB99"
      },
      "source": [
        "## Q2.2 Understand different implementations of large language models (11 points in total)\n",
        "\n",
        "### Different LLMs use slightly different architectures. Please read the snippets of three types of implentations below and answer the questions.\n",
        "- The code is modified from Hugging Face's implementations. To answer the questions, you do not need to understand the classes and variables that are not defined in the snippets.\n",
        "- `d_model`: the model dimension\n",
        "- `d_ffn`: the FFN (aka. MLP) dimension"
      ]
    },
    {
      "cell_type": "code",
      "execution_count": null,
      "metadata": {
        "colab": {
          "base_uri": "https://localhost:8080/"
        },
        "id": "RO82AWr9DRqo",
        "outputId": "fa1abea9-0d5c-4d65-a55d-8fc9b1e5ab90"
      },
      "outputs": [
        {
          "output_type": "stream",
          "name": "stdout",
          "text": [
            "skipping\n"
          ]
        }
      ],
      "source": [
        "%%script echo skipping\n",
        "class GPT2MLP(nn.Module):\n",
        "    def __init__(self, config, d_model, d_ffn):\n",
        "        super().__init__()\n",
        "        self.fn1 = nn.Linear(d_model, d_ffn)\n",
        "        self.fn2 = nn.Linear(d_ffn, d_model)\n",
        "        self.act = ACT2FN[config.activation_function]\n",
        "        self.dropout = nn.Dropout(config.resid_pdrop)\n",
        "\n",
        "    def forward(self, hidden_states: Optional[Tuple[torch.FloatTensor]]) -> torch.FloatTensor:\n",
        "        hidden_states = self.fn1(hidden_states)\n",
        "        hidden_states = self.act(hidden_states)\n",
        "        hidden_states = self.fn2(hidden_states)\n",
        "        hidden_states = self.dropout(hidden_states)\n",
        "        return hidden_states\n",
        "\n",
        "\n",
        "class GPT2Block(nn.Module):\n",
        "    def __init__(self, config, d_model, d_ffn, layer_idx=None):\n",
        "        super().__init__()\n",
        "        self.ln_1 = nn.LayerNorm(d_model, eps=config.layer_norm_epsilon)\n",
        "        self.attn = GPT2_ATTENTION_CLASSES[config._attn_implementation](config=config, layer_idx=layer_idx)\n",
        "        self.ln_2 = nn.LayerNorm(d_model, eps=config.layer_norm_epsilon)\n",
        "        self.mlp = GPT2MLP(config, d_model, d_ffn)\n",
        "\n",
        "    def forward(\n",
        "        self,\n",
        "        hidden_states: Optional[Tuple[torch.FloatTensor]],\n",
        "        attention_mask: Optional[torch.FloatTensor] = None,\n",
        "    ):\n",
        "        residual = hidden_states\n",
        "        hidden_states = self.ln_1(hidden_states)\n",
        "        attn_output = self.attn(\n",
        "            hidden_states,\n",
        "            attention_mask=attention_mask,\n",
        "        )\n",
        "        # residual connection\n",
        "        hidden_states = attn_output + residual\n",
        "        residual = hidden_states\n",
        "        hidden_states = self.ln_2(hidden_states)\n",
        "        feed_forward_hidden_states = self.mlp(hidden_states)\n",
        "        # residual connection\n",
        "        hidden_states = residual + feed_forward_hidden_states\n",
        "\n",
        "        return hidden_states"
      ]
    },
    {
      "cell_type": "code",
      "execution_count": null,
      "metadata": {
        "id": "uzQFIbWYDT0_",
        "colab": {
          "base_uri": "https://localhost:8080/"
        },
        "outputId": "28f5b96f-1af0-4fee-b2b0-aec4f7eae6a7"
      },
      "outputs": [
        {
          "output_type": "stream",
          "name": "stdout",
          "text": [
            "skipping\n"
          ]
        }
      ],
      "source": [
        "%%script echo skipping\n",
        "class GPTJBlock(nn.Module):\n",
        "    def __init__(self, config, d_model, d_ffn, layer_idx=None):\n",
        "        super().__init__()\n",
        "        self.ln_1 = nn.LayerNorm(d_model, eps=config.layer_norm_epsilon)\n",
        "        self.attn = GPTJ_ATTENTION_CLASSES[config._attn_implementation](config, layer_idx)\n",
        "        self.mlp = GPTJMLP(config, d_model, d_ffn)\n",
        "\n",
        "    def forward(\n",
        "        self,\n",
        "        hidden_states: Optional[torch.FloatTensor],\n",
        "        attention_mask: Optional[torch.FloatTensor] = None,\n",
        "    ):\n",
        "        residual = hidden_states\n",
        "        hidden_states = self.ln_1(hidden_states)\n",
        "        attn_output = self.attn(\n",
        "            hidden_states=hidden_states,\n",
        "            attention_mask=attention_mask,\n",
        "        )\n",
        "\n",
        "        feed_forward_hidden_states = self.mlp(hidden_states)\n",
        "        # residual connection\n",
        "        hidden_states = attn_output + feed_forward_hidden_states + residual\n",
        "\n",
        "        return hidden_states"
      ]
    },
    {
      "cell_type": "code",
      "execution_count": null,
      "metadata": {
        "id": "c4lRLiVKDWLT",
        "colab": {
          "base_uri": "https://localhost:8080/"
        },
        "outputId": "0b43342e-14a3-4e50-8db4-d44bffb7925d"
      },
      "outputs": [
        {
          "output_type": "stream",
          "name": "stdout",
          "text": [
            "skipping\n"
          ]
        }
      ],
      "source": [
        "%%script echo skipping\n",
        "class LlamaMLP(nn.Module):\n",
        "    def __init__(self, config, d_model, d_ffn):\n",
        "        super().__init__()\n",
        "        self.gate_proj = nn.Linear(d_model, d_ffn, bias=config.mlp_bias)\n",
        "        self.up_proj = nn.Linear(d_model, d_ffn, bias=config.mlp_bias)\n",
        "        self.down_proj = nn.Linear(d_ffn, d_model, bias=config.mlp_bias)\n",
        "        self.act_fn = ACT2FN[config.hidden_act]\n",
        "\n",
        "    def forward(self, x):\n",
        "        # x: [BS, d_model]\n",
        "        hidden_states = self.act_fn(self.gate_proj(x)) * self.up_proj(x)\n",
        "        output = self.down_proj(hidden_states)\n",
        "        return output"
      ]
    },
    {
      "cell_type": "markdown",
      "metadata": {
        "id": "JzDenRPnDYMu"
      },
      "source": [
        "#### Q2.2.1 What are the differences between `GPTJBlock()` and `GPT2Block()`? (7 points)\n",
        "- Hint: (1) When do self.attn() and self.mlp() add to the residual stream, respectively? (2) What's the input of self.mlp()?\n",
        "- **Ignore** the differences in bias terms, layernorm, dropout, and activation functions."
      ]
    },
    {
      "cell_type": "markdown",
      "metadata": {
        "id": "6Pn_Xy3qDhrf"
      },
      "source": [
        "\n",
        "1.   \n",
        "\n",
        "*  In GPT2Block(), self.attn() adds to the residual stream after using it to get the attention output, this addidition updates the hidden state. After doing the second layer normalization to adjust hidden_states, self.mlp() is applied to hidden_states and added to the residual stream\n",
        "*   This is different to GPTJBlock(), where self.attn() and self.mlp() are added together to the residual stream\n",
        "\n",
        "\n",
        "\n",
        "2.   \n",
        "\n",
        "\n",
        "*   In GPT2Block(), self.mlp() takes as its input the second layer normalization of the hidden_states, which comes after the attention mechanism\n",
        "*   In GPTJBlock(), self.mlp() takes the first layer normalization, meaning there is no normalization of the attention mechanism thats passed in\n",
        "\n",
        "\n",
        "\n"
      ]
    },
    {
      "cell_type": "markdown",
      "metadata": {
        "id": "sSqczliiD-P6"
      },
      "source": [
        "#### Q2.2.2 In `LlamaMLP()`, the shape of the input `x` is `[BS, d_model]`. What are the shapes of `self.act_fn(self.gate_proj(x))`, `self.up_proj(x)`, `hidden_states`, and `output`, respectively? Answer with the variable names (4 points).\n",
        "- The type of the activation function (ReLU, SiLU, or Sigmoid) does not change the answer"
      ]
    },
    {
      "cell_type": "markdown",
      "metadata": {
        "id": "ynke0xJJELNo"
      },
      "source": [
        "#### Your answer here\n",
        "- (1 point) The shape of the output of `self.act_fn(self.gate_proj(x))`: [BS, d_ffn]\n",
        "- (1 point) The shape of the output of `self.up_proj(x)`: [BS, d_ffn]\n",
        "- (1 point) The shape of `hidden_states`: [BS, d_ffn]\n",
        "- (1 point) The shape of `output`: [BS, d_model]"
      ]
    },
    {
      "cell_type": "markdown",
      "metadata": {
        "id": "ZZFhYECBGFuO"
      },
      "source": [
        "# Question 3: Finetuning\n",
        "\n",
        "In this question, you will be asked to finetune a pretrained language model DistillBERT on sentiment analysis task using IMDb dataset."
      ]
    },
    {
      "cell_type": "code",
      "execution_count": 1,
      "metadata": {
        "id": "O3W2F3rR8zmE",
        "colab": {
          "base_uri": "https://localhost:8080/"
        },
        "outputId": "4e888870-f1f2-4cbb-9438-f30ae13794eb"
      },
      "outputs": [
        {
          "output_type": "stream",
          "name": "stdout",
          "text": [
            "Collecting datasets\n",
            "  Downloading datasets-3.0.2-py3-none-any.whl.metadata (20 kB)\n",
            "Requirement already satisfied: filelock in /usr/local/lib/python3.10/dist-packages (from datasets) (3.16.1)\n",
            "Requirement already satisfied: numpy>=1.17 in /usr/local/lib/python3.10/dist-packages (from datasets) (1.26.4)\n",
            "Requirement already satisfied: pyarrow>=15.0.0 in /usr/local/lib/python3.10/dist-packages (from datasets) (16.1.0)\n",
            "Collecting dill<0.3.9,>=0.3.0 (from datasets)\n",
            "  Downloading dill-0.3.8-py3-none-any.whl.metadata (10 kB)\n",
            "Requirement already satisfied: pandas in /usr/local/lib/python3.10/dist-packages (from datasets) (2.2.2)\n",
            "Requirement already satisfied: requests>=2.32.2 in /usr/local/lib/python3.10/dist-packages (from datasets) (2.32.3)\n",
            "Requirement already satisfied: tqdm>=4.66.3 in /usr/local/lib/python3.10/dist-packages (from datasets) (4.66.5)\n",
            "Collecting xxhash (from datasets)\n",
            "  Downloading xxhash-3.5.0-cp310-cp310-manylinux_2_17_x86_64.manylinux2014_x86_64.whl.metadata (12 kB)\n",
            "Collecting multiprocess<0.70.17 (from datasets)\n",
            "  Downloading multiprocess-0.70.16-py310-none-any.whl.metadata (7.2 kB)\n",
            "Requirement already satisfied: fsspec<=2024.9.0,>=2023.1.0 in /usr/local/lib/python3.10/dist-packages (from fsspec[http]<=2024.9.0,>=2023.1.0->datasets) (2024.6.1)\n",
            "Requirement already satisfied: aiohttp in /usr/local/lib/python3.10/dist-packages (from datasets) (3.10.10)\n",
            "Requirement already satisfied: huggingface-hub>=0.23.0 in /usr/local/lib/python3.10/dist-packages (from datasets) (0.24.7)\n",
            "Requirement already satisfied: packaging in /usr/local/lib/python3.10/dist-packages (from datasets) (24.1)\n",
            "Requirement already satisfied: pyyaml>=5.1 in /usr/local/lib/python3.10/dist-packages (from datasets) (6.0.2)\n",
            "Requirement already satisfied: aiohappyeyeballs>=2.3.0 in /usr/local/lib/python3.10/dist-packages (from aiohttp->datasets) (2.4.3)\n",
            "Requirement already satisfied: aiosignal>=1.1.2 in /usr/local/lib/python3.10/dist-packages (from aiohttp->datasets) (1.3.1)\n",
            "Requirement already satisfied: attrs>=17.3.0 in /usr/local/lib/python3.10/dist-packages (from aiohttp->datasets) (24.2.0)\n",
            "Requirement already satisfied: frozenlist>=1.1.1 in /usr/local/lib/python3.10/dist-packages (from aiohttp->datasets) (1.4.1)\n",
            "Requirement already satisfied: multidict<7.0,>=4.5 in /usr/local/lib/python3.10/dist-packages (from aiohttp->datasets) (6.1.0)\n",
            "Requirement already satisfied: yarl<2.0,>=1.12.0 in /usr/local/lib/python3.10/dist-packages (from aiohttp->datasets) (1.15.4)\n",
            "Requirement already satisfied: async-timeout<5.0,>=4.0 in /usr/local/lib/python3.10/dist-packages (from aiohttp->datasets) (4.0.3)\n",
            "Requirement already satisfied: typing-extensions>=3.7.4.3 in /usr/local/lib/python3.10/dist-packages (from huggingface-hub>=0.23.0->datasets) (4.12.2)\n",
            "Requirement already satisfied: charset-normalizer<4,>=2 in /usr/local/lib/python3.10/dist-packages (from requests>=2.32.2->datasets) (3.4.0)\n",
            "Requirement already satisfied: idna<4,>=2.5 in /usr/local/lib/python3.10/dist-packages (from requests>=2.32.2->datasets) (3.10)\n",
            "Requirement already satisfied: urllib3<3,>=1.21.1 in /usr/local/lib/python3.10/dist-packages (from requests>=2.32.2->datasets) (2.2.3)\n",
            "Requirement already satisfied: certifi>=2017.4.17 in /usr/local/lib/python3.10/dist-packages (from requests>=2.32.2->datasets) (2024.8.30)\n",
            "Requirement already satisfied: python-dateutil>=2.8.2 in /usr/local/lib/python3.10/dist-packages (from pandas->datasets) (2.8.2)\n",
            "Requirement already satisfied: pytz>=2020.1 in /usr/local/lib/python3.10/dist-packages (from pandas->datasets) (2024.2)\n",
            "Requirement already satisfied: tzdata>=2022.7 in /usr/local/lib/python3.10/dist-packages (from pandas->datasets) (2024.2)\n",
            "Requirement already satisfied: six>=1.5 in /usr/local/lib/python3.10/dist-packages (from python-dateutil>=2.8.2->pandas->datasets) (1.16.0)\n",
            "Requirement already satisfied: propcache>=0.2.0 in /usr/local/lib/python3.10/dist-packages (from yarl<2.0,>=1.12.0->aiohttp->datasets) (0.2.0)\n",
            "Downloading datasets-3.0.2-py3-none-any.whl (472 kB)\n",
            "\u001b[2K   \u001b[90m━━━━━━━━━━━━━━━━━━━━━━━━━━━━━━━━━━━━━━━━\u001b[0m \u001b[32m472.7/472.7 kB\u001b[0m \u001b[31m8.9 MB/s\u001b[0m eta \u001b[36m0:00:00\u001b[0m\n",
            "\u001b[?25hDownloading dill-0.3.8-py3-none-any.whl (116 kB)\n",
            "\u001b[2K   \u001b[90m━━━━━━━━━━━━━━━━━━━━━━━━━━━━━━━━━━━━━━━━\u001b[0m \u001b[32m116.3/116.3 kB\u001b[0m \u001b[31m7.5 MB/s\u001b[0m eta \u001b[36m0:00:00\u001b[0m\n",
            "\u001b[?25hDownloading multiprocess-0.70.16-py310-none-any.whl (134 kB)\n",
            "\u001b[2K   \u001b[90m━━━━━━━━━━━━━━━━━━━━━━━━━━━━━━━━━━━━━━━━\u001b[0m \u001b[32m134.8/134.8 kB\u001b[0m \u001b[31m6.0 MB/s\u001b[0m eta \u001b[36m0:00:00\u001b[0m\n",
            "\u001b[?25hDownloading xxhash-3.5.0-cp310-cp310-manylinux_2_17_x86_64.manylinux2014_x86_64.whl (194 kB)\n",
            "\u001b[2K   \u001b[90m━━━━━━━━━━━━━━━━━━━━━━━━━━━━━━━━━━━━━━━━\u001b[0m \u001b[32m194.1/194.1 kB\u001b[0m \u001b[31m7.1 MB/s\u001b[0m eta \u001b[36m0:00:00\u001b[0m\n",
            "\u001b[?25hInstalling collected packages: xxhash, dill, multiprocess, datasets\n",
            "Successfully installed datasets-3.0.2 dill-0.3.8 multiprocess-0.70.16 xxhash-3.5.0\n"
          ]
        }
      ],
      "source": [
        "!pip install datasets"
      ]
    },
    {
      "cell_type": "code",
      "execution_count": 2,
      "metadata": {
        "id": "g-ydErHGG-Fv",
        "colab": {
          "base_uri": "https://localhost:8080/",
          "height": 354,
          "referenced_widgets": [
            "bd9a1f462da94713b5dbedc9a8026d93",
            "df395d3937504261a5d5bf71b0c9e175",
            "a35dd1474f534e90b0a65f0d41302a28",
            "5ae1bdca7505435a8061ea54ff1d47d3",
            "f7432c91e7444901bb243c55e92b108f",
            "0cefcd0783f0413483c9aec9692e543f",
            "6897b429f6be46d381f7202730c6356e",
            "ed962b8204174bc88b49732ff23f8ae3",
            "0e6d41ac5d2d4733918a8d65e3fdcdb4",
            "e0ae2a07aa394a789e91eaa2faa3b854",
            "7a64628c13ea42a08e406c9e939a2088",
            "4d00e5ba4d084317b2c91f756da35ad2",
            "c639150ff3774d8ebea6e7e83c422407",
            "a749bbcc00ac465f919c6c09b0d09ccb",
            "c530c48de4884b8fadc664f6aa058b58",
            "41ee5dbfa4d743c7a5d85109c6167c9b",
            "505d7aead14f43419d37be6a3d0aaac5",
            "061aad774da04bdbb933922b6e4a1bd8",
            "b9ad9c9b55724b3e8e7394b98becfff4",
            "d01ece965c404355baee964ad0ddf6fc",
            "4a4c54208cd64ba0a8bea36b75406da0",
            "3691557b48cb4d24a29380c57364fd33",
            "729426f8db34440e9ec07edd6789bb5b",
            "9bb259604ff44b13a7a0a13971da4fbb",
            "83bd799ef8d24183bc35990eded20ee6",
            "0cec97176f9e41d0945e291aaa865cba",
            "283de030e09841eba507d36d12a7c5d5",
            "8ffe5fc64786471697ec4deed2c65c7c",
            "17f329eb3b8b43f089e572f7dbcea2eb",
            "a4b86312e7d041b488d0fee01a1482a6",
            "b26fbd77aa944147a160af4956f13554",
            "8cbe8d7ff74243b3b61648fc86e31e5a",
            "bf86b07945174084860b8dadaa381618",
            "44db12bcc52247eda3fd27a928abc8b2",
            "461ee0c06e334d55abec5654a1a5e55c",
            "d7fdfe038fb741688001f5321f9c65b5",
            "1dda8dd55ab7498b9ef391106b4fabb8",
            "cb522879ab434cb9b311159f9f4a9d27",
            "f6096f6e9ba94e0f925601efaaec5cbd",
            "1a03dfe8b86445998e3cd2ab5d544fb8",
            "d513beb45bf044e7ad980b0f2361200b",
            "5d43ed5916ab4122811dcb8c6af854c0",
            "acae327315c24c989f3732ab254b7a59",
            "4b6a1193b1624be0b3c9bc7b1a758bcf",
            "ae5d1c567af244cfa84519f89bd50f85",
            "5558e45ad1a2425ea8f382725b8c28a3",
            "e0ceca14f109494eb70eb5c12f171bf0",
            "7d662f0b18e5428eba1725793cfa4766",
            "bbea0e99b3c14535ac50e53948e876c1",
            "d25bb84e0f05480b8b3a2f0f55499a03",
            "b9297beab7d7416ba7fb7e6b50a1455c",
            "9db62e2de3b14b8bbbaec7bcb83307ec",
            "92fdd6edbd4d4ef0bb490155160f179e",
            "85047035991c4d5a90d53d6c70df04fa",
            "8ba9cec7d1d44cadadd611f382895fe9",
            "2e154be084a1445f8e94acec0e77f274",
            "13b4e7f33d81499785d568573d798ddc",
            "6707787059254285ba35a72e4cebe1b2",
            "36eea5aedf39489ba1891efc7acbfb7f",
            "7f57040655634f6f85a8650df3dd8908",
            "42a0a8678fab476a984e517d93bac476",
            "5a253890808f4a53b288ee9d212ffb79",
            "90a21469905e4b0f874906427e9a67a5",
            "6349ea3471304b998805235c4f0bbe9b",
            "d3d93507087846f496e23b8eba71a23f",
            "d814db58a4bf45c1a921a87ebe59cbe9",
            "c8edf5e3e72b4db29276cf3fb597b470",
            "9e0e20c08647447088b1c64b1d25130c",
            "29245ddc79154b51aeb5225aefdd56a5",
            "d16d0d42adf94bf9a29d452bd6a19795",
            "fdc0820d99ba44afa57ad299d3e59212",
            "e87724d5c5124bd1bd8526e341db2736",
            "24327880cb104fba939c7c5005bc23c4",
            "c908166c599f453a8389994daac48473",
            "a0d9d6441876467e9c1a7f519e85dad5",
            "4677c48f4092493c9f9e8d406d907910",
            "37cd63d0c89d4957a3c7b63d93f60479"
          ]
        },
        "outputId": "0e8f1d59-2b9b-4b5d-8ba2-70cda64f3e97"
      },
      "outputs": [
        {
          "output_type": "stream",
          "name": "stderr",
          "text": [
            "/usr/local/lib/python3.10/dist-packages/huggingface_hub/utils/_token.py:89: UserWarning: \n",
            "The secret `HF_TOKEN` does not exist in your Colab secrets.\n",
            "To authenticate with the Hugging Face Hub, create a token in your settings tab (https://huggingface.co/settings/tokens), set it as secret in your Google Colab and restart your session.\n",
            "You will be able to reuse this secret in all of your notebooks.\n",
            "Please note that authentication is recommended but still optional to access public models or datasets.\n",
            "  warnings.warn(\n"
          ]
        },
        {
          "output_type": "display_data",
          "data": {
            "text/plain": [
              "README.md:   0%|          | 0.00/7.81k [00:00<?, ?B/s]"
            ],
            "application/vnd.jupyter.widget-view+json": {
              "version_major": 2,
              "version_minor": 0,
              "model_id": "bd9a1f462da94713b5dbedc9a8026d93"
            }
          },
          "metadata": {}
        },
        {
          "output_type": "display_data",
          "data": {
            "text/plain": [
              "train-00000-of-00001.parquet:   0%|          | 0.00/21.0M [00:00<?, ?B/s]"
            ],
            "application/vnd.jupyter.widget-view+json": {
              "version_major": 2,
              "version_minor": 0,
              "model_id": "4d00e5ba4d084317b2c91f756da35ad2"
            }
          },
          "metadata": {}
        },
        {
          "output_type": "display_data",
          "data": {
            "text/plain": [
              "test-00000-of-00001.parquet:   0%|          | 0.00/20.5M [00:00<?, ?B/s]"
            ],
            "application/vnd.jupyter.widget-view+json": {
              "version_major": 2,
              "version_minor": 0,
              "model_id": "729426f8db34440e9ec07edd6789bb5b"
            }
          },
          "metadata": {}
        },
        {
          "output_type": "display_data",
          "data": {
            "text/plain": [
              "unsupervised-00000-of-00001.parquet:   0%|          | 0.00/42.0M [00:00<?, ?B/s]"
            ],
            "application/vnd.jupyter.widget-view+json": {
              "version_major": 2,
              "version_minor": 0,
              "model_id": "44db12bcc52247eda3fd27a928abc8b2"
            }
          },
          "metadata": {}
        },
        {
          "output_type": "display_data",
          "data": {
            "text/plain": [
              "Generating train split:   0%|          | 0/25000 [00:00<?, ? examples/s]"
            ],
            "application/vnd.jupyter.widget-view+json": {
              "version_major": 2,
              "version_minor": 0,
              "model_id": "ae5d1c567af244cfa84519f89bd50f85"
            }
          },
          "metadata": {}
        },
        {
          "output_type": "display_data",
          "data": {
            "text/plain": [
              "Generating test split:   0%|          | 0/25000 [00:00<?, ? examples/s]"
            ],
            "application/vnd.jupyter.widget-view+json": {
              "version_major": 2,
              "version_minor": 0,
              "model_id": "2e154be084a1445f8e94acec0e77f274"
            }
          },
          "metadata": {}
        },
        {
          "output_type": "display_data",
          "data": {
            "text/plain": [
              "Generating unsupervised split:   0%|          | 0/50000 [00:00<?, ? examples/s]"
            ],
            "application/vnd.jupyter.widget-view+json": {
              "version_major": 2,
              "version_minor": 0,
              "model_id": "c8edf5e3e72b4db29276cf3fb597b470"
            }
          },
          "metadata": {}
        }
      ],
      "source": [
        "#load dataset\n",
        "# we use imdb dataset to finetune the model. We test the model on imdb and sst2.\n",
        "from datasets import load_dataset\n",
        "\n",
        "imdb_dataset = load_dataset('stanfordnlp/imdb')\n"
      ]
    },
    {
      "cell_type": "markdown",
      "metadata": {
        "id": "hCdtYhZfIUbn"
      },
      "source": [
        "## 1. Preprocess the data (4pts)\n",
        "\n",
        "\n",
        "For imdb, split the train dataset into train set and dev set. The dev set is used within training process to select the best checkpoint. Use train_test_split() from sklearn to split. The ratio of dev set is 0.1. Set the random state as 42."
      ]
    },
    {
      "cell_type": "code",
      "execution_count": 3,
      "metadata": {
        "id": "ZrVgOCBEITjC"
      },
      "outputs": [],
      "source": [
        "from sklearn.model_selection import train_test_split\n",
        "# write your code here, make sure you use the name defined below.\n",
        "\n",
        "train_data = imdb_dataset['train']\n",
        "\n",
        "splitter = train_test_split(train_data['text'], train_data['label'], test_size=0.1, random_state=42, stratify=train_data['label'])\n",
        "\n",
        "train_x, dev_x, train_y, dev_y = splitter\n",
        "\n"
      ]
    },
    {
      "cell_type": "code",
      "execution_count": 4,
      "metadata": {
        "colab": {
          "base_uri": "https://localhost:8080/"
        },
        "id": "m0-NstVLwf9H",
        "outputId": "e3adffa7-b88f-4a7a-a6a8-0aeebb10ed06"
      },
      "outputs": [
        {
          "output_type": "stream",
          "name": "stdout",
          "text": [
            "\"Algie, the Miner\" is one bad and unfunny silent comedy. The timing of the slapstick is completely off. This is the kind of humor with certain sequences that make you wonder if they're supposed to be funny or not. However, the actual quality of the film is irrelevant. This is mandatory viewing for film buffs mainly because its one of the earliest examples of gay cinema. The main character of Algie is an effeminate guy, acting much like the stereotypical \"pansy\" common in many early films. The film has the homophobic attitude common of the time. \"Algie, the Miner\" is pretty awful, but fascinating from a historical viewpoint. (3/10)\n"
          ]
        }
      ],
      "source": [
        "print(train_x[0])"
      ]
    },
    {
      "cell_type": "markdown",
      "metadata": {
        "id": "kw7QOg__Lz7t"
      },
      "source": [
        "## 2. Prepare the data (10pts)\n",
        "\n",
        "\n",
        "We use Dataset class from torch.utils.data to prepare data, and DataLoader class to prepare batches for training.\n",
        "\n",
        "In the SentimentAnalysisDataset class, you need to use DistillBert tokenizer to tokenize the sentence."
      ]
    },
    {
      "cell_type": "code",
      "execution_count": 5,
      "metadata": {
        "colab": {
          "base_uri": "https://localhost:8080/",
          "height": 253,
          "referenced_widgets": [
            "4bfc91a88c47400786199f69778efbdb",
            "576880d7e2ba4503ac1b0e4f02461c51",
            "a8d1faac922e46aab45e47ab41e2495b",
            "bc96255be33d46c68e40d25806c41050",
            "383d0c5c70dd403c900596e49d7b4bbc",
            "c6253dadad2643e180d88e4bcd8a0d20",
            "6506a47242b648a29306e71654761114",
            "03a5755301fe48e3a4cd1f6ac2b9d7e2",
            "4d2df9711f7d45bca89211813e7e0829",
            "0ed5a3ada09c4ba3ba1938d6f8cbfc4d",
            "4802e101d0454f46a62baacd8e410e11",
            "65423fdba7514f9998b721a018cdc207",
            "f44863161d9d47cba1a1e1540ddb983c",
            "0ca609a625444a4f8ae6bca977186e04",
            "1e27ebc624144bdfb6f7a03d7a49a63b",
            "510fbbf5f2294fc68d8981e0652033b8",
            "ade2562ec91c47528254b23ceabfc6a1",
            "886edb7023e2405e8a4c408d04ce439c",
            "eb77f8b4a4f048d59862d2da16606f7d",
            "14f31574b224482b9c443c857c0396c0",
            "c0faa31a00cd4662bec6c4d08ad460d6",
            "d950670d94d94072bb70bffaf8786003",
            "5d84c43efc4d4ba09399ceac59a45acd",
            "07ca836a668040528baba6f34e330199",
            "2871012944bb445dbd94435df4d8069d",
            "1f3d6a9ea00b47c2b6644324e5da360c",
            "2c48af0c13ee47dd8991a88d65e91aeb",
            "226b9b9f7fe74c7ea4a3a09b45a67359",
            "8b8cc64070fe4304a6a94d29fe2344fe",
            "f6a371134da3423b8ba03645cc71ed52",
            "53a03c3968be417ca25bd07b14f5c05f",
            "7666842073df48e4ab4f1444687f17e6",
            "e7396883cb16475198945a4a6dcfa174",
            "48be8ce2f86f4eea997ccd09874f0443",
            "f504feb31a294075bd41c69c22b8d64a",
            "259195c5f6bc42f1be5a341b112d256c",
            "88f586d66809474a8fd37e8012e0dca6",
            "b31e2535b3524c839be3c64fae082ddb",
            "02b5a2324e3445ba8247ca34d64479f9",
            "cfa761b5a0fb49fca7f02a42156ca9c8",
            "89352a8eb92d47f19dbb5421f07d7b7c",
            "fd6a1e65356e4be1b3ec1c972990484a",
            "17cb0780f7d8423f85c0b5d3b5cd4f37",
            "1f26310bc7a1419eba4f72c70e0b79f0",
            "0bc6de8925d044c1b60bc28718fffe51",
            "81c974ce6e86426fa04f02211ec9fb61",
            "21b663a3e352470897bd50155c8642a7",
            "8f078e73025b42c0ab5eff4658fcfb66",
            "493ac096560a4d97aa47062e5a9f4fe3",
            "00fd5b124e38485e86a90625293e14df",
            "b1bbbaa24faa43b3a00d9f740a069724",
            "7eb9c3d7a3ee4c448ce3b53cb21146b9",
            "884af691fd774738bc2605001e2284f4",
            "69668dcb905a44f0bec244a1b17bf05f",
            "d0059e69e1214add8e4c4784f5e9d069"
          ]
        },
        "id": "7F7rgxCPO5JO",
        "outputId": "40cb44bc-4a04-4442-9aab-cde7ab46be17"
      },
      "outputs": [
        {
          "output_type": "stream",
          "name": "stderr",
          "text": [
            "The cache for model files in Transformers v4.22.0 has been updated. Migrating your old cache. This is a one-time only operation. You can interrupt this and resume the migration later on by calling `transformers.utils.move_cache()`.\n"
          ]
        },
        {
          "output_type": "display_data",
          "data": {
            "text/plain": [
              "0it [00:00, ?it/s]"
            ],
            "application/vnd.jupyter.widget-view+json": {
              "version_major": 2,
              "version_minor": 0,
              "model_id": "4bfc91a88c47400786199f69778efbdb"
            }
          },
          "metadata": {}
        },
        {
          "output_type": "display_data",
          "data": {
            "text/plain": [
              "tokenizer_config.json:   0%|          | 0.00/48.0 [00:00<?, ?B/s]"
            ],
            "application/vnd.jupyter.widget-view+json": {
              "version_major": 2,
              "version_minor": 0,
              "model_id": "65423fdba7514f9998b721a018cdc207"
            }
          },
          "metadata": {}
        },
        {
          "output_type": "display_data",
          "data": {
            "text/plain": [
              "config.json:   0%|          | 0.00/483 [00:00<?, ?B/s]"
            ],
            "application/vnd.jupyter.widget-view+json": {
              "version_major": 2,
              "version_minor": 0,
              "model_id": "5d84c43efc4d4ba09399ceac59a45acd"
            }
          },
          "metadata": {}
        },
        {
          "output_type": "display_data",
          "data": {
            "text/plain": [
              "vocab.txt:   0%|          | 0.00/232k [00:00<?, ?B/s]"
            ],
            "application/vnd.jupyter.widget-view+json": {
              "version_major": 2,
              "version_minor": 0,
              "model_id": "48be8ce2f86f4eea997ccd09874f0443"
            }
          },
          "metadata": {}
        },
        {
          "output_type": "display_data",
          "data": {
            "text/plain": [
              "tokenizer.json:   0%|          | 0.00/466k [00:00<?, ?B/s]"
            ],
            "application/vnd.jupyter.widget-view+json": {
              "version_major": 2,
              "version_minor": 0,
              "model_id": "0bc6de8925d044c1b60bc28718fffe51"
            }
          },
          "metadata": {}
        },
        {
          "output_type": "stream",
          "name": "stderr",
          "text": [
            "/usr/local/lib/python3.10/dist-packages/transformers/tokenization_utils_base.py:1601: FutureWarning: `clean_up_tokenization_spaces` was not set. It will be set to `True` by default. This behavior will be depracted in transformers v4.45, and will be then set to `False` by default. For more details check this issue: https://github.com/huggingface/transformers/issues/31884\n",
            "  warnings.warn(\n"
          ]
        }
      ],
      "source": [
        "from transformers import AutoTokenizer, AutoModel\n",
        "tokenizer = AutoTokenizer.from_pretrained('distilbert/distilbert-base-uncased')\n"
      ]
    },
    {
      "cell_type": "code",
      "execution_count": 6,
      "metadata": {
        "id": "UAWZHrraLzEb"
      },
      "outputs": [],
      "source": [
        "from torch.utils.data import Dataset, DataLoader\n",
        "\n",
        "import torch\n",
        "\n",
        "\n",
        "class SentimentAnalysisDataset(Dataset):\n",
        "  #write your code here\n",
        "  def __init__(self,data, tokenizer, max_len = 512):\n",
        "    self.input_texts = data['input']\n",
        "    self.labels = data['label']\n",
        "    self.tokenizer = tokenizer\n",
        "    self.max_len = max_len\n",
        "    self.prepare()\n",
        "\n",
        "\n",
        "  def prepare(self):\n",
        "    encodings = self.tokenizer(self.input_texts, truncation=True, padding='max_length', max_length=self.max_len, return_tensors='pt')\n",
        "    self.input_ids = encodings['input_ids']\n",
        "    self.len = len(self.input_texts)\n",
        "    self.attention_masks = encodings['attention_mask']\n",
        "\n",
        "\n",
        "  def __len__(self):\n",
        "    return self.len\n",
        "\n",
        "  def __getitem__(self,idx):\n",
        "    return {\n",
        "            'input_ids': self.input_ids[idx],\n",
        "            'labels': torch.tensor(self.labels[idx], dtype=torch.long),\n",
        "             'attention_mask': self.attention_masks[idx]\n",
        "          }\n",
        "\n",
        "# Example of usage\n",
        "# Usage of GPU: due to limit usage of GPU on Colab, we will not train the whole training set. If you can get access to GPU, we strongly recommend you to run it on GPU and try it on the whole dataset. In this homework, we only run first 20 samples.\n",
        "train = {'input':train_x[:20], 'label':train_y[:20]}\n",
        "train_dataset = SentimentAnalysisDataset(train, tokenizer)\n",
        "\n",
        "train_dataloader = DataLoader(train_dataset, batch_size = 4, shuffle = True)\n"
      ]
    },
    {
      "cell_type": "code",
      "execution_count": 7,
      "metadata": {
        "id": "FeRXj-Hgw-vv"
      },
      "outputs": [],
      "source": [
        "assert sum(train_dataset.attention_masks[0])==149"
      ]
    },
    {
      "cell_type": "markdown",
      "metadata": {
        "id": "WRFvGe7p11TO"
      },
      "source": [
        "## 3. Define the model (12pts)\n",
        "\n",
        "We use DistillBERT as base model. We still need a linear layer to mapping the last hidden state to classes dimension.\n",
        "\n",
        "The model should have a base model, a linear layer, a dropout layer (0.5) and softmax function. The forward function go through all the layers one by one and return the softmax result."
      ]
    },
    {
      "cell_type": "code",
      "execution_count": 8,
      "metadata": {
        "id": "WUl4nHap1fSX",
        "colab": {
          "base_uri": "https://localhost:8080/",
          "height": 49,
          "referenced_widgets": [
            "ab690212427246769f246e3800dc3c16",
            "7087d07673d3428aad7cb5746424c86b",
            "ca2d9fdd6bec48b89696f000ebe39eda",
            "7d11c5ef9b584507b13b80ab66eaf90f",
            "eb66715ac6534bd3ac2bf8e0285c7c5c",
            "561c7ad814d5485e8a71c23d51355802",
            "a13639399a604bf490876221a9aa5ae7",
            "4d76e3ef5c024c3f972248231a8874f9",
            "e18caf905c96408d8546b66d78127082",
            "6e4eeaa0c8cd4c74b5e0d2e1022dade1",
            "c7665494d9594a2f885ac6f2beedf97c"
          ]
        },
        "outputId": "30a86949-59df-4701-f79c-df4fd7aec95c"
      },
      "outputs": [
        {
          "output_type": "display_data",
          "data": {
            "text/plain": [
              "model.safetensors:   0%|          | 0.00/268M [00:00<?, ?B/s]"
            ],
            "application/vnd.jupyter.widget-view+json": {
              "version_major": 2,
              "version_minor": 0,
              "model_id": "ab690212427246769f246e3800dc3c16"
            }
          },
          "metadata": {}
        }
      ],
      "source": [
        "from torch import nn\n",
        "\n",
        "device = torch.device(\"cuda:0\" if torch.cuda.is_available() else \"cpu\")\n",
        "bertmodel = AutoModel.from_pretrained(\"distilbert/distilbert-base-uncased\")\n",
        "\n",
        "class ClassificationModel(nn.Module):\n",
        "    def __init__(self,base_model,num_classes):\n",
        "        super().__init__()\n",
        "        torch.manual_seed(42)\n",
        "        self.base_model = base_model\n",
        "        self.dropout = nn.Dropout(p=0.5)\n",
        "        self.classifier = nn.Linear(base_model.config.hidden_size, num_classes)\n",
        "        self.softmax = nn.Softmax(dim=1)\n",
        "\n",
        "\n",
        "    def forward(self,input_ids, attention_mask):\n",
        "        outputs = self.base_model(input_ids=input_ids, attention_mask=attention_mask)\n",
        "        last = outputs.last_hidden_state\n",
        "\n",
        "        out = last[:, 0, :]\n",
        "        out = self.dropout(out)\n",
        "        logits = self.classifier(out)\n",
        "        predicts = self.softmax(logits)\n",
        "\n",
        "        return predicts"
      ]
    },
    {
      "cell_type": "code",
      "execution_count": 9,
      "metadata": {
        "id": "_rrqu5dB2wXd"
      },
      "outputs": [],
      "source": [
        "model = ClassificationModel(base_model = bertmodel, num_classes = 2 )"
      ]
    },
    {
      "cell_type": "code",
      "execution_count": 10,
      "metadata": {
        "id": "vHjc-17g3Dx4"
      },
      "outputs": [],
      "source": [
        "#test case\n",
        "input_ids = train_dataset.input_ids[0]\n",
        "attention_mask = train_dataset.attention_masks[0]\n",
        "model.eval()\n",
        "with torch.no_grad():\n",
        "  predicts = model(input_ids,attention_mask)\n"
      ]
    },
    {
      "cell_type": "code",
      "execution_count": 11,
      "metadata": {
        "id": "1mspVXim3Yk3"
      },
      "outputs": [],
      "source": [
        "assert predicts.tolist() == [[0.4507104158401489, 0.5492895841598511]]"
      ]
    },
    {
      "cell_type": "markdown",
      "metadata": {
        "id": "5_Vbj3xMLJr8"
      },
      "source": [
        "## 4. Model finetuning (10pts)\n",
        "\n",
        "In this section, you need to implement train loop and evaluation loop."
      ]
    },
    {
      "cell_type": "markdown",
      "metadata": {
        "id": "P1_w9rx9Ldqm"
      },
      "source": [
        " Initialize the optimizer. We use AdamW for optimizer and cross entropy loss. (3pts)"
      ]
    },
    {
      "cell_type": "code",
      "execution_count": 12,
      "metadata": {
        "id": "X7g8NKCILc0h",
        "colab": {
          "base_uri": "https://localhost:8080/"
        },
        "outputId": "c8b1225d-1838-44d1-cd99-b48baab84155"
      },
      "outputs": [
        {
          "output_type": "stream",
          "name": "stderr",
          "text": [
            "/usr/local/lib/python3.10/dist-packages/transformers/optimization.py:591: FutureWarning: This implementation of AdamW is deprecated and will be removed in a future version. Use the PyTorch implementation torch.optim.AdamW instead, or set `no_deprecation_warning=True` to disable this warning\n",
            "  warnings.warn(\n"
          ]
        }
      ],
      "source": [
        "from transformers import AdamW\n",
        "from torch import nn\n",
        "\n",
        "optimizer = AdamW(model.parameters(), lr=5e-5)\n",
        "loss_fn = nn.CrossEntropyLoss()\n"
      ]
    },
    {
      "cell_type": "markdown",
      "metadata": {
        "id": "JRnQzQbhOSs8"
      },
      "source": [
        "We use pytorch to implement. For each epoch, we run one training loop and one evaluation loop. At the end of training, we run the model on test set using the best model saved. For one training step, we run forward pass using pretrained model given input. Then we calculate loss and do backward propagation. See the instructions in the code block.  (7pts)\n",
        "\n",
        "Ideally, you should see a obvious decrease (0.7-1) in train loss, but no decrease in dev loss, since the model is overfitting on a small training set.\n"
      ]
    },
    {
      "cell_type": "code",
      "execution_count": 13,
      "metadata": {
        "id": "eCeuEA4nLawd",
        "colab": {
          "base_uri": "https://localhost:8080/"
        },
        "outputId": "dca92e2e-ed58-44b9-e7fe-ec9902811370"
      },
      "outputs": [
        {
          "output_type": "stream",
          "name": "stderr",
          "text": [
            "Finetuning::  10%|█         | 5/50 [01:03<09:15, 12.34s/it]"
          ]
        },
        {
          "output_type": "stream",
          "name": "stdout",
          "text": [
            "Epoch 0: train loss is 0.7168913602828979\n",
            "Epoch 0: dev loss is 0.13982388973236085\n",
            "The best loss is 0.13982388973236085. Saving checkpoint!\n"
          ]
        },
        {
          "output_type": "stream",
          "name": "stderr",
          "text": [
            "Finetuning::  20%|██        | 10/50 [02:20<08:51, 13.29s/it]"
          ]
        },
        {
          "output_type": "stream",
          "name": "stdout",
          "text": [
            "Epoch 1: train loss is 0.6407652020454406\n",
            "Epoch 1: dev loss is 0.14688487052917482\n"
          ]
        },
        {
          "output_type": "stream",
          "name": "stderr",
          "text": [
            "Finetuning::  30%|███       | 15/50 [03:38<07:48, 13.38s/it]"
          ]
        },
        {
          "output_type": "stream",
          "name": "stdout",
          "text": [
            "Epoch 2: train loss is 0.601244056224823\n",
            "Epoch 2: dev loss is 0.14456632137298583\n"
          ]
        },
        {
          "output_type": "stream",
          "name": "stderr",
          "text": [
            "Finetuning::  40%|████      | 20/50 [04:55<06:44, 13.50s/it]"
          ]
        },
        {
          "output_type": "stream",
          "name": "stdout",
          "text": [
            "Epoch 3: train loss is 0.5604805827140809\n",
            "Epoch 3: dev loss is 0.13324917554855348\n",
            "The best loss is 0.13324917554855348. Saving checkpoint!\n"
          ]
        },
        {
          "output_type": "stream",
          "name": "stderr",
          "text": [
            "Finetuning::  50%|█████     | 25/50 [06:16<05:56, 14.27s/it]"
          ]
        },
        {
          "output_type": "stream",
          "name": "stdout",
          "text": [
            "Epoch 4: train loss is 0.4591250240802765\n",
            "Epoch 4: dev loss is 0.12671756744384766\n",
            "The best loss is 0.12671756744384766. Saving checkpoint!\n"
          ]
        },
        {
          "output_type": "stream",
          "name": "stderr",
          "text": [
            "Finetuning::  60%|██████    | 30/50 [07:34<04:35, 13.76s/it]"
          ]
        },
        {
          "output_type": "stream",
          "name": "stdout",
          "text": [
            "Epoch 5: train loss is 0.38872148394584655\n",
            "Epoch 5: dev loss is 0.1142874002456665\n",
            "The best loss is 0.1142874002456665. Saving checkpoint!\n"
          ]
        },
        {
          "output_type": "stream",
          "name": "stderr",
          "text": [
            "Finetuning::  70%|███████   | 35/50 [08:52<03:23, 13.59s/it]"
          ]
        },
        {
          "output_type": "stream",
          "name": "stdout",
          "text": [
            "Epoch 6: train loss is 0.3359201192855835\n",
            "Epoch 6: dev loss is 0.10968742370605469\n",
            "The best loss is 0.10968742370605469. Saving checkpoint!\n"
          ]
        },
        {
          "output_type": "stream",
          "name": "stderr",
          "text": [
            "Finetuning::  80%|████████  | 40/50 [10:09<02:15, 13.55s/it]"
          ]
        },
        {
          "output_type": "stream",
          "name": "stdout",
          "text": [
            "Epoch 7: train loss is 0.32198120951652526\n",
            "Epoch 7: dev loss is 0.11147468090057373\n"
          ]
        },
        {
          "output_type": "stream",
          "name": "stderr",
          "text": [
            "Finetuning::  90%|█████████ | 45/50 [11:28<01:08, 13.69s/it]"
          ]
        },
        {
          "output_type": "stream",
          "name": "stdout",
          "text": [
            "Epoch 8: train loss is 0.3174197733402252\n",
            "Epoch 8: dev loss is 0.11305688619613648\n"
          ]
        },
        {
          "output_type": "stream",
          "name": "stderr",
          "text": [
            "Finetuning:: 100%|██████████| 50/50 [12:47<00:00, 13.93s/it]"
          ]
        },
        {
          "output_type": "stream",
          "name": "stdout",
          "text": [
            "Epoch 9: train loss is 0.31589815616607664\n"
          ]
        },
        {
          "output_type": "stream",
          "name": "stderr",
          "text": [
            "\rFinetuning:: 100%|██████████| 50/50 [13:04<00:00, 15.69s/it]"
          ]
        },
        {
          "output_type": "stream",
          "name": "stdout",
          "text": [
            "Epoch 9: dev loss is 0.11336687803268433\n"
          ]
        },
        {
          "output_type": "stream",
          "name": "stderr",
          "text": [
            "\n"
          ]
        }
      ],
      "source": [
        "from tqdm import tqdm\n",
        "epochs = 10 # don't change\n",
        "\n",
        "dev = {'input': dev_x[:20], 'label': dev_y[:20]}\n",
        "dev_dataset = SentimentAnalysisDataset(dev, tokenizer)\n",
        "dev_dataloader = DataLoader(dev_dataset, batch_size=4, shuffle=False)\n",
        "\n",
        "num_training_steps = epochs * len(train_dataloader)\n",
        "best_model = None\n",
        "\n",
        "best_loss = 10000\n",
        "\n",
        "with tqdm(total=num_training_steps, desc='Finetuning:') as pbar:\n",
        "  for epoch in range(epochs):\n",
        "    # training loop\n",
        "    model.train()\n",
        "    train_loss = 0\n",
        "    for batch in train_dataloader:\n",
        "      '''\n",
        "      #Tips:\n",
        "      #1. Put the input and model on the same device\n",
        "      #2. Use the optimizer correctly\n",
        "      #3. Update the train loss. The printed train loss should be train_loss/len(train_dataloader)\n",
        "      '''\n",
        "      input_ids = batch['input_ids'].to(device)\n",
        "      attention_mask = batch['attention_mask'].to(device)\n",
        "      labels = batch['labels'].to(device)\n",
        "\n",
        "      optimizer.zero_grad()\n",
        "      outputs = model(input_ids=input_ids, attention_mask=attention_mask)\n",
        "      loss = loss_fn(outputs, labels)\n",
        "      loss.backward()\n",
        "      optimizer.step()\n",
        "      train_loss += loss.item()\n",
        "\n",
        "      pbar.update(1)\n",
        "\n",
        "    train_loss /= len(train_dataloader)\n",
        "\n",
        "    print(f'Epoch {epoch}: train loss is {train_loss}')\n",
        "    model.eval()\n",
        "    with torch.no_grad():\n",
        "      for batch in dev_dataloader:\n",
        "\n",
        "        dev_loss = 0\n",
        "        '''\n",
        "        #Tips:\n",
        "        #1. You don't need to use optimizer\n",
        "        #2. Update the dev loss. The printed dev loss should be dev_loss/len(dev_dataloader)\n",
        "        #3. Save the checkpoint if the dev loss is smaller than best loss and update the best loss to dev loss\n",
        "        '''\n",
        "        input_ids = batch['input_ids'].to(device)\n",
        "        attention_mask = batch['attention_mask'].to(device)\n",
        "        outputs = model(input_ids=input_ids, attention_mask=attention_mask)\n",
        "        labels = batch['labels'].to(device)\n",
        "\n",
        "        dev_loss += (loss_fn(outputs, labels)).item()\n",
        "\n",
        "      dev_loss /= len(dev_dataloader)\n",
        "\n",
        "      print(f'Epoch {epoch}: dev loss is {dev_loss}')\n",
        "      if dev_loss < best_loss:\n",
        "        #save the checkpoint\n",
        "        # write your code here\n",
        "        best_loss = dev_loss\n",
        "        best_model = model.state_dict()\n",
        "        print(f'The best loss is {dev_loss}. Saving checkpoint!')\n",
        "\n"
      ]
    },
    {
      "cell_type": "code",
      "execution_count": null,
      "metadata": {
        "id": "TBmLJ0vASj9C"
      },
      "outputs": [],
      "source": []
    }
  ],
  "metadata": {
    "colab": {
      "provenance": []
    },
    "kernelspec": {
      "display_name": "Python 3",
      "name": "python3"
    },
    "language_info": {
      "name": "python"
    },
    "widgets": {
      "application/vnd.jupyter.widget-state+json": {
        "bd9a1f462da94713b5dbedc9a8026d93": {
          "model_module": "@jupyter-widgets/controls",
          "model_name": "HBoxModel",
          "model_module_version": "1.5.0",
          "state": {
            "_dom_classes": [],
            "_model_module": "@jupyter-widgets/controls",
            "_model_module_version": "1.5.0",
            "_model_name": "HBoxModel",
            "_view_count": null,
            "_view_module": "@jupyter-widgets/controls",
            "_view_module_version": "1.5.0",
            "_view_name": "HBoxView",
            "box_style": "",
            "children": [
              "IPY_MODEL_df395d3937504261a5d5bf71b0c9e175",
              "IPY_MODEL_a35dd1474f534e90b0a65f0d41302a28",
              "IPY_MODEL_5ae1bdca7505435a8061ea54ff1d47d3"
            ],
            "layout": "IPY_MODEL_f7432c91e7444901bb243c55e92b108f"
          }
        },
        "df395d3937504261a5d5bf71b0c9e175": {
          "model_module": "@jupyter-widgets/controls",
          "model_name": "HTMLModel",
          "model_module_version": "1.5.0",
          "state": {
            "_dom_classes": [],
            "_model_module": "@jupyter-widgets/controls",
            "_model_module_version": "1.5.0",
            "_model_name": "HTMLModel",
            "_view_count": null,
            "_view_module": "@jupyter-widgets/controls",
            "_view_module_version": "1.5.0",
            "_view_name": "HTMLView",
            "description": "",
            "description_tooltip": null,
            "layout": "IPY_MODEL_0cefcd0783f0413483c9aec9692e543f",
            "placeholder": "​",
            "style": "IPY_MODEL_6897b429f6be46d381f7202730c6356e",
            "value": "README.md: 100%"
          }
        },
        "a35dd1474f534e90b0a65f0d41302a28": {
          "model_module": "@jupyter-widgets/controls",
          "model_name": "FloatProgressModel",
          "model_module_version": "1.5.0",
          "state": {
            "_dom_classes": [],
            "_model_module": "@jupyter-widgets/controls",
            "_model_module_version": "1.5.0",
            "_model_name": "FloatProgressModel",
            "_view_count": null,
            "_view_module": "@jupyter-widgets/controls",
            "_view_module_version": "1.5.0",
            "_view_name": "ProgressView",
            "bar_style": "success",
            "description": "",
            "description_tooltip": null,
            "layout": "IPY_MODEL_ed962b8204174bc88b49732ff23f8ae3",
            "max": 7809,
            "min": 0,
            "orientation": "horizontal",
            "style": "IPY_MODEL_0e6d41ac5d2d4733918a8d65e3fdcdb4",
            "value": 7809
          }
        },
        "5ae1bdca7505435a8061ea54ff1d47d3": {
          "model_module": "@jupyter-widgets/controls",
          "model_name": "HTMLModel",
          "model_module_version": "1.5.0",
          "state": {
            "_dom_classes": [],
            "_model_module": "@jupyter-widgets/controls",
            "_model_module_version": "1.5.0",
            "_model_name": "HTMLModel",
            "_view_count": null,
            "_view_module": "@jupyter-widgets/controls",
            "_view_module_version": "1.5.0",
            "_view_name": "HTMLView",
            "description": "",
            "description_tooltip": null,
            "layout": "IPY_MODEL_e0ae2a07aa394a789e91eaa2faa3b854",
            "placeholder": "​",
            "style": "IPY_MODEL_7a64628c13ea42a08e406c9e939a2088",
            "value": " 7.81k/7.81k [00:00&lt;00:00, 142kB/s]"
          }
        },
        "f7432c91e7444901bb243c55e92b108f": {
          "model_module": "@jupyter-widgets/base",
          "model_name": "LayoutModel",
          "model_module_version": "1.2.0",
          "state": {
            "_model_module": "@jupyter-widgets/base",
            "_model_module_version": "1.2.0",
            "_model_name": "LayoutModel",
            "_view_count": null,
            "_view_module": "@jupyter-widgets/base",
            "_view_module_version": "1.2.0",
            "_view_name": "LayoutView",
            "align_content": null,
            "align_items": null,
            "align_self": null,
            "border": null,
            "bottom": null,
            "display": null,
            "flex": null,
            "flex_flow": null,
            "grid_area": null,
            "grid_auto_columns": null,
            "grid_auto_flow": null,
            "grid_auto_rows": null,
            "grid_column": null,
            "grid_gap": null,
            "grid_row": null,
            "grid_template_areas": null,
            "grid_template_columns": null,
            "grid_template_rows": null,
            "height": null,
            "justify_content": null,
            "justify_items": null,
            "left": null,
            "margin": null,
            "max_height": null,
            "max_width": null,
            "min_height": null,
            "min_width": null,
            "object_fit": null,
            "object_position": null,
            "order": null,
            "overflow": null,
            "overflow_x": null,
            "overflow_y": null,
            "padding": null,
            "right": null,
            "top": null,
            "visibility": null,
            "width": null
          }
        },
        "0cefcd0783f0413483c9aec9692e543f": {
          "model_module": "@jupyter-widgets/base",
          "model_name": "LayoutModel",
          "model_module_version": "1.2.0",
          "state": {
            "_model_module": "@jupyter-widgets/base",
            "_model_module_version": "1.2.0",
            "_model_name": "LayoutModel",
            "_view_count": null,
            "_view_module": "@jupyter-widgets/base",
            "_view_module_version": "1.2.0",
            "_view_name": "LayoutView",
            "align_content": null,
            "align_items": null,
            "align_self": null,
            "border": null,
            "bottom": null,
            "display": null,
            "flex": null,
            "flex_flow": null,
            "grid_area": null,
            "grid_auto_columns": null,
            "grid_auto_flow": null,
            "grid_auto_rows": null,
            "grid_column": null,
            "grid_gap": null,
            "grid_row": null,
            "grid_template_areas": null,
            "grid_template_columns": null,
            "grid_template_rows": null,
            "height": null,
            "justify_content": null,
            "justify_items": null,
            "left": null,
            "margin": null,
            "max_height": null,
            "max_width": null,
            "min_height": null,
            "min_width": null,
            "object_fit": null,
            "object_position": null,
            "order": null,
            "overflow": null,
            "overflow_x": null,
            "overflow_y": null,
            "padding": null,
            "right": null,
            "top": null,
            "visibility": null,
            "width": null
          }
        },
        "6897b429f6be46d381f7202730c6356e": {
          "model_module": "@jupyter-widgets/controls",
          "model_name": "DescriptionStyleModel",
          "model_module_version": "1.5.0",
          "state": {
            "_model_module": "@jupyter-widgets/controls",
            "_model_module_version": "1.5.0",
            "_model_name": "DescriptionStyleModel",
            "_view_count": null,
            "_view_module": "@jupyter-widgets/base",
            "_view_module_version": "1.2.0",
            "_view_name": "StyleView",
            "description_width": ""
          }
        },
        "ed962b8204174bc88b49732ff23f8ae3": {
          "model_module": "@jupyter-widgets/base",
          "model_name": "LayoutModel",
          "model_module_version": "1.2.0",
          "state": {
            "_model_module": "@jupyter-widgets/base",
            "_model_module_version": "1.2.0",
            "_model_name": "LayoutModel",
            "_view_count": null,
            "_view_module": "@jupyter-widgets/base",
            "_view_module_version": "1.2.0",
            "_view_name": "LayoutView",
            "align_content": null,
            "align_items": null,
            "align_self": null,
            "border": null,
            "bottom": null,
            "display": null,
            "flex": null,
            "flex_flow": null,
            "grid_area": null,
            "grid_auto_columns": null,
            "grid_auto_flow": null,
            "grid_auto_rows": null,
            "grid_column": null,
            "grid_gap": null,
            "grid_row": null,
            "grid_template_areas": null,
            "grid_template_columns": null,
            "grid_template_rows": null,
            "height": null,
            "justify_content": null,
            "justify_items": null,
            "left": null,
            "margin": null,
            "max_height": null,
            "max_width": null,
            "min_height": null,
            "min_width": null,
            "object_fit": null,
            "object_position": null,
            "order": null,
            "overflow": null,
            "overflow_x": null,
            "overflow_y": null,
            "padding": null,
            "right": null,
            "top": null,
            "visibility": null,
            "width": null
          }
        },
        "0e6d41ac5d2d4733918a8d65e3fdcdb4": {
          "model_module": "@jupyter-widgets/controls",
          "model_name": "ProgressStyleModel",
          "model_module_version": "1.5.0",
          "state": {
            "_model_module": "@jupyter-widgets/controls",
            "_model_module_version": "1.5.0",
            "_model_name": "ProgressStyleModel",
            "_view_count": null,
            "_view_module": "@jupyter-widgets/base",
            "_view_module_version": "1.2.0",
            "_view_name": "StyleView",
            "bar_color": null,
            "description_width": ""
          }
        },
        "e0ae2a07aa394a789e91eaa2faa3b854": {
          "model_module": "@jupyter-widgets/base",
          "model_name": "LayoutModel",
          "model_module_version": "1.2.0",
          "state": {
            "_model_module": "@jupyter-widgets/base",
            "_model_module_version": "1.2.0",
            "_model_name": "LayoutModel",
            "_view_count": null,
            "_view_module": "@jupyter-widgets/base",
            "_view_module_version": "1.2.0",
            "_view_name": "LayoutView",
            "align_content": null,
            "align_items": null,
            "align_self": null,
            "border": null,
            "bottom": null,
            "display": null,
            "flex": null,
            "flex_flow": null,
            "grid_area": null,
            "grid_auto_columns": null,
            "grid_auto_flow": null,
            "grid_auto_rows": null,
            "grid_column": null,
            "grid_gap": null,
            "grid_row": null,
            "grid_template_areas": null,
            "grid_template_columns": null,
            "grid_template_rows": null,
            "height": null,
            "justify_content": null,
            "justify_items": null,
            "left": null,
            "margin": null,
            "max_height": null,
            "max_width": null,
            "min_height": null,
            "min_width": null,
            "object_fit": null,
            "object_position": null,
            "order": null,
            "overflow": null,
            "overflow_x": null,
            "overflow_y": null,
            "padding": null,
            "right": null,
            "top": null,
            "visibility": null,
            "width": null
          }
        },
        "7a64628c13ea42a08e406c9e939a2088": {
          "model_module": "@jupyter-widgets/controls",
          "model_name": "DescriptionStyleModel",
          "model_module_version": "1.5.0",
          "state": {
            "_model_module": "@jupyter-widgets/controls",
            "_model_module_version": "1.5.0",
            "_model_name": "DescriptionStyleModel",
            "_view_count": null,
            "_view_module": "@jupyter-widgets/base",
            "_view_module_version": "1.2.0",
            "_view_name": "StyleView",
            "description_width": ""
          }
        },
        "4d00e5ba4d084317b2c91f756da35ad2": {
          "model_module": "@jupyter-widgets/controls",
          "model_name": "HBoxModel",
          "model_module_version": "1.5.0",
          "state": {
            "_dom_classes": [],
            "_model_module": "@jupyter-widgets/controls",
            "_model_module_version": "1.5.0",
            "_model_name": "HBoxModel",
            "_view_count": null,
            "_view_module": "@jupyter-widgets/controls",
            "_view_module_version": "1.5.0",
            "_view_name": "HBoxView",
            "box_style": "",
            "children": [
              "IPY_MODEL_c639150ff3774d8ebea6e7e83c422407",
              "IPY_MODEL_a749bbcc00ac465f919c6c09b0d09ccb",
              "IPY_MODEL_c530c48de4884b8fadc664f6aa058b58"
            ],
            "layout": "IPY_MODEL_41ee5dbfa4d743c7a5d85109c6167c9b"
          }
        },
        "c639150ff3774d8ebea6e7e83c422407": {
          "model_module": "@jupyter-widgets/controls",
          "model_name": "HTMLModel",
          "model_module_version": "1.5.0",
          "state": {
            "_dom_classes": [],
            "_model_module": "@jupyter-widgets/controls",
            "_model_module_version": "1.5.0",
            "_model_name": "HTMLModel",
            "_view_count": null,
            "_view_module": "@jupyter-widgets/controls",
            "_view_module_version": "1.5.0",
            "_view_name": "HTMLView",
            "description": "",
            "description_tooltip": null,
            "layout": "IPY_MODEL_505d7aead14f43419d37be6a3d0aaac5",
            "placeholder": "​",
            "style": "IPY_MODEL_061aad774da04bdbb933922b6e4a1bd8",
            "value": "train-00000-of-00001.parquet: 100%"
          }
        },
        "a749bbcc00ac465f919c6c09b0d09ccb": {
          "model_module": "@jupyter-widgets/controls",
          "model_name": "FloatProgressModel",
          "model_module_version": "1.5.0",
          "state": {
            "_dom_classes": [],
            "_model_module": "@jupyter-widgets/controls",
            "_model_module_version": "1.5.0",
            "_model_name": "FloatProgressModel",
            "_view_count": null,
            "_view_module": "@jupyter-widgets/controls",
            "_view_module_version": "1.5.0",
            "_view_name": "ProgressView",
            "bar_style": "success",
            "description": "",
            "description_tooltip": null,
            "layout": "IPY_MODEL_b9ad9c9b55724b3e8e7394b98becfff4",
            "max": 20979968,
            "min": 0,
            "orientation": "horizontal",
            "style": "IPY_MODEL_d01ece965c404355baee964ad0ddf6fc",
            "value": 20979968
          }
        },
        "c530c48de4884b8fadc664f6aa058b58": {
          "model_module": "@jupyter-widgets/controls",
          "model_name": "HTMLModel",
          "model_module_version": "1.5.0",
          "state": {
            "_dom_classes": [],
            "_model_module": "@jupyter-widgets/controls",
            "_model_module_version": "1.5.0",
            "_model_name": "HTMLModel",
            "_view_count": null,
            "_view_module": "@jupyter-widgets/controls",
            "_view_module_version": "1.5.0",
            "_view_name": "HTMLView",
            "description": "",
            "description_tooltip": null,
            "layout": "IPY_MODEL_4a4c54208cd64ba0a8bea36b75406da0",
            "placeholder": "​",
            "style": "IPY_MODEL_3691557b48cb4d24a29380c57364fd33",
            "value": " 21.0M/21.0M [00:00&lt;00:00, 44.1MB/s]"
          }
        },
        "41ee5dbfa4d743c7a5d85109c6167c9b": {
          "model_module": "@jupyter-widgets/base",
          "model_name": "LayoutModel",
          "model_module_version": "1.2.0",
          "state": {
            "_model_module": "@jupyter-widgets/base",
            "_model_module_version": "1.2.0",
            "_model_name": "LayoutModel",
            "_view_count": null,
            "_view_module": "@jupyter-widgets/base",
            "_view_module_version": "1.2.0",
            "_view_name": "LayoutView",
            "align_content": null,
            "align_items": null,
            "align_self": null,
            "border": null,
            "bottom": null,
            "display": null,
            "flex": null,
            "flex_flow": null,
            "grid_area": null,
            "grid_auto_columns": null,
            "grid_auto_flow": null,
            "grid_auto_rows": null,
            "grid_column": null,
            "grid_gap": null,
            "grid_row": null,
            "grid_template_areas": null,
            "grid_template_columns": null,
            "grid_template_rows": null,
            "height": null,
            "justify_content": null,
            "justify_items": null,
            "left": null,
            "margin": null,
            "max_height": null,
            "max_width": null,
            "min_height": null,
            "min_width": null,
            "object_fit": null,
            "object_position": null,
            "order": null,
            "overflow": null,
            "overflow_x": null,
            "overflow_y": null,
            "padding": null,
            "right": null,
            "top": null,
            "visibility": null,
            "width": null
          }
        },
        "505d7aead14f43419d37be6a3d0aaac5": {
          "model_module": "@jupyter-widgets/base",
          "model_name": "LayoutModel",
          "model_module_version": "1.2.0",
          "state": {
            "_model_module": "@jupyter-widgets/base",
            "_model_module_version": "1.2.0",
            "_model_name": "LayoutModel",
            "_view_count": null,
            "_view_module": "@jupyter-widgets/base",
            "_view_module_version": "1.2.0",
            "_view_name": "LayoutView",
            "align_content": null,
            "align_items": null,
            "align_self": null,
            "border": null,
            "bottom": null,
            "display": null,
            "flex": null,
            "flex_flow": null,
            "grid_area": null,
            "grid_auto_columns": null,
            "grid_auto_flow": null,
            "grid_auto_rows": null,
            "grid_column": null,
            "grid_gap": null,
            "grid_row": null,
            "grid_template_areas": null,
            "grid_template_columns": null,
            "grid_template_rows": null,
            "height": null,
            "justify_content": null,
            "justify_items": null,
            "left": null,
            "margin": null,
            "max_height": null,
            "max_width": null,
            "min_height": null,
            "min_width": null,
            "object_fit": null,
            "object_position": null,
            "order": null,
            "overflow": null,
            "overflow_x": null,
            "overflow_y": null,
            "padding": null,
            "right": null,
            "top": null,
            "visibility": null,
            "width": null
          }
        },
        "061aad774da04bdbb933922b6e4a1bd8": {
          "model_module": "@jupyter-widgets/controls",
          "model_name": "DescriptionStyleModel",
          "model_module_version": "1.5.0",
          "state": {
            "_model_module": "@jupyter-widgets/controls",
            "_model_module_version": "1.5.0",
            "_model_name": "DescriptionStyleModel",
            "_view_count": null,
            "_view_module": "@jupyter-widgets/base",
            "_view_module_version": "1.2.0",
            "_view_name": "StyleView",
            "description_width": ""
          }
        },
        "b9ad9c9b55724b3e8e7394b98becfff4": {
          "model_module": "@jupyter-widgets/base",
          "model_name": "LayoutModel",
          "model_module_version": "1.2.0",
          "state": {
            "_model_module": "@jupyter-widgets/base",
            "_model_module_version": "1.2.0",
            "_model_name": "LayoutModel",
            "_view_count": null,
            "_view_module": "@jupyter-widgets/base",
            "_view_module_version": "1.2.0",
            "_view_name": "LayoutView",
            "align_content": null,
            "align_items": null,
            "align_self": null,
            "border": null,
            "bottom": null,
            "display": null,
            "flex": null,
            "flex_flow": null,
            "grid_area": null,
            "grid_auto_columns": null,
            "grid_auto_flow": null,
            "grid_auto_rows": null,
            "grid_column": null,
            "grid_gap": null,
            "grid_row": null,
            "grid_template_areas": null,
            "grid_template_columns": null,
            "grid_template_rows": null,
            "height": null,
            "justify_content": null,
            "justify_items": null,
            "left": null,
            "margin": null,
            "max_height": null,
            "max_width": null,
            "min_height": null,
            "min_width": null,
            "object_fit": null,
            "object_position": null,
            "order": null,
            "overflow": null,
            "overflow_x": null,
            "overflow_y": null,
            "padding": null,
            "right": null,
            "top": null,
            "visibility": null,
            "width": null
          }
        },
        "d01ece965c404355baee964ad0ddf6fc": {
          "model_module": "@jupyter-widgets/controls",
          "model_name": "ProgressStyleModel",
          "model_module_version": "1.5.0",
          "state": {
            "_model_module": "@jupyter-widgets/controls",
            "_model_module_version": "1.5.0",
            "_model_name": "ProgressStyleModel",
            "_view_count": null,
            "_view_module": "@jupyter-widgets/base",
            "_view_module_version": "1.2.0",
            "_view_name": "StyleView",
            "bar_color": null,
            "description_width": ""
          }
        },
        "4a4c54208cd64ba0a8bea36b75406da0": {
          "model_module": "@jupyter-widgets/base",
          "model_name": "LayoutModel",
          "model_module_version": "1.2.0",
          "state": {
            "_model_module": "@jupyter-widgets/base",
            "_model_module_version": "1.2.0",
            "_model_name": "LayoutModel",
            "_view_count": null,
            "_view_module": "@jupyter-widgets/base",
            "_view_module_version": "1.2.0",
            "_view_name": "LayoutView",
            "align_content": null,
            "align_items": null,
            "align_self": null,
            "border": null,
            "bottom": null,
            "display": null,
            "flex": null,
            "flex_flow": null,
            "grid_area": null,
            "grid_auto_columns": null,
            "grid_auto_flow": null,
            "grid_auto_rows": null,
            "grid_column": null,
            "grid_gap": null,
            "grid_row": null,
            "grid_template_areas": null,
            "grid_template_columns": null,
            "grid_template_rows": null,
            "height": null,
            "justify_content": null,
            "justify_items": null,
            "left": null,
            "margin": null,
            "max_height": null,
            "max_width": null,
            "min_height": null,
            "min_width": null,
            "object_fit": null,
            "object_position": null,
            "order": null,
            "overflow": null,
            "overflow_x": null,
            "overflow_y": null,
            "padding": null,
            "right": null,
            "top": null,
            "visibility": null,
            "width": null
          }
        },
        "3691557b48cb4d24a29380c57364fd33": {
          "model_module": "@jupyter-widgets/controls",
          "model_name": "DescriptionStyleModel",
          "model_module_version": "1.5.0",
          "state": {
            "_model_module": "@jupyter-widgets/controls",
            "_model_module_version": "1.5.0",
            "_model_name": "DescriptionStyleModel",
            "_view_count": null,
            "_view_module": "@jupyter-widgets/base",
            "_view_module_version": "1.2.0",
            "_view_name": "StyleView",
            "description_width": ""
          }
        },
        "729426f8db34440e9ec07edd6789bb5b": {
          "model_module": "@jupyter-widgets/controls",
          "model_name": "HBoxModel",
          "model_module_version": "1.5.0",
          "state": {
            "_dom_classes": [],
            "_model_module": "@jupyter-widgets/controls",
            "_model_module_version": "1.5.0",
            "_model_name": "HBoxModel",
            "_view_count": null,
            "_view_module": "@jupyter-widgets/controls",
            "_view_module_version": "1.5.0",
            "_view_name": "HBoxView",
            "box_style": "",
            "children": [
              "IPY_MODEL_9bb259604ff44b13a7a0a13971da4fbb",
              "IPY_MODEL_83bd799ef8d24183bc35990eded20ee6",
              "IPY_MODEL_0cec97176f9e41d0945e291aaa865cba"
            ],
            "layout": "IPY_MODEL_283de030e09841eba507d36d12a7c5d5"
          }
        },
        "9bb259604ff44b13a7a0a13971da4fbb": {
          "model_module": "@jupyter-widgets/controls",
          "model_name": "HTMLModel",
          "model_module_version": "1.5.0",
          "state": {
            "_dom_classes": [],
            "_model_module": "@jupyter-widgets/controls",
            "_model_module_version": "1.5.0",
            "_model_name": "HTMLModel",
            "_view_count": null,
            "_view_module": "@jupyter-widgets/controls",
            "_view_module_version": "1.5.0",
            "_view_name": "HTMLView",
            "description": "",
            "description_tooltip": null,
            "layout": "IPY_MODEL_8ffe5fc64786471697ec4deed2c65c7c",
            "placeholder": "​",
            "style": "IPY_MODEL_17f329eb3b8b43f089e572f7dbcea2eb",
            "value": "test-00000-of-00001.parquet: 100%"
          }
        },
        "83bd799ef8d24183bc35990eded20ee6": {
          "model_module": "@jupyter-widgets/controls",
          "model_name": "FloatProgressModel",
          "model_module_version": "1.5.0",
          "state": {
            "_dom_classes": [],
            "_model_module": "@jupyter-widgets/controls",
            "_model_module_version": "1.5.0",
            "_model_name": "FloatProgressModel",
            "_view_count": null,
            "_view_module": "@jupyter-widgets/controls",
            "_view_module_version": "1.5.0",
            "_view_name": "ProgressView",
            "bar_style": "success",
            "description": "",
            "description_tooltip": null,
            "layout": "IPY_MODEL_a4b86312e7d041b488d0fee01a1482a6",
            "max": 20470363,
            "min": 0,
            "orientation": "horizontal",
            "style": "IPY_MODEL_b26fbd77aa944147a160af4956f13554",
            "value": 20470363
          }
        },
        "0cec97176f9e41d0945e291aaa865cba": {
          "model_module": "@jupyter-widgets/controls",
          "model_name": "HTMLModel",
          "model_module_version": "1.5.0",
          "state": {
            "_dom_classes": [],
            "_model_module": "@jupyter-widgets/controls",
            "_model_module_version": "1.5.0",
            "_model_name": "HTMLModel",
            "_view_count": null,
            "_view_module": "@jupyter-widgets/controls",
            "_view_module_version": "1.5.0",
            "_view_name": "HTMLView",
            "description": "",
            "description_tooltip": null,
            "layout": "IPY_MODEL_8cbe8d7ff74243b3b61648fc86e31e5a",
            "placeholder": "​",
            "style": "IPY_MODEL_bf86b07945174084860b8dadaa381618",
            "value": " 20.5M/20.5M [00:00&lt;00:00, 73.3MB/s]"
          }
        },
        "283de030e09841eba507d36d12a7c5d5": {
          "model_module": "@jupyter-widgets/base",
          "model_name": "LayoutModel",
          "model_module_version": "1.2.0",
          "state": {
            "_model_module": "@jupyter-widgets/base",
            "_model_module_version": "1.2.0",
            "_model_name": "LayoutModel",
            "_view_count": null,
            "_view_module": "@jupyter-widgets/base",
            "_view_module_version": "1.2.0",
            "_view_name": "LayoutView",
            "align_content": null,
            "align_items": null,
            "align_self": null,
            "border": null,
            "bottom": null,
            "display": null,
            "flex": null,
            "flex_flow": null,
            "grid_area": null,
            "grid_auto_columns": null,
            "grid_auto_flow": null,
            "grid_auto_rows": null,
            "grid_column": null,
            "grid_gap": null,
            "grid_row": null,
            "grid_template_areas": null,
            "grid_template_columns": null,
            "grid_template_rows": null,
            "height": null,
            "justify_content": null,
            "justify_items": null,
            "left": null,
            "margin": null,
            "max_height": null,
            "max_width": null,
            "min_height": null,
            "min_width": null,
            "object_fit": null,
            "object_position": null,
            "order": null,
            "overflow": null,
            "overflow_x": null,
            "overflow_y": null,
            "padding": null,
            "right": null,
            "top": null,
            "visibility": null,
            "width": null
          }
        },
        "8ffe5fc64786471697ec4deed2c65c7c": {
          "model_module": "@jupyter-widgets/base",
          "model_name": "LayoutModel",
          "model_module_version": "1.2.0",
          "state": {
            "_model_module": "@jupyter-widgets/base",
            "_model_module_version": "1.2.0",
            "_model_name": "LayoutModel",
            "_view_count": null,
            "_view_module": "@jupyter-widgets/base",
            "_view_module_version": "1.2.0",
            "_view_name": "LayoutView",
            "align_content": null,
            "align_items": null,
            "align_self": null,
            "border": null,
            "bottom": null,
            "display": null,
            "flex": null,
            "flex_flow": null,
            "grid_area": null,
            "grid_auto_columns": null,
            "grid_auto_flow": null,
            "grid_auto_rows": null,
            "grid_column": null,
            "grid_gap": null,
            "grid_row": null,
            "grid_template_areas": null,
            "grid_template_columns": null,
            "grid_template_rows": null,
            "height": null,
            "justify_content": null,
            "justify_items": null,
            "left": null,
            "margin": null,
            "max_height": null,
            "max_width": null,
            "min_height": null,
            "min_width": null,
            "object_fit": null,
            "object_position": null,
            "order": null,
            "overflow": null,
            "overflow_x": null,
            "overflow_y": null,
            "padding": null,
            "right": null,
            "top": null,
            "visibility": null,
            "width": null
          }
        },
        "17f329eb3b8b43f089e572f7dbcea2eb": {
          "model_module": "@jupyter-widgets/controls",
          "model_name": "DescriptionStyleModel",
          "model_module_version": "1.5.0",
          "state": {
            "_model_module": "@jupyter-widgets/controls",
            "_model_module_version": "1.5.0",
            "_model_name": "DescriptionStyleModel",
            "_view_count": null,
            "_view_module": "@jupyter-widgets/base",
            "_view_module_version": "1.2.0",
            "_view_name": "StyleView",
            "description_width": ""
          }
        },
        "a4b86312e7d041b488d0fee01a1482a6": {
          "model_module": "@jupyter-widgets/base",
          "model_name": "LayoutModel",
          "model_module_version": "1.2.0",
          "state": {
            "_model_module": "@jupyter-widgets/base",
            "_model_module_version": "1.2.0",
            "_model_name": "LayoutModel",
            "_view_count": null,
            "_view_module": "@jupyter-widgets/base",
            "_view_module_version": "1.2.0",
            "_view_name": "LayoutView",
            "align_content": null,
            "align_items": null,
            "align_self": null,
            "border": null,
            "bottom": null,
            "display": null,
            "flex": null,
            "flex_flow": null,
            "grid_area": null,
            "grid_auto_columns": null,
            "grid_auto_flow": null,
            "grid_auto_rows": null,
            "grid_column": null,
            "grid_gap": null,
            "grid_row": null,
            "grid_template_areas": null,
            "grid_template_columns": null,
            "grid_template_rows": null,
            "height": null,
            "justify_content": null,
            "justify_items": null,
            "left": null,
            "margin": null,
            "max_height": null,
            "max_width": null,
            "min_height": null,
            "min_width": null,
            "object_fit": null,
            "object_position": null,
            "order": null,
            "overflow": null,
            "overflow_x": null,
            "overflow_y": null,
            "padding": null,
            "right": null,
            "top": null,
            "visibility": null,
            "width": null
          }
        },
        "b26fbd77aa944147a160af4956f13554": {
          "model_module": "@jupyter-widgets/controls",
          "model_name": "ProgressStyleModel",
          "model_module_version": "1.5.0",
          "state": {
            "_model_module": "@jupyter-widgets/controls",
            "_model_module_version": "1.5.0",
            "_model_name": "ProgressStyleModel",
            "_view_count": null,
            "_view_module": "@jupyter-widgets/base",
            "_view_module_version": "1.2.0",
            "_view_name": "StyleView",
            "bar_color": null,
            "description_width": ""
          }
        },
        "8cbe8d7ff74243b3b61648fc86e31e5a": {
          "model_module": "@jupyter-widgets/base",
          "model_name": "LayoutModel",
          "model_module_version": "1.2.0",
          "state": {
            "_model_module": "@jupyter-widgets/base",
            "_model_module_version": "1.2.0",
            "_model_name": "LayoutModel",
            "_view_count": null,
            "_view_module": "@jupyter-widgets/base",
            "_view_module_version": "1.2.0",
            "_view_name": "LayoutView",
            "align_content": null,
            "align_items": null,
            "align_self": null,
            "border": null,
            "bottom": null,
            "display": null,
            "flex": null,
            "flex_flow": null,
            "grid_area": null,
            "grid_auto_columns": null,
            "grid_auto_flow": null,
            "grid_auto_rows": null,
            "grid_column": null,
            "grid_gap": null,
            "grid_row": null,
            "grid_template_areas": null,
            "grid_template_columns": null,
            "grid_template_rows": null,
            "height": null,
            "justify_content": null,
            "justify_items": null,
            "left": null,
            "margin": null,
            "max_height": null,
            "max_width": null,
            "min_height": null,
            "min_width": null,
            "object_fit": null,
            "object_position": null,
            "order": null,
            "overflow": null,
            "overflow_x": null,
            "overflow_y": null,
            "padding": null,
            "right": null,
            "top": null,
            "visibility": null,
            "width": null
          }
        },
        "bf86b07945174084860b8dadaa381618": {
          "model_module": "@jupyter-widgets/controls",
          "model_name": "DescriptionStyleModel",
          "model_module_version": "1.5.0",
          "state": {
            "_model_module": "@jupyter-widgets/controls",
            "_model_module_version": "1.5.0",
            "_model_name": "DescriptionStyleModel",
            "_view_count": null,
            "_view_module": "@jupyter-widgets/base",
            "_view_module_version": "1.2.0",
            "_view_name": "StyleView",
            "description_width": ""
          }
        },
        "44db12bcc52247eda3fd27a928abc8b2": {
          "model_module": "@jupyter-widgets/controls",
          "model_name": "HBoxModel",
          "model_module_version": "1.5.0",
          "state": {
            "_dom_classes": [],
            "_model_module": "@jupyter-widgets/controls",
            "_model_module_version": "1.5.0",
            "_model_name": "HBoxModel",
            "_view_count": null,
            "_view_module": "@jupyter-widgets/controls",
            "_view_module_version": "1.5.0",
            "_view_name": "HBoxView",
            "box_style": "",
            "children": [
              "IPY_MODEL_461ee0c06e334d55abec5654a1a5e55c",
              "IPY_MODEL_d7fdfe038fb741688001f5321f9c65b5",
              "IPY_MODEL_1dda8dd55ab7498b9ef391106b4fabb8"
            ],
            "layout": "IPY_MODEL_cb522879ab434cb9b311159f9f4a9d27"
          }
        },
        "461ee0c06e334d55abec5654a1a5e55c": {
          "model_module": "@jupyter-widgets/controls",
          "model_name": "HTMLModel",
          "model_module_version": "1.5.0",
          "state": {
            "_dom_classes": [],
            "_model_module": "@jupyter-widgets/controls",
            "_model_module_version": "1.5.0",
            "_model_name": "HTMLModel",
            "_view_count": null,
            "_view_module": "@jupyter-widgets/controls",
            "_view_module_version": "1.5.0",
            "_view_name": "HTMLView",
            "description": "",
            "description_tooltip": null,
            "layout": "IPY_MODEL_f6096f6e9ba94e0f925601efaaec5cbd",
            "placeholder": "​",
            "style": "IPY_MODEL_1a03dfe8b86445998e3cd2ab5d544fb8",
            "value": "unsupervised-00000-of-00001.parquet: 100%"
          }
        },
        "d7fdfe038fb741688001f5321f9c65b5": {
          "model_module": "@jupyter-widgets/controls",
          "model_name": "FloatProgressModel",
          "model_module_version": "1.5.0",
          "state": {
            "_dom_classes": [],
            "_model_module": "@jupyter-widgets/controls",
            "_model_module_version": "1.5.0",
            "_model_name": "FloatProgressModel",
            "_view_count": null,
            "_view_module": "@jupyter-widgets/controls",
            "_view_module_version": "1.5.0",
            "_view_name": "ProgressView",
            "bar_style": "success",
            "description": "",
            "description_tooltip": null,
            "layout": "IPY_MODEL_d513beb45bf044e7ad980b0f2361200b",
            "max": 41996509,
            "min": 0,
            "orientation": "horizontal",
            "style": "IPY_MODEL_5d43ed5916ab4122811dcb8c6af854c0",
            "value": 41996509
          }
        },
        "1dda8dd55ab7498b9ef391106b4fabb8": {
          "model_module": "@jupyter-widgets/controls",
          "model_name": "HTMLModel",
          "model_module_version": "1.5.0",
          "state": {
            "_dom_classes": [],
            "_model_module": "@jupyter-widgets/controls",
            "_model_module_version": "1.5.0",
            "_model_name": "HTMLModel",
            "_view_count": null,
            "_view_module": "@jupyter-widgets/controls",
            "_view_module_version": "1.5.0",
            "_view_name": "HTMLView",
            "description": "",
            "description_tooltip": null,
            "layout": "IPY_MODEL_acae327315c24c989f3732ab254b7a59",
            "placeholder": "​",
            "style": "IPY_MODEL_4b6a1193b1624be0b3c9bc7b1a758bcf",
            "value": " 42.0M/42.0M [00:00&lt;00:00, 146MB/s]"
          }
        },
        "cb522879ab434cb9b311159f9f4a9d27": {
          "model_module": "@jupyter-widgets/base",
          "model_name": "LayoutModel",
          "model_module_version": "1.2.0",
          "state": {
            "_model_module": "@jupyter-widgets/base",
            "_model_module_version": "1.2.0",
            "_model_name": "LayoutModel",
            "_view_count": null,
            "_view_module": "@jupyter-widgets/base",
            "_view_module_version": "1.2.0",
            "_view_name": "LayoutView",
            "align_content": null,
            "align_items": null,
            "align_self": null,
            "border": null,
            "bottom": null,
            "display": null,
            "flex": null,
            "flex_flow": null,
            "grid_area": null,
            "grid_auto_columns": null,
            "grid_auto_flow": null,
            "grid_auto_rows": null,
            "grid_column": null,
            "grid_gap": null,
            "grid_row": null,
            "grid_template_areas": null,
            "grid_template_columns": null,
            "grid_template_rows": null,
            "height": null,
            "justify_content": null,
            "justify_items": null,
            "left": null,
            "margin": null,
            "max_height": null,
            "max_width": null,
            "min_height": null,
            "min_width": null,
            "object_fit": null,
            "object_position": null,
            "order": null,
            "overflow": null,
            "overflow_x": null,
            "overflow_y": null,
            "padding": null,
            "right": null,
            "top": null,
            "visibility": null,
            "width": null
          }
        },
        "f6096f6e9ba94e0f925601efaaec5cbd": {
          "model_module": "@jupyter-widgets/base",
          "model_name": "LayoutModel",
          "model_module_version": "1.2.0",
          "state": {
            "_model_module": "@jupyter-widgets/base",
            "_model_module_version": "1.2.0",
            "_model_name": "LayoutModel",
            "_view_count": null,
            "_view_module": "@jupyter-widgets/base",
            "_view_module_version": "1.2.0",
            "_view_name": "LayoutView",
            "align_content": null,
            "align_items": null,
            "align_self": null,
            "border": null,
            "bottom": null,
            "display": null,
            "flex": null,
            "flex_flow": null,
            "grid_area": null,
            "grid_auto_columns": null,
            "grid_auto_flow": null,
            "grid_auto_rows": null,
            "grid_column": null,
            "grid_gap": null,
            "grid_row": null,
            "grid_template_areas": null,
            "grid_template_columns": null,
            "grid_template_rows": null,
            "height": null,
            "justify_content": null,
            "justify_items": null,
            "left": null,
            "margin": null,
            "max_height": null,
            "max_width": null,
            "min_height": null,
            "min_width": null,
            "object_fit": null,
            "object_position": null,
            "order": null,
            "overflow": null,
            "overflow_x": null,
            "overflow_y": null,
            "padding": null,
            "right": null,
            "top": null,
            "visibility": null,
            "width": null
          }
        },
        "1a03dfe8b86445998e3cd2ab5d544fb8": {
          "model_module": "@jupyter-widgets/controls",
          "model_name": "DescriptionStyleModel",
          "model_module_version": "1.5.0",
          "state": {
            "_model_module": "@jupyter-widgets/controls",
            "_model_module_version": "1.5.0",
            "_model_name": "DescriptionStyleModel",
            "_view_count": null,
            "_view_module": "@jupyter-widgets/base",
            "_view_module_version": "1.2.0",
            "_view_name": "StyleView",
            "description_width": ""
          }
        },
        "d513beb45bf044e7ad980b0f2361200b": {
          "model_module": "@jupyter-widgets/base",
          "model_name": "LayoutModel",
          "model_module_version": "1.2.0",
          "state": {
            "_model_module": "@jupyter-widgets/base",
            "_model_module_version": "1.2.0",
            "_model_name": "LayoutModel",
            "_view_count": null,
            "_view_module": "@jupyter-widgets/base",
            "_view_module_version": "1.2.0",
            "_view_name": "LayoutView",
            "align_content": null,
            "align_items": null,
            "align_self": null,
            "border": null,
            "bottom": null,
            "display": null,
            "flex": null,
            "flex_flow": null,
            "grid_area": null,
            "grid_auto_columns": null,
            "grid_auto_flow": null,
            "grid_auto_rows": null,
            "grid_column": null,
            "grid_gap": null,
            "grid_row": null,
            "grid_template_areas": null,
            "grid_template_columns": null,
            "grid_template_rows": null,
            "height": null,
            "justify_content": null,
            "justify_items": null,
            "left": null,
            "margin": null,
            "max_height": null,
            "max_width": null,
            "min_height": null,
            "min_width": null,
            "object_fit": null,
            "object_position": null,
            "order": null,
            "overflow": null,
            "overflow_x": null,
            "overflow_y": null,
            "padding": null,
            "right": null,
            "top": null,
            "visibility": null,
            "width": null
          }
        },
        "5d43ed5916ab4122811dcb8c6af854c0": {
          "model_module": "@jupyter-widgets/controls",
          "model_name": "ProgressStyleModel",
          "model_module_version": "1.5.0",
          "state": {
            "_model_module": "@jupyter-widgets/controls",
            "_model_module_version": "1.5.0",
            "_model_name": "ProgressStyleModel",
            "_view_count": null,
            "_view_module": "@jupyter-widgets/base",
            "_view_module_version": "1.2.0",
            "_view_name": "StyleView",
            "bar_color": null,
            "description_width": ""
          }
        },
        "acae327315c24c989f3732ab254b7a59": {
          "model_module": "@jupyter-widgets/base",
          "model_name": "LayoutModel",
          "model_module_version": "1.2.0",
          "state": {
            "_model_module": "@jupyter-widgets/base",
            "_model_module_version": "1.2.0",
            "_model_name": "LayoutModel",
            "_view_count": null,
            "_view_module": "@jupyter-widgets/base",
            "_view_module_version": "1.2.0",
            "_view_name": "LayoutView",
            "align_content": null,
            "align_items": null,
            "align_self": null,
            "border": null,
            "bottom": null,
            "display": null,
            "flex": null,
            "flex_flow": null,
            "grid_area": null,
            "grid_auto_columns": null,
            "grid_auto_flow": null,
            "grid_auto_rows": null,
            "grid_column": null,
            "grid_gap": null,
            "grid_row": null,
            "grid_template_areas": null,
            "grid_template_columns": null,
            "grid_template_rows": null,
            "height": null,
            "justify_content": null,
            "justify_items": null,
            "left": null,
            "margin": null,
            "max_height": null,
            "max_width": null,
            "min_height": null,
            "min_width": null,
            "object_fit": null,
            "object_position": null,
            "order": null,
            "overflow": null,
            "overflow_x": null,
            "overflow_y": null,
            "padding": null,
            "right": null,
            "top": null,
            "visibility": null,
            "width": null
          }
        },
        "4b6a1193b1624be0b3c9bc7b1a758bcf": {
          "model_module": "@jupyter-widgets/controls",
          "model_name": "DescriptionStyleModel",
          "model_module_version": "1.5.0",
          "state": {
            "_model_module": "@jupyter-widgets/controls",
            "_model_module_version": "1.5.0",
            "_model_name": "DescriptionStyleModel",
            "_view_count": null,
            "_view_module": "@jupyter-widgets/base",
            "_view_module_version": "1.2.0",
            "_view_name": "StyleView",
            "description_width": ""
          }
        },
        "ae5d1c567af244cfa84519f89bd50f85": {
          "model_module": "@jupyter-widgets/controls",
          "model_name": "HBoxModel",
          "model_module_version": "1.5.0",
          "state": {
            "_dom_classes": [],
            "_model_module": "@jupyter-widgets/controls",
            "_model_module_version": "1.5.0",
            "_model_name": "HBoxModel",
            "_view_count": null,
            "_view_module": "@jupyter-widgets/controls",
            "_view_module_version": "1.5.0",
            "_view_name": "HBoxView",
            "box_style": "",
            "children": [
              "IPY_MODEL_5558e45ad1a2425ea8f382725b8c28a3",
              "IPY_MODEL_e0ceca14f109494eb70eb5c12f171bf0",
              "IPY_MODEL_7d662f0b18e5428eba1725793cfa4766"
            ],
            "layout": "IPY_MODEL_bbea0e99b3c14535ac50e53948e876c1"
          }
        },
        "5558e45ad1a2425ea8f382725b8c28a3": {
          "model_module": "@jupyter-widgets/controls",
          "model_name": "HTMLModel",
          "model_module_version": "1.5.0",
          "state": {
            "_dom_classes": [],
            "_model_module": "@jupyter-widgets/controls",
            "_model_module_version": "1.5.0",
            "_model_name": "HTMLModel",
            "_view_count": null,
            "_view_module": "@jupyter-widgets/controls",
            "_view_module_version": "1.5.0",
            "_view_name": "HTMLView",
            "description": "",
            "description_tooltip": null,
            "layout": "IPY_MODEL_d25bb84e0f05480b8b3a2f0f55499a03",
            "placeholder": "​",
            "style": "IPY_MODEL_b9297beab7d7416ba7fb7e6b50a1455c",
            "value": "Generating train split: 100%"
          }
        },
        "e0ceca14f109494eb70eb5c12f171bf0": {
          "model_module": "@jupyter-widgets/controls",
          "model_name": "FloatProgressModel",
          "model_module_version": "1.5.0",
          "state": {
            "_dom_classes": [],
            "_model_module": "@jupyter-widgets/controls",
            "_model_module_version": "1.5.0",
            "_model_name": "FloatProgressModel",
            "_view_count": null,
            "_view_module": "@jupyter-widgets/controls",
            "_view_module_version": "1.5.0",
            "_view_name": "ProgressView",
            "bar_style": "success",
            "description": "",
            "description_tooltip": null,
            "layout": "IPY_MODEL_9db62e2de3b14b8bbbaec7bcb83307ec",
            "max": 25000,
            "min": 0,
            "orientation": "horizontal",
            "style": "IPY_MODEL_92fdd6edbd4d4ef0bb490155160f179e",
            "value": 25000
          }
        },
        "7d662f0b18e5428eba1725793cfa4766": {
          "model_module": "@jupyter-widgets/controls",
          "model_name": "HTMLModel",
          "model_module_version": "1.5.0",
          "state": {
            "_dom_classes": [],
            "_model_module": "@jupyter-widgets/controls",
            "_model_module_version": "1.5.0",
            "_model_name": "HTMLModel",
            "_view_count": null,
            "_view_module": "@jupyter-widgets/controls",
            "_view_module_version": "1.5.0",
            "_view_name": "HTMLView",
            "description": "",
            "description_tooltip": null,
            "layout": "IPY_MODEL_85047035991c4d5a90d53d6c70df04fa",
            "placeholder": "​",
            "style": "IPY_MODEL_8ba9cec7d1d44cadadd611f382895fe9",
            "value": " 25000/25000 [00:00&lt;00:00, 46467.09 examples/s]"
          }
        },
        "bbea0e99b3c14535ac50e53948e876c1": {
          "model_module": "@jupyter-widgets/base",
          "model_name": "LayoutModel",
          "model_module_version": "1.2.0",
          "state": {
            "_model_module": "@jupyter-widgets/base",
            "_model_module_version": "1.2.0",
            "_model_name": "LayoutModel",
            "_view_count": null,
            "_view_module": "@jupyter-widgets/base",
            "_view_module_version": "1.2.0",
            "_view_name": "LayoutView",
            "align_content": null,
            "align_items": null,
            "align_self": null,
            "border": null,
            "bottom": null,
            "display": null,
            "flex": null,
            "flex_flow": null,
            "grid_area": null,
            "grid_auto_columns": null,
            "grid_auto_flow": null,
            "grid_auto_rows": null,
            "grid_column": null,
            "grid_gap": null,
            "grid_row": null,
            "grid_template_areas": null,
            "grid_template_columns": null,
            "grid_template_rows": null,
            "height": null,
            "justify_content": null,
            "justify_items": null,
            "left": null,
            "margin": null,
            "max_height": null,
            "max_width": null,
            "min_height": null,
            "min_width": null,
            "object_fit": null,
            "object_position": null,
            "order": null,
            "overflow": null,
            "overflow_x": null,
            "overflow_y": null,
            "padding": null,
            "right": null,
            "top": null,
            "visibility": null,
            "width": null
          }
        },
        "d25bb84e0f05480b8b3a2f0f55499a03": {
          "model_module": "@jupyter-widgets/base",
          "model_name": "LayoutModel",
          "model_module_version": "1.2.0",
          "state": {
            "_model_module": "@jupyter-widgets/base",
            "_model_module_version": "1.2.0",
            "_model_name": "LayoutModel",
            "_view_count": null,
            "_view_module": "@jupyter-widgets/base",
            "_view_module_version": "1.2.0",
            "_view_name": "LayoutView",
            "align_content": null,
            "align_items": null,
            "align_self": null,
            "border": null,
            "bottom": null,
            "display": null,
            "flex": null,
            "flex_flow": null,
            "grid_area": null,
            "grid_auto_columns": null,
            "grid_auto_flow": null,
            "grid_auto_rows": null,
            "grid_column": null,
            "grid_gap": null,
            "grid_row": null,
            "grid_template_areas": null,
            "grid_template_columns": null,
            "grid_template_rows": null,
            "height": null,
            "justify_content": null,
            "justify_items": null,
            "left": null,
            "margin": null,
            "max_height": null,
            "max_width": null,
            "min_height": null,
            "min_width": null,
            "object_fit": null,
            "object_position": null,
            "order": null,
            "overflow": null,
            "overflow_x": null,
            "overflow_y": null,
            "padding": null,
            "right": null,
            "top": null,
            "visibility": null,
            "width": null
          }
        },
        "b9297beab7d7416ba7fb7e6b50a1455c": {
          "model_module": "@jupyter-widgets/controls",
          "model_name": "DescriptionStyleModel",
          "model_module_version": "1.5.0",
          "state": {
            "_model_module": "@jupyter-widgets/controls",
            "_model_module_version": "1.5.0",
            "_model_name": "DescriptionStyleModel",
            "_view_count": null,
            "_view_module": "@jupyter-widgets/base",
            "_view_module_version": "1.2.0",
            "_view_name": "StyleView",
            "description_width": ""
          }
        },
        "9db62e2de3b14b8bbbaec7bcb83307ec": {
          "model_module": "@jupyter-widgets/base",
          "model_name": "LayoutModel",
          "model_module_version": "1.2.0",
          "state": {
            "_model_module": "@jupyter-widgets/base",
            "_model_module_version": "1.2.0",
            "_model_name": "LayoutModel",
            "_view_count": null,
            "_view_module": "@jupyter-widgets/base",
            "_view_module_version": "1.2.0",
            "_view_name": "LayoutView",
            "align_content": null,
            "align_items": null,
            "align_self": null,
            "border": null,
            "bottom": null,
            "display": null,
            "flex": null,
            "flex_flow": null,
            "grid_area": null,
            "grid_auto_columns": null,
            "grid_auto_flow": null,
            "grid_auto_rows": null,
            "grid_column": null,
            "grid_gap": null,
            "grid_row": null,
            "grid_template_areas": null,
            "grid_template_columns": null,
            "grid_template_rows": null,
            "height": null,
            "justify_content": null,
            "justify_items": null,
            "left": null,
            "margin": null,
            "max_height": null,
            "max_width": null,
            "min_height": null,
            "min_width": null,
            "object_fit": null,
            "object_position": null,
            "order": null,
            "overflow": null,
            "overflow_x": null,
            "overflow_y": null,
            "padding": null,
            "right": null,
            "top": null,
            "visibility": null,
            "width": null
          }
        },
        "92fdd6edbd4d4ef0bb490155160f179e": {
          "model_module": "@jupyter-widgets/controls",
          "model_name": "ProgressStyleModel",
          "model_module_version": "1.5.0",
          "state": {
            "_model_module": "@jupyter-widgets/controls",
            "_model_module_version": "1.5.0",
            "_model_name": "ProgressStyleModel",
            "_view_count": null,
            "_view_module": "@jupyter-widgets/base",
            "_view_module_version": "1.2.0",
            "_view_name": "StyleView",
            "bar_color": null,
            "description_width": ""
          }
        },
        "85047035991c4d5a90d53d6c70df04fa": {
          "model_module": "@jupyter-widgets/base",
          "model_name": "LayoutModel",
          "model_module_version": "1.2.0",
          "state": {
            "_model_module": "@jupyter-widgets/base",
            "_model_module_version": "1.2.0",
            "_model_name": "LayoutModel",
            "_view_count": null,
            "_view_module": "@jupyter-widgets/base",
            "_view_module_version": "1.2.0",
            "_view_name": "LayoutView",
            "align_content": null,
            "align_items": null,
            "align_self": null,
            "border": null,
            "bottom": null,
            "display": null,
            "flex": null,
            "flex_flow": null,
            "grid_area": null,
            "grid_auto_columns": null,
            "grid_auto_flow": null,
            "grid_auto_rows": null,
            "grid_column": null,
            "grid_gap": null,
            "grid_row": null,
            "grid_template_areas": null,
            "grid_template_columns": null,
            "grid_template_rows": null,
            "height": null,
            "justify_content": null,
            "justify_items": null,
            "left": null,
            "margin": null,
            "max_height": null,
            "max_width": null,
            "min_height": null,
            "min_width": null,
            "object_fit": null,
            "object_position": null,
            "order": null,
            "overflow": null,
            "overflow_x": null,
            "overflow_y": null,
            "padding": null,
            "right": null,
            "top": null,
            "visibility": null,
            "width": null
          }
        },
        "8ba9cec7d1d44cadadd611f382895fe9": {
          "model_module": "@jupyter-widgets/controls",
          "model_name": "DescriptionStyleModel",
          "model_module_version": "1.5.0",
          "state": {
            "_model_module": "@jupyter-widgets/controls",
            "_model_module_version": "1.5.0",
            "_model_name": "DescriptionStyleModel",
            "_view_count": null,
            "_view_module": "@jupyter-widgets/base",
            "_view_module_version": "1.2.0",
            "_view_name": "StyleView",
            "description_width": ""
          }
        },
        "2e154be084a1445f8e94acec0e77f274": {
          "model_module": "@jupyter-widgets/controls",
          "model_name": "HBoxModel",
          "model_module_version": "1.5.0",
          "state": {
            "_dom_classes": [],
            "_model_module": "@jupyter-widgets/controls",
            "_model_module_version": "1.5.0",
            "_model_name": "HBoxModel",
            "_view_count": null,
            "_view_module": "@jupyter-widgets/controls",
            "_view_module_version": "1.5.0",
            "_view_name": "HBoxView",
            "box_style": "",
            "children": [
              "IPY_MODEL_13b4e7f33d81499785d568573d798ddc",
              "IPY_MODEL_6707787059254285ba35a72e4cebe1b2",
              "IPY_MODEL_36eea5aedf39489ba1891efc7acbfb7f"
            ],
            "layout": "IPY_MODEL_7f57040655634f6f85a8650df3dd8908"
          }
        },
        "13b4e7f33d81499785d568573d798ddc": {
          "model_module": "@jupyter-widgets/controls",
          "model_name": "HTMLModel",
          "model_module_version": "1.5.0",
          "state": {
            "_dom_classes": [],
            "_model_module": "@jupyter-widgets/controls",
            "_model_module_version": "1.5.0",
            "_model_name": "HTMLModel",
            "_view_count": null,
            "_view_module": "@jupyter-widgets/controls",
            "_view_module_version": "1.5.0",
            "_view_name": "HTMLView",
            "description": "",
            "description_tooltip": null,
            "layout": "IPY_MODEL_42a0a8678fab476a984e517d93bac476",
            "placeholder": "​",
            "style": "IPY_MODEL_5a253890808f4a53b288ee9d212ffb79",
            "value": "Generating test split: 100%"
          }
        },
        "6707787059254285ba35a72e4cebe1b2": {
          "model_module": "@jupyter-widgets/controls",
          "model_name": "FloatProgressModel",
          "model_module_version": "1.5.0",
          "state": {
            "_dom_classes": [],
            "_model_module": "@jupyter-widgets/controls",
            "_model_module_version": "1.5.0",
            "_model_name": "FloatProgressModel",
            "_view_count": null,
            "_view_module": "@jupyter-widgets/controls",
            "_view_module_version": "1.5.0",
            "_view_name": "ProgressView",
            "bar_style": "success",
            "description": "",
            "description_tooltip": null,
            "layout": "IPY_MODEL_90a21469905e4b0f874906427e9a67a5",
            "max": 25000,
            "min": 0,
            "orientation": "horizontal",
            "style": "IPY_MODEL_6349ea3471304b998805235c4f0bbe9b",
            "value": 25000
          }
        },
        "36eea5aedf39489ba1891efc7acbfb7f": {
          "model_module": "@jupyter-widgets/controls",
          "model_name": "HTMLModel",
          "model_module_version": "1.5.0",
          "state": {
            "_dom_classes": [],
            "_model_module": "@jupyter-widgets/controls",
            "_model_module_version": "1.5.0",
            "_model_name": "HTMLModel",
            "_view_count": null,
            "_view_module": "@jupyter-widgets/controls",
            "_view_module_version": "1.5.0",
            "_view_name": "HTMLView",
            "description": "",
            "description_tooltip": null,
            "layout": "IPY_MODEL_d3d93507087846f496e23b8eba71a23f",
            "placeholder": "​",
            "style": "IPY_MODEL_d814db58a4bf45c1a921a87ebe59cbe9",
            "value": " 25000/25000 [00:00&lt;00:00, 57228.91 examples/s]"
          }
        },
        "7f57040655634f6f85a8650df3dd8908": {
          "model_module": "@jupyter-widgets/base",
          "model_name": "LayoutModel",
          "model_module_version": "1.2.0",
          "state": {
            "_model_module": "@jupyter-widgets/base",
            "_model_module_version": "1.2.0",
            "_model_name": "LayoutModel",
            "_view_count": null,
            "_view_module": "@jupyter-widgets/base",
            "_view_module_version": "1.2.0",
            "_view_name": "LayoutView",
            "align_content": null,
            "align_items": null,
            "align_self": null,
            "border": null,
            "bottom": null,
            "display": null,
            "flex": null,
            "flex_flow": null,
            "grid_area": null,
            "grid_auto_columns": null,
            "grid_auto_flow": null,
            "grid_auto_rows": null,
            "grid_column": null,
            "grid_gap": null,
            "grid_row": null,
            "grid_template_areas": null,
            "grid_template_columns": null,
            "grid_template_rows": null,
            "height": null,
            "justify_content": null,
            "justify_items": null,
            "left": null,
            "margin": null,
            "max_height": null,
            "max_width": null,
            "min_height": null,
            "min_width": null,
            "object_fit": null,
            "object_position": null,
            "order": null,
            "overflow": null,
            "overflow_x": null,
            "overflow_y": null,
            "padding": null,
            "right": null,
            "top": null,
            "visibility": null,
            "width": null
          }
        },
        "42a0a8678fab476a984e517d93bac476": {
          "model_module": "@jupyter-widgets/base",
          "model_name": "LayoutModel",
          "model_module_version": "1.2.0",
          "state": {
            "_model_module": "@jupyter-widgets/base",
            "_model_module_version": "1.2.0",
            "_model_name": "LayoutModel",
            "_view_count": null,
            "_view_module": "@jupyter-widgets/base",
            "_view_module_version": "1.2.0",
            "_view_name": "LayoutView",
            "align_content": null,
            "align_items": null,
            "align_self": null,
            "border": null,
            "bottom": null,
            "display": null,
            "flex": null,
            "flex_flow": null,
            "grid_area": null,
            "grid_auto_columns": null,
            "grid_auto_flow": null,
            "grid_auto_rows": null,
            "grid_column": null,
            "grid_gap": null,
            "grid_row": null,
            "grid_template_areas": null,
            "grid_template_columns": null,
            "grid_template_rows": null,
            "height": null,
            "justify_content": null,
            "justify_items": null,
            "left": null,
            "margin": null,
            "max_height": null,
            "max_width": null,
            "min_height": null,
            "min_width": null,
            "object_fit": null,
            "object_position": null,
            "order": null,
            "overflow": null,
            "overflow_x": null,
            "overflow_y": null,
            "padding": null,
            "right": null,
            "top": null,
            "visibility": null,
            "width": null
          }
        },
        "5a253890808f4a53b288ee9d212ffb79": {
          "model_module": "@jupyter-widgets/controls",
          "model_name": "DescriptionStyleModel",
          "model_module_version": "1.5.0",
          "state": {
            "_model_module": "@jupyter-widgets/controls",
            "_model_module_version": "1.5.0",
            "_model_name": "DescriptionStyleModel",
            "_view_count": null,
            "_view_module": "@jupyter-widgets/base",
            "_view_module_version": "1.2.0",
            "_view_name": "StyleView",
            "description_width": ""
          }
        },
        "90a21469905e4b0f874906427e9a67a5": {
          "model_module": "@jupyter-widgets/base",
          "model_name": "LayoutModel",
          "model_module_version": "1.2.0",
          "state": {
            "_model_module": "@jupyter-widgets/base",
            "_model_module_version": "1.2.0",
            "_model_name": "LayoutModel",
            "_view_count": null,
            "_view_module": "@jupyter-widgets/base",
            "_view_module_version": "1.2.0",
            "_view_name": "LayoutView",
            "align_content": null,
            "align_items": null,
            "align_self": null,
            "border": null,
            "bottom": null,
            "display": null,
            "flex": null,
            "flex_flow": null,
            "grid_area": null,
            "grid_auto_columns": null,
            "grid_auto_flow": null,
            "grid_auto_rows": null,
            "grid_column": null,
            "grid_gap": null,
            "grid_row": null,
            "grid_template_areas": null,
            "grid_template_columns": null,
            "grid_template_rows": null,
            "height": null,
            "justify_content": null,
            "justify_items": null,
            "left": null,
            "margin": null,
            "max_height": null,
            "max_width": null,
            "min_height": null,
            "min_width": null,
            "object_fit": null,
            "object_position": null,
            "order": null,
            "overflow": null,
            "overflow_x": null,
            "overflow_y": null,
            "padding": null,
            "right": null,
            "top": null,
            "visibility": null,
            "width": null
          }
        },
        "6349ea3471304b998805235c4f0bbe9b": {
          "model_module": "@jupyter-widgets/controls",
          "model_name": "ProgressStyleModel",
          "model_module_version": "1.5.0",
          "state": {
            "_model_module": "@jupyter-widgets/controls",
            "_model_module_version": "1.5.0",
            "_model_name": "ProgressStyleModel",
            "_view_count": null,
            "_view_module": "@jupyter-widgets/base",
            "_view_module_version": "1.2.0",
            "_view_name": "StyleView",
            "bar_color": null,
            "description_width": ""
          }
        },
        "d3d93507087846f496e23b8eba71a23f": {
          "model_module": "@jupyter-widgets/base",
          "model_name": "LayoutModel",
          "model_module_version": "1.2.0",
          "state": {
            "_model_module": "@jupyter-widgets/base",
            "_model_module_version": "1.2.0",
            "_model_name": "LayoutModel",
            "_view_count": null,
            "_view_module": "@jupyter-widgets/base",
            "_view_module_version": "1.2.0",
            "_view_name": "LayoutView",
            "align_content": null,
            "align_items": null,
            "align_self": null,
            "border": null,
            "bottom": null,
            "display": null,
            "flex": null,
            "flex_flow": null,
            "grid_area": null,
            "grid_auto_columns": null,
            "grid_auto_flow": null,
            "grid_auto_rows": null,
            "grid_column": null,
            "grid_gap": null,
            "grid_row": null,
            "grid_template_areas": null,
            "grid_template_columns": null,
            "grid_template_rows": null,
            "height": null,
            "justify_content": null,
            "justify_items": null,
            "left": null,
            "margin": null,
            "max_height": null,
            "max_width": null,
            "min_height": null,
            "min_width": null,
            "object_fit": null,
            "object_position": null,
            "order": null,
            "overflow": null,
            "overflow_x": null,
            "overflow_y": null,
            "padding": null,
            "right": null,
            "top": null,
            "visibility": null,
            "width": null
          }
        },
        "d814db58a4bf45c1a921a87ebe59cbe9": {
          "model_module": "@jupyter-widgets/controls",
          "model_name": "DescriptionStyleModel",
          "model_module_version": "1.5.0",
          "state": {
            "_model_module": "@jupyter-widgets/controls",
            "_model_module_version": "1.5.0",
            "_model_name": "DescriptionStyleModel",
            "_view_count": null,
            "_view_module": "@jupyter-widgets/base",
            "_view_module_version": "1.2.0",
            "_view_name": "StyleView",
            "description_width": ""
          }
        },
        "c8edf5e3e72b4db29276cf3fb597b470": {
          "model_module": "@jupyter-widgets/controls",
          "model_name": "HBoxModel",
          "model_module_version": "1.5.0",
          "state": {
            "_dom_classes": [],
            "_model_module": "@jupyter-widgets/controls",
            "_model_module_version": "1.5.0",
            "_model_name": "HBoxModel",
            "_view_count": null,
            "_view_module": "@jupyter-widgets/controls",
            "_view_module_version": "1.5.0",
            "_view_name": "HBoxView",
            "box_style": "",
            "children": [
              "IPY_MODEL_9e0e20c08647447088b1c64b1d25130c",
              "IPY_MODEL_29245ddc79154b51aeb5225aefdd56a5",
              "IPY_MODEL_d16d0d42adf94bf9a29d452bd6a19795"
            ],
            "layout": "IPY_MODEL_fdc0820d99ba44afa57ad299d3e59212"
          }
        },
        "9e0e20c08647447088b1c64b1d25130c": {
          "model_module": "@jupyter-widgets/controls",
          "model_name": "HTMLModel",
          "model_module_version": "1.5.0",
          "state": {
            "_dom_classes": [],
            "_model_module": "@jupyter-widgets/controls",
            "_model_module_version": "1.5.0",
            "_model_name": "HTMLModel",
            "_view_count": null,
            "_view_module": "@jupyter-widgets/controls",
            "_view_module_version": "1.5.0",
            "_view_name": "HTMLView",
            "description": "",
            "description_tooltip": null,
            "layout": "IPY_MODEL_e87724d5c5124bd1bd8526e341db2736",
            "placeholder": "​",
            "style": "IPY_MODEL_24327880cb104fba939c7c5005bc23c4",
            "value": "Generating unsupervised split: 100%"
          }
        },
        "29245ddc79154b51aeb5225aefdd56a5": {
          "model_module": "@jupyter-widgets/controls",
          "model_name": "FloatProgressModel",
          "model_module_version": "1.5.0",
          "state": {
            "_dom_classes": [],
            "_model_module": "@jupyter-widgets/controls",
            "_model_module_version": "1.5.0",
            "_model_name": "FloatProgressModel",
            "_view_count": null,
            "_view_module": "@jupyter-widgets/controls",
            "_view_module_version": "1.5.0",
            "_view_name": "ProgressView",
            "bar_style": "success",
            "description": "",
            "description_tooltip": null,
            "layout": "IPY_MODEL_c908166c599f453a8389994daac48473",
            "max": 50000,
            "min": 0,
            "orientation": "horizontal",
            "style": "IPY_MODEL_a0d9d6441876467e9c1a7f519e85dad5",
            "value": 50000
          }
        },
        "d16d0d42adf94bf9a29d452bd6a19795": {
          "model_module": "@jupyter-widgets/controls",
          "model_name": "HTMLModel",
          "model_module_version": "1.5.0",
          "state": {
            "_dom_classes": [],
            "_model_module": "@jupyter-widgets/controls",
            "_model_module_version": "1.5.0",
            "_model_name": "HTMLModel",
            "_view_count": null,
            "_view_module": "@jupyter-widgets/controls",
            "_view_module_version": "1.5.0",
            "_view_name": "HTMLView",
            "description": "",
            "description_tooltip": null,
            "layout": "IPY_MODEL_4677c48f4092493c9f9e8d406d907910",
            "placeholder": "​",
            "style": "IPY_MODEL_37cd63d0c89d4957a3c7b63d93f60479",
            "value": " 50000/50000 [00:00&lt;00:00, 74132.89 examples/s]"
          }
        },
        "fdc0820d99ba44afa57ad299d3e59212": {
          "model_module": "@jupyter-widgets/base",
          "model_name": "LayoutModel",
          "model_module_version": "1.2.0",
          "state": {
            "_model_module": "@jupyter-widgets/base",
            "_model_module_version": "1.2.0",
            "_model_name": "LayoutModel",
            "_view_count": null,
            "_view_module": "@jupyter-widgets/base",
            "_view_module_version": "1.2.0",
            "_view_name": "LayoutView",
            "align_content": null,
            "align_items": null,
            "align_self": null,
            "border": null,
            "bottom": null,
            "display": null,
            "flex": null,
            "flex_flow": null,
            "grid_area": null,
            "grid_auto_columns": null,
            "grid_auto_flow": null,
            "grid_auto_rows": null,
            "grid_column": null,
            "grid_gap": null,
            "grid_row": null,
            "grid_template_areas": null,
            "grid_template_columns": null,
            "grid_template_rows": null,
            "height": null,
            "justify_content": null,
            "justify_items": null,
            "left": null,
            "margin": null,
            "max_height": null,
            "max_width": null,
            "min_height": null,
            "min_width": null,
            "object_fit": null,
            "object_position": null,
            "order": null,
            "overflow": null,
            "overflow_x": null,
            "overflow_y": null,
            "padding": null,
            "right": null,
            "top": null,
            "visibility": null,
            "width": null
          }
        },
        "e87724d5c5124bd1bd8526e341db2736": {
          "model_module": "@jupyter-widgets/base",
          "model_name": "LayoutModel",
          "model_module_version": "1.2.0",
          "state": {
            "_model_module": "@jupyter-widgets/base",
            "_model_module_version": "1.2.0",
            "_model_name": "LayoutModel",
            "_view_count": null,
            "_view_module": "@jupyter-widgets/base",
            "_view_module_version": "1.2.0",
            "_view_name": "LayoutView",
            "align_content": null,
            "align_items": null,
            "align_self": null,
            "border": null,
            "bottom": null,
            "display": null,
            "flex": null,
            "flex_flow": null,
            "grid_area": null,
            "grid_auto_columns": null,
            "grid_auto_flow": null,
            "grid_auto_rows": null,
            "grid_column": null,
            "grid_gap": null,
            "grid_row": null,
            "grid_template_areas": null,
            "grid_template_columns": null,
            "grid_template_rows": null,
            "height": null,
            "justify_content": null,
            "justify_items": null,
            "left": null,
            "margin": null,
            "max_height": null,
            "max_width": null,
            "min_height": null,
            "min_width": null,
            "object_fit": null,
            "object_position": null,
            "order": null,
            "overflow": null,
            "overflow_x": null,
            "overflow_y": null,
            "padding": null,
            "right": null,
            "top": null,
            "visibility": null,
            "width": null
          }
        },
        "24327880cb104fba939c7c5005bc23c4": {
          "model_module": "@jupyter-widgets/controls",
          "model_name": "DescriptionStyleModel",
          "model_module_version": "1.5.0",
          "state": {
            "_model_module": "@jupyter-widgets/controls",
            "_model_module_version": "1.5.0",
            "_model_name": "DescriptionStyleModel",
            "_view_count": null,
            "_view_module": "@jupyter-widgets/base",
            "_view_module_version": "1.2.0",
            "_view_name": "StyleView",
            "description_width": ""
          }
        },
        "c908166c599f453a8389994daac48473": {
          "model_module": "@jupyter-widgets/base",
          "model_name": "LayoutModel",
          "model_module_version": "1.2.0",
          "state": {
            "_model_module": "@jupyter-widgets/base",
            "_model_module_version": "1.2.0",
            "_model_name": "LayoutModel",
            "_view_count": null,
            "_view_module": "@jupyter-widgets/base",
            "_view_module_version": "1.2.0",
            "_view_name": "LayoutView",
            "align_content": null,
            "align_items": null,
            "align_self": null,
            "border": null,
            "bottom": null,
            "display": null,
            "flex": null,
            "flex_flow": null,
            "grid_area": null,
            "grid_auto_columns": null,
            "grid_auto_flow": null,
            "grid_auto_rows": null,
            "grid_column": null,
            "grid_gap": null,
            "grid_row": null,
            "grid_template_areas": null,
            "grid_template_columns": null,
            "grid_template_rows": null,
            "height": null,
            "justify_content": null,
            "justify_items": null,
            "left": null,
            "margin": null,
            "max_height": null,
            "max_width": null,
            "min_height": null,
            "min_width": null,
            "object_fit": null,
            "object_position": null,
            "order": null,
            "overflow": null,
            "overflow_x": null,
            "overflow_y": null,
            "padding": null,
            "right": null,
            "top": null,
            "visibility": null,
            "width": null
          }
        },
        "a0d9d6441876467e9c1a7f519e85dad5": {
          "model_module": "@jupyter-widgets/controls",
          "model_name": "ProgressStyleModel",
          "model_module_version": "1.5.0",
          "state": {
            "_model_module": "@jupyter-widgets/controls",
            "_model_module_version": "1.5.0",
            "_model_name": "ProgressStyleModel",
            "_view_count": null,
            "_view_module": "@jupyter-widgets/base",
            "_view_module_version": "1.2.0",
            "_view_name": "StyleView",
            "bar_color": null,
            "description_width": ""
          }
        },
        "4677c48f4092493c9f9e8d406d907910": {
          "model_module": "@jupyter-widgets/base",
          "model_name": "LayoutModel",
          "model_module_version": "1.2.0",
          "state": {
            "_model_module": "@jupyter-widgets/base",
            "_model_module_version": "1.2.0",
            "_model_name": "LayoutModel",
            "_view_count": null,
            "_view_module": "@jupyter-widgets/base",
            "_view_module_version": "1.2.0",
            "_view_name": "LayoutView",
            "align_content": null,
            "align_items": null,
            "align_self": null,
            "border": null,
            "bottom": null,
            "display": null,
            "flex": null,
            "flex_flow": null,
            "grid_area": null,
            "grid_auto_columns": null,
            "grid_auto_flow": null,
            "grid_auto_rows": null,
            "grid_column": null,
            "grid_gap": null,
            "grid_row": null,
            "grid_template_areas": null,
            "grid_template_columns": null,
            "grid_template_rows": null,
            "height": null,
            "justify_content": null,
            "justify_items": null,
            "left": null,
            "margin": null,
            "max_height": null,
            "max_width": null,
            "min_height": null,
            "min_width": null,
            "object_fit": null,
            "object_position": null,
            "order": null,
            "overflow": null,
            "overflow_x": null,
            "overflow_y": null,
            "padding": null,
            "right": null,
            "top": null,
            "visibility": null,
            "width": null
          }
        },
        "37cd63d0c89d4957a3c7b63d93f60479": {
          "model_module": "@jupyter-widgets/controls",
          "model_name": "DescriptionStyleModel",
          "model_module_version": "1.5.0",
          "state": {
            "_model_module": "@jupyter-widgets/controls",
            "_model_module_version": "1.5.0",
            "_model_name": "DescriptionStyleModel",
            "_view_count": null,
            "_view_module": "@jupyter-widgets/base",
            "_view_module_version": "1.2.0",
            "_view_name": "StyleView",
            "description_width": ""
          }
        },
        "4bfc91a88c47400786199f69778efbdb": {
          "model_module": "@jupyter-widgets/controls",
          "model_name": "HBoxModel",
          "model_module_version": "1.5.0",
          "state": {
            "_dom_classes": [],
            "_model_module": "@jupyter-widgets/controls",
            "_model_module_version": "1.5.0",
            "_model_name": "HBoxModel",
            "_view_count": null,
            "_view_module": "@jupyter-widgets/controls",
            "_view_module_version": "1.5.0",
            "_view_name": "HBoxView",
            "box_style": "",
            "children": [
              "IPY_MODEL_576880d7e2ba4503ac1b0e4f02461c51",
              "IPY_MODEL_a8d1faac922e46aab45e47ab41e2495b",
              "IPY_MODEL_bc96255be33d46c68e40d25806c41050"
            ],
            "layout": "IPY_MODEL_383d0c5c70dd403c900596e49d7b4bbc"
          }
        },
        "576880d7e2ba4503ac1b0e4f02461c51": {
          "model_module": "@jupyter-widgets/controls",
          "model_name": "HTMLModel",
          "model_module_version": "1.5.0",
          "state": {
            "_dom_classes": [],
            "_model_module": "@jupyter-widgets/controls",
            "_model_module_version": "1.5.0",
            "_model_name": "HTMLModel",
            "_view_count": null,
            "_view_module": "@jupyter-widgets/controls",
            "_view_module_version": "1.5.0",
            "_view_name": "HTMLView",
            "description": "",
            "description_tooltip": null,
            "layout": "IPY_MODEL_c6253dadad2643e180d88e4bcd8a0d20",
            "placeholder": "​",
            "style": "IPY_MODEL_6506a47242b648a29306e71654761114",
            "value": ""
          }
        },
        "a8d1faac922e46aab45e47ab41e2495b": {
          "model_module": "@jupyter-widgets/controls",
          "model_name": "FloatProgressModel",
          "model_module_version": "1.5.0",
          "state": {
            "_dom_classes": [],
            "_model_module": "@jupyter-widgets/controls",
            "_model_module_version": "1.5.0",
            "_model_name": "FloatProgressModel",
            "_view_count": null,
            "_view_module": "@jupyter-widgets/controls",
            "_view_module_version": "1.5.0",
            "_view_name": "ProgressView",
            "bar_style": "success",
            "description": "",
            "description_tooltip": null,
            "layout": "IPY_MODEL_03a5755301fe48e3a4cd1f6ac2b9d7e2",
            "max": 1,
            "min": 0,
            "orientation": "horizontal",
            "style": "IPY_MODEL_4d2df9711f7d45bca89211813e7e0829",
            "value": 0
          }
        },
        "bc96255be33d46c68e40d25806c41050": {
          "model_module": "@jupyter-widgets/controls",
          "model_name": "HTMLModel",
          "model_module_version": "1.5.0",
          "state": {
            "_dom_classes": [],
            "_model_module": "@jupyter-widgets/controls",
            "_model_module_version": "1.5.0",
            "_model_name": "HTMLModel",
            "_view_count": null,
            "_view_module": "@jupyter-widgets/controls",
            "_view_module_version": "1.5.0",
            "_view_name": "HTMLView",
            "description": "",
            "description_tooltip": null,
            "layout": "IPY_MODEL_0ed5a3ada09c4ba3ba1938d6f8cbfc4d",
            "placeholder": "​",
            "style": "IPY_MODEL_4802e101d0454f46a62baacd8e410e11",
            "value": " 0/0 [00:00&lt;?, ?it/s]"
          }
        },
        "383d0c5c70dd403c900596e49d7b4bbc": {
          "model_module": "@jupyter-widgets/base",
          "model_name": "LayoutModel",
          "model_module_version": "1.2.0",
          "state": {
            "_model_module": "@jupyter-widgets/base",
            "_model_module_version": "1.2.0",
            "_model_name": "LayoutModel",
            "_view_count": null,
            "_view_module": "@jupyter-widgets/base",
            "_view_module_version": "1.2.0",
            "_view_name": "LayoutView",
            "align_content": null,
            "align_items": null,
            "align_self": null,
            "border": null,
            "bottom": null,
            "display": null,
            "flex": null,
            "flex_flow": null,
            "grid_area": null,
            "grid_auto_columns": null,
            "grid_auto_flow": null,
            "grid_auto_rows": null,
            "grid_column": null,
            "grid_gap": null,
            "grid_row": null,
            "grid_template_areas": null,
            "grid_template_columns": null,
            "grid_template_rows": null,
            "height": null,
            "justify_content": null,
            "justify_items": null,
            "left": null,
            "margin": null,
            "max_height": null,
            "max_width": null,
            "min_height": null,
            "min_width": null,
            "object_fit": null,
            "object_position": null,
            "order": null,
            "overflow": null,
            "overflow_x": null,
            "overflow_y": null,
            "padding": null,
            "right": null,
            "top": null,
            "visibility": null,
            "width": null
          }
        },
        "c6253dadad2643e180d88e4bcd8a0d20": {
          "model_module": "@jupyter-widgets/base",
          "model_name": "LayoutModel",
          "model_module_version": "1.2.0",
          "state": {
            "_model_module": "@jupyter-widgets/base",
            "_model_module_version": "1.2.0",
            "_model_name": "LayoutModel",
            "_view_count": null,
            "_view_module": "@jupyter-widgets/base",
            "_view_module_version": "1.2.0",
            "_view_name": "LayoutView",
            "align_content": null,
            "align_items": null,
            "align_self": null,
            "border": null,
            "bottom": null,
            "display": null,
            "flex": null,
            "flex_flow": null,
            "grid_area": null,
            "grid_auto_columns": null,
            "grid_auto_flow": null,
            "grid_auto_rows": null,
            "grid_column": null,
            "grid_gap": null,
            "grid_row": null,
            "grid_template_areas": null,
            "grid_template_columns": null,
            "grid_template_rows": null,
            "height": null,
            "justify_content": null,
            "justify_items": null,
            "left": null,
            "margin": null,
            "max_height": null,
            "max_width": null,
            "min_height": null,
            "min_width": null,
            "object_fit": null,
            "object_position": null,
            "order": null,
            "overflow": null,
            "overflow_x": null,
            "overflow_y": null,
            "padding": null,
            "right": null,
            "top": null,
            "visibility": null,
            "width": null
          }
        },
        "6506a47242b648a29306e71654761114": {
          "model_module": "@jupyter-widgets/controls",
          "model_name": "DescriptionStyleModel",
          "model_module_version": "1.5.0",
          "state": {
            "_model_module": "@jupyter-widgets/controls",
            "_model_module_version": "1.5.0",
            "_model_name": "DescriptionStyleModel",
            "_view_count": null,
            "_view_module": "@jupyter-widgets/base",
            "_view_module_version": "1.2.0",
            "_view_name": "StyleView",
            "description_width": ""
          }
        },
        "03a5755301fe48e3a4cd1f6ac2b9d7e2": {
          "model_module": "@jupyter-widgets/base",
          "model_name": "LayoutModel",
          "model_module_version": "1.2.0",
          "state": {
            "_model_module": "@jupyter-widgets/base",
            "_model_module_version": "1.2.0",
            "_model_name": "LayoutModel",
            "_view_count": null,
            "_view_module": "@jupyter-widgets/base",
            "_view_module_version": "1.2.0",
            "_view_name": "LayoutView",
            "align_content": null,
            "align_items": null,
            "align_self": null,
            "border": null,
            "bottom": null,
            "display": null,
            "flex": null,
            "flex_flow": null,
            "grid_area": null,
            "grid_auto_columns": null,
            "grid_auto_flow": null,
            "grid_auto_rows": null,
            "grid_column": null,
            "grid_gap": null,
            "grid_row": null,
            "grid_template_areas": null,
            "grid_template_columns": null,
            "grid_template_rows": null,
            "height": null,
            "justify_content": null,
            "justify_items": null,
            "left": null,
            "margin": null,
            "max_height": null,
            "max_width": null,
            "min_height": null,
            "min_width": null,
            "object_fit": null,
            "object_position": null,
            "order": null,
            "overflow": null,
            "overflow_x": null,
            "overflow_y": null,
            "padding": null,
            "right": null,
            "top": null,
            "visibility": null,
            "width": "20px"
          }
        },
        "4d2df9711f7d45bca89211813e7e0829": {
          "model_module": "@jupyter-widgets/controls",
          "model_name": "ProgressStyleModel",
          "model_module_version": "1.5.0",
          "state": {
            "_model_module": "@jupyter-widgets/controls",
            "_model_module_version": "1.5.0",
            "_model_name": "ProgressStyleModel",
            "_view_count": null,
            "_view_module": "@jupyter-widgets/base",
            "_view_module_version": "1.2.0",
            "_view_name": "StyleView",
            "bar_color": null,
            "description_width": ""
          }
        },
        "0ed5a3ada09c4ba3ba1938d6f8cbfc4d": {
          "model_module": "@jupyter-widgets/base",
          "model_name": "LayoutModel",
          "model_module_version": "1.2.0",
          "state": {
            "_model_module": "@jupyter-widgets/base",
            "_model_module_version": "1.2.0",
            "_model_name": "LayoutModel",
            "_view_count": null,
            "_view_module": "@jupyter-widgets/base",
            "_view_module_version": "1.2.0",
            "_view_name": "LayoutView",
            "align_content": null,
            "align_items": null,
            "align_self": null,
            "border": null,
            "bottom": null,
            "display": null,
            "flex": null,
            "flex_flow": null,
            "grid_area": null,
            "grid_auto_columns": null,
            "grid_auto_flow": null,
            "grid_auto_rows": null,
            "grid_column": null,
            "grid_gap": null,
            "grid_row": null,
            "grid_template_areas": null,
            "grid_template_columns": null,
            "grid_template_rows": null,
            "height": null,
            "justify_content": null,
            "justify_items": null,
            "left": null,
            "margin": null,
            "max_height": null,
            "max_width": null,
            "min_height": null,
            "min_width": null,
            "object_fit": null,
            "object_position": null,
            "order": null,
            "overflow": null,
            "overflow_x": null,
            "overflow_y": null,
            "padding": null,
            "right": null,
            "top": null,
            "visibility": null,
            "width": null
          }
        },
        "4802e101d0454f46a62baacd8e410e11": {
          "model_module": "@jupyter-widgets/controls",
          "model_name": "DescriptionStyleModel",
          "model_module_version": "1.5.0",
          "state": {
            "_model_module": "@jupyter-widgets/controls",
            "_model_module_version": "1.5.0",
            "_model_name": "DescriptionStyleModel",
            "_view_count": null,
            "_view_module": "@jupyter-widgets/base",
            "_view_module_version": "1.2.0",
            "_view_name": "StyleView",
            "description_width": ""
          }
        },
        "65423fdba7514f9998b721a018cdc207": {
          "model_module": "@jupyter-widgets/controls",
          "model_name": "HBoxModel",
          "model_module_version": "1.5.0",
          "state": {
            "_dom_classes": [],
            "_model_module": "@jupyter-widgets/controls",
            "_model_module_version": "1.5.0",
            "_model_name": "HBoxModel",
            "_view_count": null,
            "_view_module": "@jupyter-widgets/controls",
            "_view_module_version": "1.5.0",
            "_view_name": "HBoxView",
            "box_style": "",
            "children": [
              "IPY_MODEL_f44863161d9d47cba1a1e1540ddb983c",
              "IPY_MODEL_0ca609a625444a4f8ae6bca977186e04",
              "IPY_MODEL_1e27ebc624144bdfb6f7a03d7a49a63b"
            ],
            "layout": "IPY_MODEL_510fbbf5f2294fc68d8981e0652033b8"
          }
        },
        "f44863161d9d47cba1a1e1540ddb983c": {
          "model_module": "@jupyter-widgets/controls",
          "model_name": "HTMLModel",
          "model_module_version": "1.5.0",
          "state": {
            "_dom_classes": [],
            "_model_module": "@jupyter-widgets/controls",
            "_model_module_version": "1.5.0",
            "_model_name": "HTMLModel",
            "_view_count": null,
            "_view_module": "@jupyter-widgets/controls",
            "_view_module_version": "1.5.0",
            "_view_name": "HTMLView",
            "description": "",
            "description_tooltip": null,
            "layout": "IPY_MODEL_ade2562ec91c47528254b23ceabfc6a1",
            "placeholder": "​",
            "style": "IPY_MODEL_886edb7023e2405e8a4c408d04ce439c",
            "value": "tokenizer_config.json: 100%"
          }
        },
        "0ca609a625444a4f8ae6bca977186e04": {
          "model_module": "@jupyter-widgets/controls",
          "model_name": "FloatProgressModel",
          "model_module_version": "1.5.0",
          "state": {
            "_dom_classes": [],
            "_model_module": "@jupyter-widgets/controls",
            "_model_module_version": "1.5.0",
            "_model_name": "FloatProgressModel",
            "_view_count": null,
            "_view_module": "@jupyter-widgets/controls",
            "_view_module_version": "1.5.0",
            "_view_name": "ProgressView",
            "bar_style": "success",
            "description": "",
            "description_tooltip": null,
            "layout": "IPY_MODEL_eb77f8b4a4f048d59862d2da16606f7d",
            "max": 48,
            "min": 0,
            "orientation": "horizontal",
            "style": "IPY_MODEL_14f31574b224482b9c443c857c0396c0",
            "value": 48
          }
        },
        "1e27ebc624144bdfb6f7a03d7a49a63b": {
          "model_module": "@jupyter-widgets/controls",
          "model_name": "HTMLModel",
          "model_module_version": "1.5.0",
          "state": {
            "_dom_classes": [],
            "_model_module": "@jupyter-widgets/controls",
            "_model_module_version": "1.5.0",
            "_model_name": "HTMLModel",
            "_view_count": null,
            "_view_module": "@jupyter-widgets/controls",
            "_view_module_version": "1.5.0",
            "_view_name": "HTMLView",
            "description": "",
            "description_tooltip": null,
            "layout": "IPY_MODEL_c0faa31a00cd4662bec6c4d08ad460d6",
            "placeholder": "​",
            "style": "IPY_MODEL_d950670d94d94072bb70bffaf8786003",
            "value": " 48.0/48.0 [00:00&lt;00:00, 3.14kB/s]"
          }
        },
        "510fbbf5f2294fc68d8981e0652033b8": {
          "model_module": "@jupyter-widgets/base",
          "model_name": "LayoutModel",
          "model_module_version": "1.2.0",
          "state": {
            "_model_module": "@jupyter-widgets/base",
            "_model_module_version": "1.2.0",
            "_model_name": "LayoutModel",
            "_view_count": null,
            "_view_module": "@jupyter-widgets/base",
            "_view_module_version": "1.2.0",
            "_view_name": "LayoutView",
            "align_content": null,
            "align_items": null,
            "align_self": null,
            "border": null,
            "bottom": null,
            "display": null,
            "flex": null,
            "flex_flow": null,
            "grid_area": null,
            "grid_auto_columns": null,
            "grid_auto_flow": null,
            "grid_auto_rows": null,
            "grid_column": null,
            "grid_gap": null,
            "grid_row": null,
            "grid_template_areas": null,
            "grid_template_columns": null,
            "grid_template_rows": null,
            "height": null,
            "justify_content": null,
            "justify_items": null,
            "left": null,
            "margin": null,
            "max_height": null,
            "max_width": null,
            "min_height": null,
            "min_width": null,
            "object_fit": null,
            "object_position": null,
            "order": null,
            "overflow": null,
            "overflow_x": null,
            "overflow_y": null,
            "padding": null,
            "right": null,
            "top": null,
            "visibility": null,
            "width": null
          }
        },
        "ade2562ec91c47528254b23ceabfc6a1": {
          "model_module": "@jupyter-widgets/base",
          "model_name": "LayoutModel",
          "model_module_version": "1.2.0",
          "state": {
            "_model_module": "@jupyter-widgets/base",
            "_model_module_version": "1.2.0",
            "_model_name": "LayoutModel",
            "_view_count": null,
            "_view_module": "@jupyter-widgets/base",
            "_view_module_version": "1.2.0",
            "_view_name": "LayoutView",
            "align_content": null,
            "align_items": null,
            "align_self": null,
            "border": null,
            "bottom": null,
            "display": null,
            "flex": null,
            "flex_flow": null,
            "grid_area": null,
            "grid_auto_columns": null,
            "grid_auto_flow": null,
            "grid_auto_rows": null,
            "grid_column": null,
            "grid_gap": null,
            "grid_row": null,
            "grid_template_areas": null,
            "grid_template_columns": null,
            "grid_template_rows": null,
            "height": null,
            "justify_content": null,
            "justify_items": null,
            "left": null,
            "margin": null,
            "max_height": null,
            "max_width": null,
            "min_height": null,
            "min_width": null,
            "object_fit": null,
            "object_position": null,
            "order": null,
            "overflow": null,
            "overflow_x": null,
            "overflow_y": null,
            "padding": null,
            "right": null,
            "top": null,
            "visibility": null,
            "width": null
          }
        },
        "886edb7023e2405e8a4c408d04ce439c": {
          "model_module": "@jupyter-widgets/controls",
          "model_name": "DescriptionStyleModel",
          "model_module_version": "1.5.0",
          "state": {
            "_model_module": "@jupyter-widgets/controls",
            "_model_module_version": "1.5.0",
            "_model_name": "DescriptionStyleModel",
            "_view_count": null,
            "_view_module": "@jupyter-widgets/base",
            "_view_module_version": "1.2.0",
            "_view_name": "StyleView",
            "description_width": ""
          }
        },
        "eb77f8b4a4f048d59862d2da16606f7d": {
          "model_module": "@jupyter-widgets/base",
          "model_name": "LayoutModel",
          "model_module_version": "1.2.0",
          "state": {
            "_model_module": "@jupyter-widgets/base",
            "_model_module_version": "1.2.0",
            "_model_name": "LayoutModel",
            "_view_count": null,
            "_view_module": "@jupyter-widgets/base",
            "_view_module_version": "1.2.0",
            "_view_name": "LayoutView",
            "align_content": null,
            "align_items": null,
            "align_self": null,
            "border": null,
            "bottom": null,
            "display": null,
            "flex": null,
            "flex_flow": null,
            "grid_area": null,
            "grid_auto_columns": null,
            "grid_auto_flow": null,
            "grid_auto_rows": null,
            "grid_column": null,
            "grid_gap": null,
            "grid_row": null,
            "grid_template_areas": null,
            "grid_template_columns": null,
            "grid_template_rows": null,
            "height": null,
            "justify_content": null,
            "justify_items": null,
            "left": null,
            "margin": null,
            "max_height": null,
            "max_width": null,
            "min_height": null,
            "min_width": null,
            "object_fit": null,
            "object_position": null,
            "order": null,
            "overflow": null,
            "overflow_x": null,
            "overflow_y": null,
            "padding": null,
            "right": null,
            "top": null,
            "visibility": null,
            "width": null
          }
        },
        "14f31574b224482b9c443c857c0396c0": {
          "model_module": "@jupyter-widgets/controls",
          "model_name": "ProgressStyleModel",
          "model_module_version": "1.5.0",
          "state": {
            "_model_module": "@jupyter-widgets/controls",
            "_model_module_version": "1.5.0",
            "_model_name": "ProgressStyleModel",
            "_view_count": null,
            "_view_module": "@jupyter-widgets/base",
            "_view_module_version": "1.2.0",
            "_view_name": "StyleView",
            "bar_color": null,
            "description_width": ""
          }
        },
        "c0faa31a00cd4662bec6c4d08ad460d6": {
          "model_module": "@jupyter-widgets/base",
          "model_name": "LayoutModel",
          "model_module_version": "1.2.0",
          "state": {
            "_model_module": "@jupyter-widgets/base",
            "_model_module_version": "1.2.0",
            "_model_name": "LayoutModel",
            "_view_count": null,
            "_view_module": "@jupyter-widgets/base",
            "_view_module_version": "1.2.0",
            "_view_name": "LayoutView",
            "align_content": null,
            "align_items": null,
            "align_self": null,
            "border": null,
            "bottom": null,
            "display": null,
            "flex": null,
            "flex_flow": null,
            "grid_area": null,
            "grid_auto_columns": null,
            "grid_auto_flow": null,
            "grid_auto_rows": null,
            "grid_column": null,
            "grid_gap": null,
            "grid_row": null,
            "grid_template_areas": null,
            "grid_template_columns": null,
            "grid_template_rows": null,
            "height": null,
            "justify_content": null,
            "justify_items": null,
            "left": null,
            "margin": null,
            "max_height": null,
            "max_width": null,
            "min_height": null,
            "min_width": null,
            "object_fit": null,
            "object_position": null,
            "order": null,
            "overflow": null,
            "overflow_x": null,
            "overflow_y": null,
            "padding": null,
            "right": null,
            "top": null,
            "visibility": null,
            "width": null
          }
        },
        "d950670d94d94072bb70bffaf8786003": {
          "model_module": "@jupyter-widgets/controls",
          "model_name": "DescriptionStyleModel",
          "model_module_version": "1.5.0",
          "state": {
            "_model_module": "@jupyter-widgets/controls",
            "_model_module_version": "1.5.0",
            "_model_name": "DescriptionStyleModel",
            "_view_count": null,
            "_view_module": "@jupyter-widgets/base",
            "_view_module_version": "1.2.0",
            "_view_name": "StyleView",
            "description_width": ""
          }
        },
        "5d84c43efc4d4ba09399ceac59a45acd": {
          "model_module": "@jupyter-widgets/controls",
          "model_name": "HBoxModel",
          "model_module_version": "1.5.0",
          "state": {
            "_dom_classes": [],
            "_model_module": "@jupyter-widgets/controls",
            "_model_module_version": "1.5.0",
            "_model_name": "HBoxModel",
            "_view_count": null,
            "_view_module": "@jupyter-widgets/controls",
            "_view_module_version": "1.5.0",
            "_view_name": "HBoxView",
            "box_style": "",
            "children": [
              "IPY_MODEL_07ca836a668040528baba6f34e330199",
              "IPY_MODEL_2871012944bb445dbd94435df4d8069d",
              "IPY_MODEL_1f3d6a9ea00b47c2b6644324e5da360c"
            ],
            "layout": "IPY_MODEL_2c48af0c13ee47dd8991a88d65e91aeb"
          }
        },
        "07ca836a668040528baba6f34e330199": {
          "model_module": "@jupyter-widgets/controls",
          "model_name": "HTMLModel",
          "model_module_version": "1.5.0",
          "state": {
            "_dom_classes": [],
            "_model_module": "@jupyter-widgets/controls",
            "_model_module_version": "1.5.0",
            "_model_name": "HTMLModel",
            "_view_count": null,
            "_view_module": "@jupyter-widgets/controls",
            "_view_module_version": "1.5.0",
            "_view_name": "HTMLView",
            "description": "",
            "description_tooltip": null,
            "layout": "IPY_MODEL_226b9b9f7fe74c7ea4a3a09b45a67359",
            "placeholder": "​",
            "style": "IPY_MODEL_8b8cc64070fe4304a6a94d29fe2344fe",
            "value": "config.json: 100%"
          }
        },
        "2871012944bb445dbd94435df4d8069d": {
          "model_module": "@jupyter-widgets/controls",
          "model_name": "FloatProgressModel",
          "model_module_version": "1.5.0",
          "state": {
            "_dom_classes": [],
            "_model_module": "@jupyter-widgets/controls",
            "_model_module_version": "1.5.0",
            "_model_name": "FloatProgressModel",
            "_view_count": null,
            "_view_module": "@jupyter-widgets/controls",
            "_view_module_version": "1.5.0",
            "_view_name": "ProgressView",
            "bar_style": "success",
            "description": "",
            "description_tooltip": null,
            "layout": "IPY_MODEL_f6a371134da3423b8ba03645cc71ed52",
            "max": 483,
            "min": 0,
            "orientation": "horizontal",
            "style": "IPY_MODEL_53a03c3968be417ca25bd07b14f5c05f",
            "value": 483
          }
        },
        "1f3d6a9ea00b47c2b6644324e5da360c": {
          "model_module": "@jupyter-widgets/controls",
          "model_name": "HTMLModel",
          "model_module_version": "1.5.0",
          "state": {
            "_dom_classes": [],
            "_model_module": "@jupyter-widgets/controls",
            "_model_module_version": "1.5.0",
            "_model_name": "HTMLModel",
            "_view_count": null,
            "_view_module": "@jupyter-widgets/controls",
            "_view_module_version": "1.5.0",
            "_view_name": "HTMLView",
            "description": "",
            "description_tooltip": null,
            "layout": "IPY_MODEL_7666842073df48e4ab4f1444687f17e6",
            "placeholder": "​",
            "style": "IPY_MODEL_e7396883cb16475198945a4a6dcfa174",
            "value": " 483/483 [00:00&lt;00:00, 26.7kB/s]"
          }
        },
        "2c48af0c13ee47dd8991a88d65e91aeb": {
          "model_module": "@jupyter-widgets/base",
          "model_name": "LayoutModel",
          "model_module_version": "1.2.0",
          "state": {
            "_model_module": "@jupyter-widgets/base",
            "_model_module_version": "1.2.0",
            "_model_name": "LayoutModel",
            "_view_count": null,
            "_view_module": "@jupyter-widgets/base",
            "_view_module_version": "1.2.0",
            "_view_name": "LayoutView",
            "align_content": null,
            "align_items": null,
            "align_self": null,
            "border": null,
            "bottom": null,
            "display": null,
            "flex": null,
            "flex_flow": null,
            "grid_area": null,
            "grid_auto_columns": null,
            "grid_auto_flow": null,
            "grid_auto_rows": null,
            "grid_column": null,
            "grid_gap": null,
            "grid_row": null,
            "grid_template_areas": null,
            "grid_template_columns": null,
            "grid_template_rows": null,
            "height": null,
            "justify_content": null,
            "justify_items": null,
            "left": null,
            "margin": null,
            "max_height": null,
            "max_width": null,
            "min_height": null,
            "min_width": null,
            "object_fit": null,
            "object_position": null,
            "order": null,
            "overflow": null,
            "overflow_x": null,
            "overflow_y": null,
            "padding": null,
            "right": null,
            "top": null,
            "visibility": null,
            "width": null
          }
        },
        "226b9b9f7fe74c7ea4a3a09b45a67359": {
          "model_module": "@jupyter-widgets/base",
          "model_name": "LayoutModel",
          "model_module_version": "1.2.0",
          "state": {
            "_model_module": "@jupyter-widgets/base",
            "_model_module_version": "1.2.0",
            "_model_name": "LayoutModel",
            "_view_count": null,
            "_view_module": "@jupyter-widgets/base",
            "_view_module_version": "1.2.0",
            "_view_name": "LayoutView",
            "align_content": null,
            "align_items": null,
            "align_self": null,
            "border": null,
            "bottom": null,
            "display": null,
            "flex": null,
            "flex_flow": null,
            "grid_area": null,
            "grid_auto_columns": null,
            "grid_auto_flow": null,
            "grid_auto_rows": null,
            "grid_column": null,
            "grid_gap": null,
            "grid_row": null,
            "grid_template_areas": null,
            "grid_template_columns": null,
            "grid_template_rows": null,
            "height": null,
            "justify_content": null,
            "justify_items": null,
            "left": null,
            "margin": null,
            "max_height": null,
            "max_width": null,
            "min_height": null,
            "min_width": null,
            "object_fit": null,
            "object_position": null,
            "order": null,
            "overflow": null,
            "overflow_x": null,
            "overflow_y": null,
            "padding": null,
            "right": null,
            "top": null,
            "visibility": null,
            "width": null
          }
        },
        "8b8cc64070fe4304a6a94d29fe2344fe": {
          "model_module": "@jupyter-widgets/controls",
          "model_name": "DescriptionStyleModel",
          "model_module_version": "1.5.0",
          "state": {
            "_model_module": "@jupyter-widgets/controls",
            "_model_module_version": "1.5.0",
            "_model_name": "DescriptionStyleModel",
            "_view_count": null,
            "_view_module": "@jupyter-widgets/base",
            "_view_module_version": "1.2.0",
            "_view_name": "StyleView",
            "description_width": ""
          }
        },
        "f6a371134da3423b8ba03645cc71ed52": {
          "model_module": "@jupyter-widgets/base",
          "model_name": "LayoutModel",
          "model_module_version": "1.2.0",
          "state": {
            "_model_module": "@jupyter-widgets/base",
            "_model_module_version": "1.2.0",
            "_model_name": "LayoutModel",
            "_view_count": null,
            "_view_module": "@jupyter-widgets/base",
            "_view_module_version": "1.2.0",
            "_view_name": "LayoutView",
            "align_content": null,
            "align_items": null,
            "align_self": null,
            "border": null,
            "bottom": null,
            "display": null,
            "flex": null,
            "flex_flow": null,
            "grid_area": null,
            "grid_auto_columns": null,
            "grid_auto_flow": null,
            "grid_auto_rows": null,
            "grid_column": null,
            "grid_gap": null,
            "grid_row": null,
            "grid_template_areas": null,
            "grid_template_columns": null,
            "grid_template_rows": null,
            "height": null,
            "justify_content": null,
            "justify_items": null,
            "left": null,
            "margin": null,
            "max_height": null,
            "max_width": null,
            "min_height": null,
            "min_width": null,
            "object_fit": null,
            "object_position": null,
            "order": null,
            "overflow": null,
            "overflow_x": null,
            "overflow_y": null,
            "padding": null,
            "right": null,
            "top": null,
            "visibility": null,
            "width": null
          }
        },
        "53a03c3968be417ca25bd07b14f5c05f": {
          "model_module": "@jupyter-widgets/controls",
          "model_name": "ProgressStyleModel",
          "model_module_version": "1.5.0",
          "state": {
            "_model_module": "@jupyter-widgets/controls",
            "_model_module_version": "1.5.0",
            "_model_name": "ProgressStyleModel",
            "_view_count": null,
            "_view_module": "@jupyter-widgets/base",
            "_view_module_version": "1.2.0",
            "_view_name": "StyleView",
            "bar_color": null,
            "description_width": ""
          }
        },
        "7666842073df48e4ab4f1444687f17e6": {
          "model_module": "@jupyter-widgets/base",
          "model_name": "LayoutModel",
          "model_module_version": "1.2.0",
          "state": {
            "_model_module": "@jupyter-widgets/base",
            "_model_module_version": "1.2.0",
            "_model_name": "LayoutModel",
            "_view_count": null,
            "_view_module": "@jupyter-widgets/base",
            "_view_module_version": "1.2.0",
            "_view_name": "LayoutView",
            "align_content": null,
            "align_items": null,
            "align_self": null,
            "border": null,
            "bottom": null,
            "display": null,
            "flex": null,
            "flex_flow": null,
            "grid_area": null,
            "grid_auto_columns": null,
            "grid_auto_flow": null,
            "grid_auto_rows": null,
            "grid_column": null,
            "grid_gap": null,
            "grid_row": null,
            "grid_template_areas": null,
            "grid_template_columns": null,
            "grid_template_rows": null,
            "height": null,
            "justify_content": null,
            "justify_items": null,
            "left": null,
            "margin": null,
            "max_height": null,
            "max_width": null,
            "min_height": null,
            "min_width": null,
            "object_fit": null,
            "object_position": null,
            "order": null,
            "overflow": null,
            "overflow_x": null,
            "overflow_y": null,
            "padding": null,
            "right": null,
            "top": null,
            "visibility": null,
            "width": null
          }
        },
        "e7396883cb16475198945a4a6dcfa174": {
          "model_module": "@jupyter-widgets/controls",
          "model_name": "DescriptionStyleModel",
          "model_module_version": "1.5.0",
          "state": {
            "_model_module": "@jupyter-widgets/controls",
            "_model_module_version": "1.5.0",
            "_model_name": "DescriptionStyleModel",
            "_view_count": null,
            "_view_module": "@jupyter-widgets/base",
            "_view_module_version": "1.2.0",
            "_view_name": "StyleView",
            "description_width": ""
          }
        },
        "48be8ce2f86f4eea997ccd09874f0443": {
          "model_module": "@jupyter-widgets/controls",
          "model_name": "HBoxModel",
          "model_module_version": "1.5.0",
          "state": {
            "_dom_classes": [],
            "_model_module": "@jupyter-widgets/controls",
            "_model_module_version": "1.5.0",
            "_model_name": "HBoxModel",
            "_view_count": null,
            "_view_module": "@jupyter-widgets/controls",
            "_view_module_version": "1.5.0",
            "_view_name": "HBoxView",
            "box_style": "",
            "children": [
              "IPY_MODEL_f504feb31a294075bd41c69c22b8d64a",
              "IPY_MODEL_259195c5f6bc42f1be5a341b112d256c",
              "IPY_MODEL_88f586d66809474a8fd37e8012e0dca6"
            ],
            "layout": "IPY_MODEL_b31e2535b3524c839be3c64fae082ddb"
          }
        },
        "f504feb31a294075bd41c69c22b8d64a": {
          "model_module": "@jupyter-widgets/controls",
          "model_name": "HTMLModel",
          "model_module_version": "1.5.0",
          "state": {
            "_dom_classes": [],
            "_model_module": "@jupyter-widgets/controls",
            "_model_module_version": "1.5.0",
            "_model_name": "HTMLModel",
            "_view_count": null,
            "_view_module": "@jupyter-widgets/controls",
            "_view_module_version": "1.5.0",
            "_view_name": "HTMLView",
            "description": "",
            "description_tooltip": null,
            "layout": "IPY_MODEL_02b5a2324e3445ba8247ca34d64479f9",
            "placeholder": "​",
            "style": "IPY_MODEL_cfa761b5a0fb49fca7f02a42156ca9c8",
            "value": "vocab.txt: 100%"
          }
        },
        "259195c5f6bc42f1be5a341b112d256c": {
          "model_module": "@jupyter-widgets/controls",
          "model_name": "FloatProgressModel",
          "model_module_version": "1.5.0",
          "state": {
            "_dom_classes": [],
            "_model_module": "@jupyter-widgets/controls",
            "_model_module_version": "1.5.0",
            "_model_name": "FloatProgressModel",
            "_view_count": null,
            "_view_module": "@jupyter-widgets/controls",
            "_view_module_version": "1.5.0",
            "_view_name": "ProgressView",
            "bar_style": "success",
            "description": "",
            "description_tooltip": null,
            "layout": "IPY_MODEL_89352a8eb92d47f19dbb5421f07d7b7c",
            "max": 231508,
            "min": 0,
            "orientation": "horizontal",
            "style": "IPY_MODEL_fd6a1e65356e4be1b3ec1c972990484a",
            "value": 231508
          }
        },
        "88f586d66809474a8fd37e8012e0dca6": {
          "model_module": "@jupyter-widgets/controls",
          "model_name": "HTMLModel",
          "model_module_version": "1.5.0",
          "state": {
            "_dom_classes": [],
            "_model_module": "@jupyter-widgets/controls",
            "_model_module_version": "1.5.0",
            "_model_name": "HTMLModel",
            "_view_count": null,
            "_view_module": "@jupyter-widgets/controls",
            "_view_module_version": "1.5.0",
            "_view_name": "HTMLView",
            "description": "",
            "description_tooltip": null,
            "layout": "IPY_MODEL_17cb0780f7d8423f85c0b5d3b5cd4f37",
            "placeholder": "​",
            "style": "IPY_MODEL_1f26310bc7a1419eba4f72c70e0b79f0",
            "value": " 232k/232k [00:00&lt;00:00, 1.79MB/s]"
          }
        },
        "b31e2535b3524c839be3c64fae082ddb": {
          "model_module": "@jupyter-widgets/base",
          "model_name": "LayoutModel",
          "model_module_version": "1.2.0",
          "state": {
            "_model_module": "@jupyter-widgets/base",
            "_model_module_version": "1.2.0",
            "_model_name": "LayoutModel",
            "_view_count": null,
            "_view_module": "@jupyter-widgets/base",
            "_view_module_version": "1.2.0",
            "_view_name": "LayoutView",
            "align_content": null,
            "align_items": null,
            "align_self": null,
            "border": null,
            "bottom": null,
            "display": null,
            "flex": null,
            "flex_flow": null,
            "grid_area": null,
            "grid_auto_columns": null,
            "grid_auto_flow": null,
            "grid_auto_rows": null,
            "grid_column": null,
            "grid_gap": null,
            "grid_row": null,
            "grid_template_areas": null,
            "grid_template_columns": null,
            "grid_template_rows": null,
            "height": null,
            "justify_content": null,
            "justify_items": null,
            "left": null,
            "margin": null,
            "max_height": null,
            "max_width": null,
            "min_height": null,
            "min_width": null,
            "object_fit": null,
            "object_position": null,
            "order": null,
            "overflow": null,
            "overflow_x": null,
            "overflow_y": null,
            "padding": null,
            "right": null,
            "top": null,
            "visibility": null,
            "width": null
          }
        },
        "02b5a2324e3445ba8247ca34d64479f9": {
          "model_module": "@jupyter-widgets/base",
          "model_name": "LayoutModel",
          "model_module_version": "1.2.0",
          "state": {
            "_model_module": "@jupyter-widgets/base",
            "_model_module_version": "1.2.0",
            "_model_name": "LayoutModel",
            "_view_count": null,
            "_view_module": "@jupyter-widgets/base",
            "_view_module_version": "1.2.0",
            "_view_name": "LayoutView",
            "align_content": null,
            "align_items": null,
            "align_self": null,
            "border": null,
            "bottom": null,
            "display": null,
            "flex": null,
            "flex_flow": null,
            "grid_area": null,
            "grid_auto_columns": null,
            "grid_auto_flow": null,
            "grid_auto_rows": null,
            "grid_column": null,
            "grid_gap": null,
            "grid_row": null,
            "grid_template_areas": null,
            "grid_template_columns": null,
            "grid_template_rows": null,
            "height": null,
            "justify_content": null,
            "justify_items": null,
            "left": null,
            "margin": null,
            "max_height": null,
            "max_width": null,
            "min_height": null,
            "min_width": null,
            "object_fit": null,
            "object_position": null,
            "order": null,
            "overflow": null,
            "overflow_x": null,
            "overflow_y": null,
            "padding": null,
            "right": null,
            "top": null,
            "visibility": null,
            "width": null
          }
        },
        "cfa761b5a0fb49fca7f02a42156ca9c8": {
          "model_module": "@jupyter-widgets/controls",
          "model_name": "DescriptionStyleModel",
          "model_module_version": "1.5.0",
          "state": {
            "_model_module": "@jupyter-widgets/controls",
            "_model_module_version": "1.5.0",
            "_model_name": "DescriptionStyleModel",
            "_view_count": null,
            "_view_module": "@jupyter-widgets/base",
            "_view_module_version": "1.2.0",
            "_view_name": "StyleView",
            "description_width": ""
          }
        },
        "89352a8eb92d47f19dbb5421f07d7b7c": {
          "model_module": "@jupyter-widgets/base",
          "model_name": "LayoutModel",
          "model_module_version": "1.2.0",
          "state": {
            "_model_module": "@jupyter-widgets/base",
            "_model_module_version": "1.2.0",
            "_model_name": "LayoutModel",
            "_view_count": null,
            "_view_module": "@jupyter-widgets/base",
            "_view_module_version": "1.2.0",
            "_view_name": "LayoutView",
            "align_content": null,
            "align_items": null,
            "align_self": null,
            "border": null,
            "bottom": null,
            "display": null,
            "flex": null,
            "flex_flow": null,
            "grid_area": null,
            "grid_auto_columns": null,
            "grid_auto_flow": null,
            "grid_auto_rows": null,
            "grid_column": null,
            "grid_gap": null,
            "grid_row": null,
            "grid_template_areas": null,
            "grid_template_columns": null,
            "grid_template_rows": null,
            "height": null,
            "justify_content": null,
            "justify_items": null,
            "left": null,
            "margin": null,
            "max_height": null,
            "max_width": null,
            "min_height": null,
            "min_width": null,
            "object_fit": null,
            "object_position": null,
            "order": null,
            "overflow": null,
            "overflow_x": null,
            "overflow_y": null,
            "padding": null,
            "right": null,
            "top": null,
            "visibility": null,
            "width": null
          }
        },
        "fd6a1e65356e4be1b3ec1c972990484a": {
          "model_module": "@jupyter-widgets/controls",
          "model_name": "ProgressStyleModel",
          "model_module_version": "1.5.0",
          "state": {
            "_model_module": "@jupyter-widgets/controls",
            "_model_module_version": "1.5.0",
            "_model_name": "ProgressStyleModel",
            "_view_count": null,
            "_view_module": "@jupyter-widgets/base",
            "_view_module_version": "1.2.0",
            "_view_name": "StyleView",
            "bar_color": null,
            "description_width": ""
          }
        },
        "17cb0780f7d8423f85c0b5d3b5cd4f37": {
          "model_module": "@jupyter-widgets/base",
          "model_name": "LayoutModel",
          "model_module_version": "1.2.0",
          "state": {
            "_model_module": "@jupyter-widgets/base",
            "_model_module_version": "1.2.0",
            "_model_name": "LayoutModel",
            "_view_count": null,
            "_view_module": "@jupyter-widgets/base",
            "_view_module_version": "1.2.0",
            "_view_name": "LayoutView",
            "align_content": null,
            "align_items": null,
            "align_self": null,
            "border": null,
            "bottom": null,
            "display": null,
            "flex": null,
            "flex_flow": null,
            "grid_area": null,
            "grid_auto_columns": null,
            "grid_auto_flow": null,
            "grid_auto_rows": null,
            "grid_column": null,
            "grid_gap": null,
            "grid_row": null,
            "grid_template_areas": null,
            "grid_template_columns": null,
            "grid_template_rows": null,
            "height": null,
            "justify_content": null,
            "justify_items": null,
            "left": null,
            "margin": null,
            "max_height": null,
            "max_width": null,
            "min_height": null,
            "min_width": null,
            "object_fit": null,
            "object_position": null,
            "order": null,
            "overflow": null,
            "overflow_x": null,
            "overflow_y": null,
            "padding": null,
            "right": null,
            "top": null,
            "visibility": null,
            "width": null
          }
        },
        "1f26310bc7a1419eba4f72c70e0b79f0": {
          "model_module": "@jupyter-widgets/controls",
          "model_name": "DescriptionStyleModel",
          "model_module_version": "1.5.0",
          "state": {
            "_model_module": "@jupyter-widgets/controls",
            "_model_module_version": "1.5.0",
            "_model_name": "DescriptionStyleModel",
            "_view_count": null,
            "_view_module": "@jupyter-widgets/base",
            "_view_module_version": "1.2.0",
            "_view_name": "StyleView",
            "description_width": ""
          }
        },
        "0bc6de8925d044c1b60bc28718fffe51": {
          "model_module": "@jupyter-widgets/controls",
          "model_name": "HBoxModel",
          "model_module_version": "1.5.0",
          "state": {
            "_dom_classes": [],
            "_model_module": "@jupyter-widgets/controls",
            "_model_module_version": "1.5.0",
            "_model_name": "HBoxModel",
            "_view_count": null,
            "_view_module": "@jupyter-widgets/controls",
            "_view_module_version": "1.5.0",
            "_view_name": "HBoxView",
            "box_style": "",
            "children": [
              "IPY_MODEL_81c974ce6e86426fa04f02211ec9fb61",
              "IPY_MODEL_21b663a3e352470897bd50155c8642a7",
              "IPY_MODEL_8f078e73025b42c0ab5eff4658fcfb66"
            ],
            "layout": "IPY_MODEL_493ac096560a4d97aa47062e5a9f4fe3"
          }
        },
        "81c974ce6e86426fa04f02211ec9fb61": {
          "model_module": "@jupyter-widgets/controls",
          "model_name": "HTMLModel",
          "model_module_version": "1.5.0",
          "state": {
            "_dom_classes": [],
            "_model_module": "@jupyter-widgets/controls",
            "_model_module_version": "1.5.0",
            "_model_name": "HTMLModel",
            "_view_count": null,
            "_view_module": "@jupyter-widgets/controls",
            "_view_module_version": "1.5.0",
            "_view_name": "HTMLView",
            "description": "",
            "description_tooltip": null,
            "layout": "IPY_MODEL_00fd5b124e38485e86a90625293e14df",
            "placeholder": "​",
            "style": "IPY_MODEL_b1bbbaa24faa43b3a00d9f740a069724",
            "value": "tokenizer.json: 100%"
          }
        },
        "21b663a3e352470897bd50155c8642a7": {
          "model_module": "@jupyter-widgets/controls",
          "model_name": "FloatProgressModel",
          "model_module_version": "1.5.0",
          "state": {
            "_dom_classes": [],
            "_model_module": "@jupyter-widgets/controls",
            "_model_module_version": "1.5.0",
            "_model_name": "FloatProgressModel",
            "_view_count": null,
            "_view_module": "@jupyter-widgets/controls",
            "_view_module_version": "1.5.0",
            "_view_name": "ProgressView",
            "bar_style": "success",
            "description": "",
            "description_tooltip": null,
            "layout": "IPY_MODEL_7eb9c3d7a3ee4c448ce3b53cb21146b9",
            "max": 466062,
            "min": 0,
            "orientation": "horizontal",
            "style": "IPY_MODEL_884af691fd774738bc2605001e2284f4",
            "value": 466062
          }
        },
        "8f078e73025b42c0ab5eff4658fcfb66": {
          "model_module": "@jupyter-widgets/controls",
          "model_name": "HTMLModel",
          "model_module_version": "1.5.0",
          "state": {
            "_dom_classes": [],
            "_model_module": "@jupyter-widgets/controls",
            "_model_module_version": "1.5.0",
            "_model_name": "HTMLModel",
            "_view_count": null,
            "_view_module": "@jupyter-widgets/controls",
            "_view_module_version": "1.5.0",
            "_view_name": "HTMLView",
            "description": "",
            "description_tooltip": null,
            "layout": "IPY_MODEL_69668dcb905a44f0bec244a1b17bf05f",
            "placeholder": "​",
            "style": "IPY_MODEL_d0059e69e1214add8e4c4784f5e9d069",
            "value": " 466k/466k [00:00&lt;00:00, 3.54MB/s]"
          }
        },
        "493ac096560a4d97aa47062e5a9f4fe3": {
          "model_module": "@jupyter-widgets/base",
          "model_name": "LayoutModel",
          "model_module_version": "1.2.0",
          "state": {
            "_model_module": "@jupyter-widgets/base",
            "_model_module_version": "1.2.0",
            "_model_name": "LayoutModel",
            "_view_count": null,
            "_view_module": "@jupyter-widgets/base",
            "_view_module_version": "1.2.0",
            "_view_name": "LayoutView",
            "align_content": null,
            "align_items": null,
            "align_self": null,
            "border": null,
            "bottom": null,
            "display": null,
            "flex": null,
            "flex_flow": null,
            "grid_area": null,
            "grid_auto_columns": null,
            "grid_auto_flow": null,
            "grid_auto_rows": null,
            "grid_column": null,
            "grid_gap": null,
            "grid_row": null,
            "grid_template_areas": null,
            "grid_template_columns": null,
            "grid_template_rows": null,
            "height": null,
            "justify_content": null,
            "justify_items": null,
            "left": null,
            "margin": null,
            "max_height": null,
            "max_width": null,
            "min_height": null,
            "min_width": null,
            "object_fit": null,
            "object_position": null,
            "order": null,
            "overflow": null,
            "overflow_x": null,
            "overflow_y": null,
            "padding": null,
            "right": null,
            "top": null,
            "visibility": null,
            "width": null
          }
        },
        "00fd5b124e38485e86a90625293e14df": {
          "model_module": "@jupyter-widgets/base",
          "model_name": "LayoutModel",
          "model_module_version": "1.2.0",
          "state": {
            "_model_module": "@jupyter-widgets/base",
            "_model_module_version": "1.2.0",
            "_model_name": "LayoutModel",
            "_view_count": null,
            "_view_module": "@jupyter-widgets/base",
            "_view_module_version": "1.2.0",
            "_view_name": "LayoutView",
            "align_content": null,
            "align_items": null,
            "align_self": null,
            "border": null,
            "bottom": null,
            "display": null,
            "flex": null,
            "flex_flow": null,
            "grid_area": null,
            "grid_auto_columns": null,
            "grid_auto_flow": null,
            "grid_auto_rows": null,
            "grid_column": null,
            "grid_gap": null,
            "grid_row": null,
            "grid_template_areas": null,
            "grid_template_columns": null,
            "grid_template_rows": null,
            "height": null,
            "justify_content": null,
            "justify_items": null,
            "left": null,
            "margin": null,
            "max_height": null,
            "max_width": null,
            "min_height": null,
            "min_width": null,
            "object_fit": null,
            "object_position": null,
            "order": null,
            "overflow": null,
            "overflow_x": null,
            "overflow_y": null,
            "padding": null,
            "right": null,
            "top": null,
            "visibility": null,
            "width": null
          }
        },
        "b1bbbaa24faa43b3a00d9f740a069724": {
          "model_module": "@jupyter-widgets/controls",
          "model_name": "DescriptionStyleModel",
          "model_module_version": "1.5.0",
          "state": {
            "_model_module": "@jupyter-widgets/controls",
            "_model_module_version": "1.5.0",
            "_model_name": "DescriptionStyleModel",
            "_view_count": null,
            "_view_module": "@jupyter-widgets/base",
            "_view_module_version": "1.2.0",
            "_view_name": "StyleView",
            "description_width": ""
          }
        },
        "7eb9c3d7a3ee4c448ce3b53cb21146b9": {
          "model_module": "@jupyter-widgets/base",
          "model_name": "LayoutModel",
          "model_module_version": "1.2.0",
          "state": {
            "_model_module": "@jupyter-widgets/base",
            "_model_module_version": "1.2.0",
            "_model_name": "LayoutModel",
            "_view_count": null,
            "_view_module": "@jupyter-widgets/base",
            "_view_module_version": "1.2.0",
            "_view_name": "LayoutView",
            "align_content": null,
            "align_items": null,
            "align_self": null,
            "border": null,
            "bottom": null,
            "display": null,
            "flex": null,
            "flex_flow": null,
            "grid_area": null,
            "grid_auto_columns": null,
            "grid_auto_flow": null,
            "grid_auto_rows": null,
            "grid_column": null,
            "grid_gap": null,
            "grid_row": null,
            "grid_template_areas": null,
            "grid_template_columns": null,
            "grid_template_rows": null,
            "height": null,
            "justify_content": null,
            "justify_items": null,
            "left": null,
            "margin": null,
            "max_height": null,
            "max_width": null,
            "min_height": null,
            "min_width": null,
            "object_fit": null,
            "object_position": null,
            "order": null,
            "overflow": null,
            "overflow_x": null,
            "overflow_y": null,
            "padding": null,
            "right": null,
            "top": null,
            "visibility": null,
            "width": null
          }
        },
        "884af691fd774738bc2605001e2284f4": {
          "model_module": "@jupyter-widgets/controls",
          "model_name": "ProgressStyleModel",
          "model_module_version": "1.5.0",
          "state": {
            "_model_module": "@jupyter-widgets/controls",
            "_model_module_version": "1.5.0",
            "_model_name": "ProgressStyleModel",
            "_view_count": null,
            "_view_module": "@jupyter-widgets/base",
            "_view_module_version": "1.2.0",
            "_view_name": "StyleView",
            "bar_color": null,
            "description_width": ""
          }
        },
        "69668dcb905a44f0bec244a1b17bf05f": {
          "model_module": "@jupyter-widgets/base",
          "model_name": "LayoutModel",
          "model_module_version": "1.2.0",
          "state": {
            "_model_module": "@jupyter-widgets/base",
            "_model_module_version": "1.2.0",
            "_model_name": "LayoutModel",
            "_view_count": null,
            "_view_module": "@jupyter-widgets/base",
            "_view_module_version": "1.2.0",
            "_view_name": "LayoutView",
            "align_content": null,
            "align_items": null,
            "align_self": null,
            "border": null,
            "bottom": null,
            "display": null,
            "flex": null,
            "flex_flow": null,
            "grid_area": null,
            "grid_auto_columns": null,
            "grid_auto_flow": null,
            "grid_auto_rows": null,
            "grid_column": null,
            "grid_gap": null,
            "grid_row": null,
            "grid_template_areas": null,
            "grid_template_columns": null,
            "grid_template_rows": null,
            "height": null,
            "justify_content": null,
            "justify_items": null,
            "left": null,
            "margin": null,
            "max_height": null,
            "max_width": null,
            "min_height": null,
            "min_width": null,
            "object_fit": null,
            "object_position": null,
            "order": null,
            "overflow": null,
            "overflow_x": null,
            "overflow_y": null,
            "padding": null,
            "right": null,
            "top": null,
            "visibility": null,
            "width": null
          }
        },
        "d0059e69e1214add8e4c4784f5e9d069": {
          "model_module": "@jupyter-widgets/controls",
          "model_name": "DescriptionStyleModel",
          "model_module_version": "1.5.0",
          "state": {
            "_model_module": "@jupyter-widgets/controls",
            "_model_module_version": "1.5.0",
            "_model_name": "DescriptionStyleModel",
            "_view_count": null,
            "_view_module": "@jupyter-widgets/base",
            "_view_module_version": "1.2.0",
            "_view_name": "StyleView",
            "description_width": ""
          }
        },
        "ab690212427246769f246e3800dc3c16": {
          "model_module": "@jupyter-widgets/controls",
          "model_name": "HBoxModel",
          "model_module_version": "1.5.0",
          "state": {
            "_dom_classes": [],
            "_model_module": "@jupyter-widgets/controls",
            "_model_module_version": "1.5.0",
            "_model_name": "HBoxModel",
            "_view_count": null,
            "_view_module": "@jupyter-widgets/controls",
            "_view_module_version": "1.5.0",
            "_view_name": "HBoxView",
            "box_style": "",
            "children": [
              "IPY_MODEL_7087d07673d3428aad7cb5746424c86b",
              "IPY_MODEL_ca2d9fdd6bec48b89696f000ebe39eda",
              "IPY_MODEL_7d11c5ef9b584507b13b80ab66eaf90f"
            ],
            "layout": "IPY_MODEL_eb66715ac6534bd3ac2bf8e0285c7c5c"
          }
        },
        "7087d07673d3428aad7cb5746424c86b": {
          "model_module": "@jupyter-widgets/controls",
          "model_name": "HTMLModel",
          "model_module_version": "1.5.0",
          "state": {
            "_dom_classes": [],
            "_model_module": "@jupyter-widgets/controls",
            "_model_module_version": "1.5.0",
            "_model_name": "HTMLModel",
            "_view_count": null,
            "_view_module": "@jupyter-widgets/controls",
            "_view_module_version": "1.5.0",
            "_view_name": "HTMLView",
            "description": "",
            "description_tooltip": null,
            "layout": "IPY_MODEL_561c7ad814d5485e8a71c23d51355802",
            "placeholder": "​",
            "style": "IPY_MODEL_a13639399a604bf490876221a9aa5ae7",
            "value": "model.safetensors: 100%"
          }
        },
        "ca2d9fdd6bec48b89696f000ebe39eda": {
          "model_module": "@jupyter-widgets/controls",
          "model_name": "FloatProgressModel",
          "model_module_version": "1.5.0",
          "state": {
            "_dom_classes": [],
            "_model_module": "@jupyter-widgets/controls",
            "_model_module_version": "1.5.0",
            "_model_name": "FloatProgressModel",
            "_view_count": null,
            "_view_module": "@jupyter-widgets/controls",
            "_view_module_version": "1.5.0",
            "_view_name": "ProgressView",
            "bar_style": "success",
            "description": "",
            "description_tooltip": null,
            "layout": "IPY_MODEL_4d76e3ef5c024c3f972248231a8874f9",
            "max": 267954768,
            "min": 0,
            "orientation": "horizontal",
            "style": "IPY_MODEL_e18caf905c96408d8546b66d78127082",
            "value": 267954768
          }
        },
        "7d11c5ef9b584507b13b80ab66eaf90f": {
          "model_module": "@jupyter-widgets/controls",
          "model_name": "HTMLModel",
          "model_module_version": "1.5.0",
          "state": {
            "_dom_classes": [],
            "_model_module": "@jupyter-widgets/controls",
            "_model_module_version": "1.5.0",
            "_model_name": "HTMLModel",
            "_view_count": null,
            "_view_module": "@jupyter-widgets/controls",
            "_view_module_version": "1.5.0",
            "_view_name": "HTMLView",
            "description": "",
            "description_tooltip": null,
            "layout": "IPY_MODEL_6e4eeaa0c8cd4c74b5e0d2e1022dade1",
            "placeholder": "​",
            "style": "IPY_MODEL_c7665494d9594a2f885ac6f2beedf97c",
            "value": " 268M/268M [00:01&lt;00:00, 203MB/s]"
          }
        },
        "eb66715ac6534bd3ac2bf8e0285c7c5c": {
          "model_module": "@jupyter-widgets/base",
          "model_name": "LayoutModel",
          "model_module_version": "1.2.0",
          "state": {
            "_model_module": "@jupyter-widgets/base",
            "_model_module_version": "1.2.0",
            "_model_name": "LayoutModel",
            "_view_count": null,
            "_view_module": "@jupyter-widgets/base",
            "_view_module_version": "1.2.0",
            "_view_name": "LayoutView",
            "align_content": null,
            "align_items": null,
            "align_self": null,
            "border": null,
            "bottom": null,
            "display": null,
            "flex": null,
            "flex_flow": null,
            "grid_area": null,
            "grid_auto_columns": null,
            "grid_auto_flow": null,
            "grid_auto_rows": null,
            "grid_column": null,
            "grid_gap": null,
            "grid_row": null,
            "grid_template_areas": null,
            "grid_template_columns": null,
            "grid_template_rows": null,
            "height": null,
            "justify_content": null,
            "justify_items": null,
            "left": null,
            "margin": null,
            "max_height": null,
            "max_width": null,
            "min_height": null,
            "min_width": null,
            "object_fit": null,
            "object_position": null,
            "order": null,
            "overflow": null,
            "overflow_x": null,
            "overflow_y": null,
            "padding": null,
            "right": null,
            "top": null,
            "visibility": null,
            "width": null
          }
        },
        "561c7ad814d5485e8a71c23d51355802": {
          "model_module": "@jupyter-widgets/base",
          "model_name": "LayoutModel",
          "model_module_version": "1.2.0",
          "state": {
            "_model_module": "@jupyter-widgets/base",
            "_model_module_version": "1.2.0",
            "_model_name": "LayoutModel",
            "_view_count": null,
            "_view_module": "@jupyter-widgets/base",
            "_view_module_version": "1.2.0",
            "_view_name": "LayoutView",
            "align_content": null,
            "align_items": null,
            "align_self": null,
            "border": null,
            "bottom": null,
            "display": null,
            "flex": null,
            "flex_flow": null,
            "grid_area": null,
            "grid_auto_columns": null,
            "grid_auto_flow": null,
            "grid_auto_rows": null,
            "grid_column": null,
            "grid_gap": null,
            "grid_row": null,
            "grid_template_areas": null,
            "grid_template_columns": null,
            "grid_template_rows": null,
            "height": null,
            "justify_content": null,
            "justify_items": null,
            "left": null,
            "margin": null,
            "max_height": null,
            "max_width": null,
            "min_height": null,
            "min_width": null,
            "object_fit": null,
            "object_position": null,
            "order": null,
            "overflow": null,
            "overflow_x": null,
            "overflow_y": null,
            "padding": null,
            "right": null,
            "top": null,
            "visibility": null,
            "width": null
          }
        },
        "a13639399a604bf490876221a9aa5ae7": {
          "model_module": "@jupyter-widgets/controls",
          "model_name": "DescriptionStyleModel",
          "model_module_version": "1.5.0",
          "state": {
            "_model_module": "@jupyter-widgets/controls",
            "_model_module_version": "1.5.0",
            "_model_name": "DescriptionStyleModel",
            "_view_count": null,
            "_view_module": "@jupyter-widgets/base",
            "_view_module_version": "1.2.0",
            "_view_name": "StyleView",
            "description_width": ""
          }
        },
        "4d76e3ef5c024c3f972248231a8874f9": {
          "model_module": "@jupyter-widgets/base",
          "model_name": "LayoutModel",
          "model_module_version": "1.2.0",
          "state": {
            "_model_module": "@jupyter-widgets/base",
            "_model_module_version": "1.2.0",
            "_model_name": "LayoutModel",
            "_view_count": null,
            "_view_module": "@jupyter-widgets/base",
            "_view_module_version": "1.2.0",
            "_view_name": "LayoutView",
            "align_content": null,
            "align_items": null,
            "align_self": null,
            "border": null,
            "bottom": null,
            "display": null,
            "flex": null,
            "flex_flow": null,
            "grid_area": null,
            "grid_auto_columns": null,
            "grid_auto_flow": null,
            "grid_auto_rows": null,
            "grid_column": null,
            "grid_gap": null,
            "grid_row": null,
            "grid_template_areas": null,
            "grid_template_columns": null,
            "grid_template_rows": null,
            "height": null,
            "justify_content": null,
            "justify_items": null,
            "left": null,
            "margin": null,
            "max_height": null,
            "max_width": null,
            "min_height": null,
            "min_width": null,
            "object_fit": null,
            "object_position": null,
            "order": null,
            "overflow": null,
            "overflow_x": null,
            "overflow_y": null,
            "padding": null,
            "right": null,
            "top": null,
            "visibility": null,
            "width": null
          }
        },
        "e18caf905c96408d8546b66d78127082": {
          "model_module": "@jupyter-widgets/controls",
          "model_name": "ProgressStyleModel",
          "model_module_version": "1.5.0",
          "state": {
            "_model_module": "@jupyter-widgets/controls",
            "_model_module_version": "1.5.0",
            "_model_name": "ProgressStyleModel",
            "_view_count": null,
            "_view_module": "@jupyter-widgets/base",
            "_view_module_version": "1.2.0",
            "_view_name": "StyleView",
            "bar_color": null,
            "description_width": ""
          }
        },
        "6e4eeaa0c8cd4c74b5e0d2e1022dade1": {
          "model_module": "@jupyter-widgets/base",
          "model_name": "LayoutModel",
          "model_module_version": "1.2.0",
          "state": {
            "_model_module": "@jupyter-widgets/base",
            "_model_module_version": "1.2.0",
            "_model_name": "LayoutModel",
            "_view_count": null,
            "_view_module": "@jupyter-widgets/base",
            "_view_module_version": "1.2.0",
            "_view_name": "LayoutView",
            "align_content": null,
            "align_items": null,
            "align_self": null,
            "border": null,
            "bottom": null,
            "display": null,
            "flex": null,
            "flex_flow": null,
            "grid_area": null,
            "grid_auto_columns": null,
            "grid_auto_flow": null,
            "grid_auto_rows": null,
            "grid_column": null,
            "grid_gap": null,
            "grid_row": null,
            "grid_template_areas": null,
            "grid_template_columns": null,
            "grid_template_rows": null,
            "height": null,
            "justify_content": null,
            "justify_items": null,
            "left": null,
            "margin": null,
            "max_height": null,
            "max_width": null,
            "min_height": null,
            "min_width": null,
            "object_fit": null,
            "object_position": null,
            "order": null,
            "overflow": null,
            "overflow_x": null,
            "overflow_y": null,
            "padding": null,
            "right": null,
            "top": null,
            "visibility": null,
            "width": null
          }
        },
        "c7665494d9594a2f885ac6f2beedf97c": {
          "model_module": "@jupyter-widgets/controls",
          "model_name": "DescriptionStyleModel",
          "model_module_version": "1.5.0",
          "state": {
            "_model_module": "@jupyter-widgets/controls",
            "_model_module_version": "1.5.0",
            "_model_name": "DescriptionStyleModel",
            "_view_count": null,
            "_view_module": "@jupyter-widgets/base",
            "_view_module_version": "1.2.0",
            "_view_name": "StyleView",
            "description_width": ""
          }
        }
      }
    }
  },
  "nbformat": 4,
  "nbformat_minor": 0
}